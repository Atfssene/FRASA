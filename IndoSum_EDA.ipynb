{
  "nbformat": 4,
  "nbformat_minor": 0,
  "metadata": {
    "colab": {
      "name": "IndoSum EDA.ipynb",
      "provenance": [],
      "collapsed_sections": [],
      "authorship_tag": "ABX9TyPgm5HExpS2vBB7h/CyLLZc",
      "include_colab_link": true
    },
    "kernelspec": {
      "name": "python3",
      "display_name": "Python 3"
    },
    "language_info": {
      "name": "python"
    }
  },
  "cells": [
    {
      "cell_type": "markdown",
      "metadata": {
        "id": "view-in-github",
        "colab_type": "text"
      },
      "source": [
        "<a href=\"https://colab.research.google.com/github/Atfssene/FRASA/blob/main/IndoSum_EDA.ipynb\" target=\"_parent\"><img src=\"https://colab.research.google.com/assets/colab-badge.svg\" alt=\"Open In Colab\"/></a>"
      ]
    },
    {
      "cell_type": "markdown",
      "metadata": {
        "id": "2fkXZcRPoCCG"
      },
      "source": [
        "# **IndoSum Dataset EDA**\n",
        "For Bangkit Capstone project our ***Potato Tech*** team need to build machine learning model for Frasa to predict a summary from a sentences.\n",
        "\n",
        "In this lab, we will do exploratory data analysis and preprocess the dataset.\n",
        "The dataset is consists of news articles and manually constructed summaries [IndoSum dataset](https://drive.google.com/file/d/1OgYbPfXFAv3TbwP1Qcwt_CC9cVWSJaco/view) from [Kurniawan, Kemal & Louvan, Samuel (2018)](https://arxiv.org/abs/1810.05334).\n",
        "\n",
        "Let's start!"
      ]
    },
    {
      "cell_type": "markdown",
      "metadata": {
        "id": "sOh-7h5k4r5_"
      },
      "source": [
        "## Preparation"
      ]
    },
    {
      "cell_type": "code",
      "metadata": {
        "colab": {
          "base_uri": "https://localhost:8080/"
        },
        "id": "IohLr_vI4ved",
        "outputId": "06319ca6-20ad-4192-9aa5-731e950eb361"
      },
      "source": [
        "!pip install Sastrawi"
      ],
      "execution_count": null,
      "outputs": [
        {
          "output_type": "stream",
          "text": [
            "Collecting Sastrawi\n",
            "\u001b[?25l  Downloading https://files.pythonhosted.org/packages/6f/4b/bab676953da3103003730b8fcdfadbdd20f333d4add10af949dd5c51e6ed/Sastrawi-1.0.1-py2.py3-none-any.whl (209kB)\n",
            "\r\u001b[K     |█▋                              | 10kB 19.7MB/s eta 0:00:01\r\u001b[K     |███▏                            | 20kB 26.1MB/s eta 0:00:01\r\u001b[K     |████▊                           | 30kB 29.9MB/s eta 0:00:01\r\u001b[K     |██████▎                         | 40kB 17.1MB/s eta 0:00:01\r\u001b[K     |███████▉                        | 51kB 16.9MB/s eta 0:00:01\r\u001b[K     |█████████▍                      | 61kB 13.7MB/s eta 0:00:01\r\u001b[K     |███████████                     | 71kB 14.6MB/s eta 0:00:01\r\u001b[K     |████████████▌                   | 81kB 14.9MB/s eta 0:00:01\r\u001b[K     |██████████████                  | 92kB 14.9MB/s eta 0:00:01\r\u001b[K     |███████████████▋                | 102kB 15.0MB/s eta 0:00:01\r\u001b[K     |█████████████████▏              | 112kB 15.0MB/s eta 0:00:01\r\u001b[K     |██████████████████▊             | 122kB 15.0MB/s eta 0:00:01\r\u001b[K     |████████████████████▎           | 133kB 15.0MB/s eta 0:00:01\r\u001b[K     |█████████████████████▉          | 143kB 15.0MB/s eta 0:00:01\r\u001b[K     |███████████████████████▍        | 153kB 15.0MB/s eta 0:00:01\r\u001b[K     |█████████████████████████       | 163kB 15.0MB/s eta 0:00:01\r\u001b[K     |██████████████████████████▋     | 174kB 15.0MB/s eta 0:00:01\r\u001b[K     |████████████████████████████▏   | 184kB 15.0MB/s eta 0:00:01\r\u001b[K     |█████████████████████████████▊  | 194kB 15.0MB/s eta 0:00:01\r\u001b[K     |███████████████████████████████▎| 204kB 15.0MB/s eta 0:00:01\r\u001b[K     |████████████████████████████████| 215kB 15.0MB/s \n",
            "\u001b[?25hInstalling collected packages: Sastrawi\n",
            "Successfully installed Sastrawi-1.0.1\n"
          ],
          "name": "stdout"
        }
      ]
    },
    {
      "cell_type": "code",
      "metadata": {
        "id": "ErTcYE0XrWzd"
      },
      "source": [
        "# Import library\n",
        "import pandas as pd\n",
        "import json\n",
        "\n",
        "from Sastrawi.StopWordRemover.StopWordRemoverFactory import StopWordRemoverFactory\n",
        "from nltk.tokenize.treebank import TreebankWordDetokenizer as untoken\n"
      ],
      "execution_count": null,
      "outputs": []
    },
    {
      "cell_type": "markdown",
      "metadata": {
        "id": "5Tjg6Eurssxh"
      },
      "source": [
        "## Load data"
      ]
    },
    {
      "cell_type": "code",
      "metadata": {
        "colab": {
          "base_uri": "https://localhost:8080/"
        },
        "id": "vhgBDlV8nxaE",
        "outputId": "e57595b8-df40-48c7-b59b-36f381801a44"
      },
      "source": [
        "# Download the data from drive\n",
        "!gdown --id 1OgYbPfXFAv3TbwP1Qcwt_CC9cVWSJaco"
      ],
      "execution_count": null,
      "outputs": [
        {
          "output_type": "stream",
          "text": [
            "Downloading...\n",
            "From: https://drive.google.com/uc?id=1OgYbPfXFAv3TbwP1Qcwt_CC9cVWSJaco\n",
            "To: /content/indosum.tar.gz\n",
            "96.0MB [00:00, 126MB/s]\n"
          ],
          "name": "stdout"
        }
      ]
    },
    {
      "cell_type": "code",
      "metadata": {
        "colab": {
          "base_uri": "https://localhost:8080/"
        },
        "id": "u6QldGMIrENs",
        "outputId": "33e9858c-9ea1-4e63-c4bf-ac2f44826cf2"
      },
      "source": [
        "# unzip\n",
        "\n",
        "!tar -xvf /content/indosum.tar.gz"
      ],
      "execution_count": null,
      "outputs": [
        {
          "output_type": "stream",
          "text": [
            "indosum/\n",
            "indosum/test.02.jsonl\n",
            "indosum/README.txt\n",
            "indosum/train.05.jsonl\n",
            "indosum/train.04.jsonl\n",
            "indosum/test.04.jsonl\n",
            "indosum/train.01.jsonl\n",
            "indosum/test.05.jsonl\n",
            "indosum/test.03.jsonl\n",
            "indosum/test.01.jsonl\n",
            "indosum/dev.04.jsonl\n",
            "indosum/dev.01.jsonl\n",
            "indosum/dev.02.jsonl\n",
            "indosum/train.02.jsonl\n",
            "indosum/dev.03.jsonl\n",
            "indosum/dev.05.jsonl\n",
            "indosum/CHANGELOG.txt\n",
            "indosum/train.03.jsonl\n"
          ],
          "name": "stdout"
        }
      ]
    },
    {
      "cell_type": "code",
      "metadata": {
        "id": "XylN9V7BsG2M"
      },
      "source": [
        "# We will use the first-fold data (train, dev, test)\n",
        "\n",
        "url = \"/content/indosum/train.01.jsonl\"\n",
        "with open(url, 'r') as f:\n",
        "    data = f.readlines()\n",
        "    train = list(map(json.loads, data)) \n",
        "\n",
        "train = pd.DataFrame(train)\n"
      ],
      "execution_count": null,
      "outputs": []
    },
    {
      "cell_type": "markdown",
      "metadata": {
        "id": "tvq19V2dxrEE"
      },
      "source": [
        "## Exploratoratory"
      ]
    },
    {
      "cell_type": "code",
      "metadata": {
        "colab": {
          "base_uri": "https://localhost:8080/"
        },
        "id": "nJXb3WyB2lRI",
        "outputId": "58b77e87-3cde-4ab9-8c08-b902a428558a"
      },
      "source": [
        "train.info()"
      ],
      "execution_count": null,
      "outputs": [
        {
          "output_type": "stream",
          "text": [
            "<class 'pandas.core.frame.DataFrame'>\n",
            "RangeIndex: 14262 entries, 0 to 14261\n",
            "Data columns (total 7 columns):\n",
            " #   Column       Non-Null Count  Dtype \n",
            "---  ------       --------------  ----- \n",
            " 0   category     14262 non-null  object\n",
            " 1   gold_labels  14262 non-null  object\n",
            " 2   id           14262 non-null  object\n",
            " 3   paragraphs   14262 non-null  object\n",
            " 4   source       14262 non-null  object\n",
            " 5   source_url   14262 non-null  object\n",
            " 6   summary      14262 non-null  object\n",
            "dtypes: object(7)\n",
            "memory usage: 780.1+ KB\n"
          ],
          "name": "stdout"
        }
      ]
    },
    {
      "cell_type": "markdown",
      "metadata": {
        "id": "IW2n9hqxtFLC"
      },
      "source": [
        "Now we know the dataset consist of 7 columns and probably we will just take some of the column that related to this summarization work.\n",
        "\n",
        "To make we sure what columns should we choose, let's take a look at some rows."
      ]
    },
    {
      "cell_type": "code",
      "metadata": {
        "colab": {
          "base_uri": "https://localhost:8080/",
          "height": 581
        },
        "id": "0TwsdFQlsgK-",
        "outputId": "f51976f5-3522-4680-8840-21a8a0ec80dc"
      },
      "source": [
        "train.head()"
      ],
      "execution_count": null,
      "outputs": [
        {
          "output_type": "execute_result",
          "data": {
            "text/html": [
              "<div>\n",
              "<style scoped>\n",
              "    .dataframe tbody tr th:only-of-type {\n",
              "        vertical-align: middle;\n",
              "    }\n",
              "\n",
              "    .dataframe tbody tr th {\n",
              "        vertical-align: top;\n",
              "    }\n",
              "\n",
              "    .dataframe thead th {\n",
              "        text-align: right;\n",
              "    }\n",
              "</style>\n",
              "<table border=\"1\" class=\"dataframe\">\n",
              "  <thead>\n",
              "    <tr style=\"text-align: right;\">\n",
              "      <th></th>\n",
              "      <th>category</th>\n",
              "      <th>gold_labels</th>\n",
              "      <th>id</th>\n",
              "      <th>paragraphs</th>\n",
              "      <th>source</th>\n",
              "      <th>source_url</th>\n",
              "      <th>summary</th>\n",
              "    </tr>\n",
              "  </thead>\n",
              "  <tbody>\n",
              "    <tr>\n",
              "      <th>0</th>\n",
              "      <td>tajuk utama</td>\n",
              "      <td>[[False, True], [True, True], [False, False, F...</td>\n",
              "      <td>1501893029-lula-kamal-dokter-ryan-thamrin-saki...</td>\n",
              "      <td>[[[Jakarta, ,, CNN, Indonesia, -, -, Dokter, R...</td>\n",
              "      <td>cnn indonesia</td>\n",
              "      <td>https://www.cnnindonesia.com/hiburan/201708041...</td>\n",
              "      <td>[[Dokter, Lula, Kamal, yang, merupakan, selebr...</td>\n",
              "    </tr>\n",
              "    <tr>\n",
              "      <th>1</th>\n",
              "      <td>teknologi</td>\n",
              "      <td>[[False, False, False, False], [False, True, T...</td>\n",
              "      <td>1509072914-dua-smartphone-zenfone-baru-tawarka...</td>\n",
              "      <td>[[[Selfie, ialah, salah, satu, tema, terpanas,...</td>\n",
              "      <td>dailysocial.id</td>\n",
              "      <td>https://dailysocial.id/post/dua-smartphone-zen...</td>\n",
              "      <td>[[Asus, memperkenalkan,  , ZenFone, generasi, ...</td>\n",
              "    </tr>\n",
              "    <tr>\n",
              "      <th>2</th>\n",
              "      <td>hiburan</td>\n",
              "      <td>[[True], [True], [False, False], [False], [Fal...</td>\n",
              "      <td>1510613677-songsong-visit-2020-bengkulu-perkua...</td>\n",
              "      <td>[[[Jakarta, ,, CNN, Indonesia, -, -, Dinas, Pa...</td>\n",
              "      <td>cnn indonesia</td>\n",
              "      <td>https://www.cnnindonesia.com/gaya-hidup/201711...</td>\n",
              "      <td>[[Dinas, Pariwisata, Provinsi, Bengkulu, kemba...</td>\n",
              "    </tr>\n",
              "    <tr>\n",
              "      <th>3</th>\n",
              "      <td>tajuk utama</td>\n",
              "      <td>[[True, True], [False, False, False], [True], ...</td>\n",
              "      <td>1502706803-icw-ada-kejanggalan-atas-tewasnya-s...</td>\n",
              "      <td>[[[Merdeka.com, -, Indonesia, Corruption, Watc...</td>\n",
              "      <td>merdeka</td>\n",
              "      <td>https://www.merdeka.com/peristiwa/icw-merasa-a...</td>\n",
              "      <td>[[Indonesia, Corruption, Watch, (, ICW, ), mem...</td>\n",
              "    </tr>\n",
              "    <tr>\n",
              "      <th>4</th>\n",
              "      <td>tajuk utama</td>\n",
              "      <td>[[False, True], [True, True, True], [False], [...</td>\n",
              "      <td>1503039338-pembagian-sepeda-usai-upacara-penur...</td>\n",
              "      <td>[[[Merdeka.com, -, Presiden, Joko, Widodo, (, ...</td>\n",
              "      <td>merdeka</td>\n",
              "      <td>https://www.merdeka.com/peristiwa/usai-upacara...</td>\n",
              "      <td>[[Jokowi, memimpin, upacara, penurunan, bender...</td>\n",
              "    </tr>\n",
              "  </tbody>\n",
              "</table>\n",
              "</div>"
            ],
            "text/plain": [
              "      category  ...                                            summary\n",
              "0  tajuk utama  ...  [[Dokter, Lula, Kamal, yang, merupakan, selebr...\n",
              "1    teknologi  ...  [[Asus, memperkenalkan,  , ZenFone, generasi, ...\n",
              "2      hiburan  ...  [[Dinas, Pariwisata, Provinsi, Bengkulu, kemba...\n",
              "3  tajuk utama  ...  [[Indonesia, Corruption, Watch, (, ICW, ), mem...\n",
              "4  tajuk utama  ...  [[Jokowi, memimpin, upacara, penurunan, bender...\n",
              "\n",
              "[5 rows x 7 columns]"
            ]
          },
          "metadata": {
            "tags": []
          },
          "execution_count": 13
        }
      ]
    },
    {
      "cell_type": "markdown",
      "metadata": {
        "id": "yk4LR5qnuJRy"
      },
      "source": [
        "Wow... that's a unique dataset we have here!\n",
        "\n",
        "1. The news content and summary are raw text but tokenized.\n",
        "2. Punctuation has not been removed, also with that capital letter.\n",
        "3. Column gold_labels is a boolean list of main idea sentences in paragraphs.\n",
        "\n",
        "From this result, the columns will be used are **gold_labels, paragraphs**, and **summary**."
      ]
    },
    {
      "cell_type": "code",
      "metadata": {
        "colab": {
          "base_uri": "https://localhost:8080/",
          "height": 442
        },
        "id": "68HETfHoriuy",
        "outputId": "d1581a49-fd12-4add-9ec9-17ab3c1bf942"
      },
      "source": [
        "df_train = train[['gold_labels', 'paragraphs', 'summary']].copy()  \n",
        "\n",
        "df_train.info()\n",
        "df_train.head()"
      ],
      "execution_count": null,
      "outputs": [
        {
          "output_type": "stream",
          "text": [
            "<class 'pandas.core.frame.DataFrame'>\n",
            "RangeIndex: 14262 entries, 0 to 14261\n",
            "Data columns (total 3 columns):\n",
            " #   Column       Non-Null Count  Dtype \n",
            "---  ------       --------------  ----- \n",
            " 0   gold_labels  14262 non-null  object\n",
            " 1   paragraphs   14262 non-null  object\n",
            " 2   summary      14262 non-null  object\n",
            "dtypes: object(3)\n",
            "memory usage: 334.4+ KB\n"
          ],
          "name": "stdout"
        },
        {
          "output_type": "execute_result",
          "data": {
            "text/html": [
              "<div>\n",
              "<style scoped>\n",
              "    .dataframe tbody tr th:only-of-type {\n",
              "        vertical-align: middle;\n",
              "    }\n",
              "\n",
              "    .dataframe tbody tr th {\n",
              "        vertical-align: top;\n",
              "    }\n",
              "\n",
              "    .dataframe thead th {\n",
              "        text-align: right;\n",
              "    }\n",
              "</style>\n",
              "<table border=\"1\" class=\"dataframe\">\n",
              "  <thead>\n",
              "    <tr style=\"text-align: right;\">\n",
              "      <th></th>\n",
              "      <th>gold_labels</th>\n",
              "      <th>paragraphs</th>\n",
              "      <th>summary</th>\n",
              "    </tr>\n",
              "  </thead>\n",
              "  <tbody>\n",
              "    <tr>\n",
              "      <th>0</th>\n",
              "      <td>[[False, True], [True, True], [False, False, F...</td>\n",
              "      <td>[[[Jakarta, ,, CNN, Indonesia, -, -, Dokter, R...</td>\n",
              "      <td>[[Dokter, Lula, Kamal, yang, merupakan, selebr...</td>\n",
              "    </tr>\n",
              "    <tr>\n",
              "      <th>1</th>\n",
              "      <td>[[False, False, False, False], [False, True, T...</td>\n",
              "      <td>[[[Selfie, ialah, salah, satu, tema, terpanas,...</td>\n",
              "      <td>[[Asus, memperkenalkan,  , ZenFone, generasi, ...</td>\n",
              "    </tr>\n",
              "    <tr>\n",
              "      <th>2</th>\n",
              "      <td>[[True], [True], [False, False], [False], [Fal...</td>\n",
              "      <td>[[[Jakarta, ,, CNN, Indonesia, -, -, Dinas, Pa...</td>\n",
              "      <td>[[Dinas, Pariwisata, Provinsi, Bengkulu, kemba...</td>\n",
              "    </tr>\n",
              "    <tr>\n",
              "      <th>3</th>\n",
              "      <td>[[True, True], [False, False, False], [True], ...</td>\n",
              "      <td>[[[Merdeka.com, -, Indonesia, Corruption, Watc...</td>\n",
              "      <td>[[Indonesia, Corruption, Watch, (, ICW, ), mem...</td>\n",
              "    </tr>\n",
              "    <tr>\n",
              "      <th>4</th>\n",
              "      <td>[[False, True], [True, True, True], [False], [...</td>\n",
              "      <td>[[[Merdeka.com, -, Presiden, Joko, Widodo, (, ...</td>\n",
              "      <td>[[Jokowi, memimpin, upacara, penurunan, bender...</td>\n",
              "    </tr>\n",
              "  </tbody>\n",
              "</table>\n",
              "</div>"
            ],
            "text/plain": [
              "                                         gold_labels  ...                                            summary\n",
              "0  [[False, True], [True, True], [False, False, F...  ...  [[Dokter, Lula, Kamal, yang, merupakan, selebr...\n",
              "1  [[False, False, False, False], [False, True, T...  ...  [[Asus, memperkenalkan,  , ZenFone, generasi, ...\n",
              "2  [[True], [True], [False, False], [False], [Fal...  ...  [[Dinas, Pariwisata, Provinsi, Bengkulu, kemba...\n",
              "3  [[True, True], [False, False, False], [True], ...  ...  [[Indonesia, Corruption, Watch, (, ICW, ), mem...\n",
              "4  [[False, True], [True, True, True], [False], [...  ...  [[Jokowi, memimpin, upacara, penurunan, bender...\n",
              "\n",
              "[5 rows x 3 columns]"
            ]
          },
          "metadata": {
            "tags": []
          },
          "execution_count": 14
        }
      ]
    },
    {
      "cell_type": "markdown",
      "metadata": {
        "id": "1mJMevl20oin"
      },
      "source": [
        "Let's check if we had empty value."
      ]
    },
    {
      "cell_type": "code",
      "metadata": {
        "colab": {
          "base_uri": "https://localhost:8080/"
        },
        "id": "iuOPsii1zqFZ",
        "outputId": "d024ce4d-3a6a-4d83-8beb-1169ba37568b"
      },
      "source": [
        "df_train.isnull().any()"
      ],
      "execution_count": null,
      "outputs": [
        {
          "output_type": "execute_result",
          "data": {
            "text/plain": [
              "gold_labels    False\n",
              "paragraphs     False\n",
              "summary        False\n",
              "dtype: bool"
            ]
          },
          "metadata": {
            "tags": []
          },
          "execution_count": 16
        }
      ]
    },
    {
      "cell_type": "markdown",
      "metadata": {
        "id": "snA4fJLH0utb"
      },
      "source": [
        "Great!\n",
        "\n",
        "No empty value here from **14262 rows** data.\n",
        "\n",
        "That's mean we can start preprocessing the dataset.\n",
        "For text-type dataset, we need to do some steps:\n",
        "1. Cleaning punctuation\n",
        "2. Stemming\n",
        "3. Remove stopwords\n",
        "4. Lowercasing letter"
      ]
    },
    {
      "cell_type": "code",
      "metadata": {
        "id": "x9gHQ5GW0mDt"
      },
      "source": [
        ""
      ],
      "execution_count": null,
      "outputs": []
    }
  ]
}