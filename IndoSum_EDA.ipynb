{
  "nbformat": 4,
  "nbformat_minor": 0,
  "metadata": {
    "colab": {
      "name": "IndoSum EDA.ipynb",
      "provenance": [],
      "collapsed_sections": [],
      "toc_visible": true,
      "mount_file_id": "11ejzhbKrcRL4MYwWjOgZtlkotHLR2jbI",
      "authorship_tag": "ABX9TyPctnL8OymiqDpXnUtBgb9d",
      "include_colab_link": true
    },
    "kernelspec": {
      "name": "python3",
      "display_name": "Python 3"
    },
    "language_info": {
      "name": "python"
    }
  },
  "cells": [
    {
      "cell_type": "markdown",
      "metadata": {
        "id": "view-in-github",
        "colab_type": "text"
      },
      "source": [
        "<a href=\"https://colab.research.google.com/github/Atfssene/FRASA/blob/main/IndoSum_EDA.ipynb\" target=\"_parent\"><img src=\"https://colab.research.google.com/assets/colab-badge.svg\" alt=\"Open In Colab\"/></a>"
      ]
    },
    {
      "cell_type": "markdown",
      "metadata": {
        "id": "2fkXZcRPoCCG"
      },
      "source": [
        "# **IndoSum Dataset EDA**\n",
        "**Potato Tech** team build an app that named **Frasa** for capstone project. So we will build machine learning model for Frasa to predict a summary from a sentences.\n",
        "\n",
        "In this lab, we will do exploratory data analysis and preprocess the dataset.\n",
        "The dataset is consists of news articles and manually constructed summaries [IndoSum dataset](https://drive.google.com/file/d/1OgYbPfXFAv3TbwP1Qcwt_CC9cVWSJaco/view) from [Kurniawan, Kemal & Louvan, Samuel (2018)](https://arxiv.org/abs/1810.05334).\n",
        "\n",
        "Let's start!"
      ]
    },
    {
      "cell_type": "markdown",
      "metadata": {
        "id": "sOh-7h5k4r5_"
      },
      "source": [
        "## Preparation"
      ]
    },
    {
      "cell_type": "code",
      "metadata": {
        "colab": {
          "base_uri": "https://localhost:8080/"
        },
        "id": "IohLr_vI4ved",
        "outputId": "ac399c31-4508-4a83-e751-afbf2a5bfa0d"
      },
      "source": [
        "!pip install Sastrawi"
      ],
      "execution_count": 1,
      "outputs": [
        {
          "output_type": "stream",
          "text": [
            "Requirement already satisfied: Sastrawi in /usr/local/lib/python3.7/dist-packages (1.0.1)\n"
          ],
          "name": "stdout"
        }
      ]
    },
    {
      "cell_type": "code",
      "metadata": {
        "id": "ErTcYE0XrWzd"
      },
      "source": [
        "# Import library\n",
        "import pandas as pd\n",
        "import json\n",
        "\n",
        "from Sastrawi.StopWordRemover.StopWordRemoverFactory import StopWordRemoverFactory\n",
        "from nltk.tokenize.treebank import TreebankWordDetokenizer as untoken\n"
      ],
      "execution_count": 2,
      "outputs": []
    },
    {
      "cell_type": "markdown",
      "metadata": {
        "id": "5Tjg6Eurssxh"
      },
      "source": [
        "## Load data"
      ]
    },
    {
      "cell_type": "code",
      "metadata": {
        "colab": {
          "base_uri": "https://localhost:8080/"
        },
        "id": "vhgBDlV8nxaE",
        "outputId": "5f0f7a9b-4e3c-4b92-8a36-a7380bfac6cf"
      },
      "source": [
        "# Download and extract the dataset\n",
        "!gdown --id 1OgYbPfXFAv3TbwP1Qcwt_CC9cVWSJaco\n",
        "!tar -xvf /content/indosum.tar.gz"
      ],
      "execution_count": 3,
      "outputs": [
        {
          "output_type": "stream",
          "text": [
            "Downloading...\n",
            "From: https://drive.google.com/uc?id=1OgYbPfXFAv3TbwP1Qcwt_CC9cVWSJaco\n",
            "To: /content/indosum.tar.gz\n",
            "96.0MB [00:00, 156MB/s]\n",
            "indosum/\n",
            "indosum/test.02.jsonl\n",
            "indosum/README.txt\n",
            "indosum/train.05.jsonl\n",
            "indosum/train.04.jsonl\n",
            "indosum/test.04.jsonl\n",
            "indosum/train.01.jsonl\n",
            "indosum/test.05.jsonl\n",
            "indosum/test.03.jsonl\n",
            "indosum/test.01.jsonl\n",
            "indosum/dev.04.jsonl\n",
            "indosum/dev.01.jsonl\n",
            "indosum/dev.02.jsonl\n",
            "indosum/train.02.jsonl\n",
            "indosum/dev.03.jsonl\n",
            "indosum/dev.05.jsonl\n",
            "indosum/CHANGELOG.txt\n",
            "indosum/train.03.jsonl\n"
          ],
          "name": "stdout"
        }
      ]
    },
    {
      "cell_type": "code",
      "metadata": {
        "id": "XylN9V7BsG2M"
      },
      "source": [
        "# We will use the first-fold data (train, dev, test)\n",
        "files=['/content/indosum/train.01.jsonl',\n",
        "       '/content/indosum/dev.01.jsonl',\n",
        "       '/content/indosum/test.01.jsonl']\n",
        "\n",
        "# url = \"/content/train.json\"\n",
        "\n",
        "with open(files[0], 'r') as f, open(files[1], 'r') as ft, open(files[2], 'r') as ftest:\n",
        "  data_train = f.readlines()\n",
        "  data_train = list(map(json.loads, data_train))\n",
        "  data_dev = ft.readlines()\n",
        "  data_dev = list(map(json.loads, data_dev))\n",
        "  df1 = pd.DataFrame(data_train)\n",
        "  df2 = pd.DataFrame(data_dev)\n",
        "\n",
        "  data_test = ftest.readlines()\n",
        "  data_test = list(map(json.loads, data_test))\n",
        "\n",
        "test = pd.DataFrame(data_test)\n",
        "train = pd.concat([df1, df2])\n"
      ],
      "execution_count": 4,
      "outputs": []
    },
    {
      "cell_type": "markdown",
      "metadata": {
        "id": "tvq19V2dxrEE"
      },
      "source": [
        "## Exploratoratory"
      ]
    },
    {
      "cell_type": "code",
      "metadata": {
        "colab": {
          "base_uri": "https://localhost:8080/"
        },
        "id": "nJXb3WyB2lRI",
        "outputId": "15def7a3-8ac8-4e25-ff01-5ccf249dc7c8"
      },
      "source": [
        "print(train.info())\n",
        "print(test.info())"
      ],
      "execution_count": 5,
      "outputs": [
        {
          "output_type": "stream",
          "text": [
            "<class 'pandas.core.frame.DataFrame'>\n",
            "Int64Index: 15012 entries, 0 to 749\n",
            "Data columns (total 7 columns):\n",
            " #   Column       Non-Null Count  Dtype \n",
            "---  ------       --------------  ----- \n",
            " 0   category     15012 non-null  object\n",
            " 1   gold_labels  15012 non-null  object\n",
            " 2   id           15012 non-null  object\n",
            " 3   paragraphs   15012 non-null  object\n",
            " 4   source       15012 non-null  object\n",
            " 5   source_url   15012 non-null  object\n",
            " 6   summary      15012 non-null  object\n",
            "dtypes: object(7)\n",
            "memory usage: 938.2+ KB\n",
            "None\n",
            "<class 'pandas.core.frame.DataFrame'>\n",
            "RangeIndex: 3762 entries, 0 to 3761\n",
            "Data columns (total 7 columns):\n",
            " #   Column       Non-Null Count  Dtype \n",
            "---  ------       --------------  ----- \n",
            " 0   category     3762 non-null   object\n",
            " 1   gold_labels  3762 non-null   object\n",
            " 2   id           3762 non-null   object\n",
            " 3   paragraphs   3762 non-null   object\n",
            " 4   source       3762 non-null   object\n",
            " 5   source_url   3762 non-null   object\n",
            " 6   summary      3762 non-null   object\n",
            "dtypes: object(7)\n",
            "memory usage: 205.9+ KB\n",
            "None\n"
          ],
          "name": "stdout"
        }
      ]
    },
    {
      "cell_type": "markdown",
      "metadata": {
        "id": "IW2n9hqxtFLC"
      },
      "source": [
        "Now we know the dataset consist of 7 columns and probably we will just take some of the column that related to this summarization work.\n",
        "\n",
        "To make we sure what columns should we choose, let's take a look at some rows."
      ]
    },
    {
      "cell_type": "code",
      "metadata": {
        "colab": {
          "base_uri": "https://localhost:8080/",
          "height": 581
        },
        "id": "0TwsdFQlsgK-",
        "outputId": "71d35367-6169-421f-a886-f7794b2e6bad"
      },
      "source": [
        "train.head()"
      ],
      "execution_count": 6,
      "outputs": [
        {
          "output_type": "execute_result",
          "data": {
            "text/html": [
              "<div>\n",
              "<style scoped>\n",
              "    .dataframe tbody tr th:only-of-type {\n",
              "        vertical-align: middle;\n",
              "    }\n",
              "\n",
              "    .dataframe tbody tr th {\n",
              "        vertical-align: top;\n",
              "    }\n",
              "\n",
              "    .dataframe thead th {\n",
              "        text-align: right;\n",
              "    }\n",
              "</style>\n",
              "<table border=\"1\" class=\"dataframe\">\n",
              "  <thead>\n",
              "    <tr style=\"text-align: right;\">\n",
              "      <th></th>\n",
              "      <th>category</th>\n",
              "      <th>gold_labels</th>\n",
              "      <th>id</th>\n",
              "      <th>paragraphs</th>\n",
              "      <th>source</th>\n",
              "      <th>source_url</th>\n",
              "      <th>summary</th>\n",
              "    </tr>\n",
              "  </thead>\n",
              "  <tbody>\n",
              "    <tr>\n",
              "      <th>0</th>\n",
              "      <td>tajuk utama</td>\n",
              "      <td>[[False, True], [True, True], [False, False, F...</td>\n",
              "      <td>1501893029-lula-kamal-dokter-ryan-thamrin-saki...</td>\n",
              "      <td>[[[Jakarta, ,, CNN, Indonesia, -, -, Dokter, R...</td>\n",
              "      <td>cnn indonesia</td>\n",
              "      <td>https://www.cnnindonesia.com/hiburan/201708041...</td>\n",
              "      <td>[[Dokter, Lula, Kamal, yang, merupakan, selebr...</td>\n",
              "    </tr>\n",
              "    <tr>\n",
              "      <th>1</th>\n",
              "      <td>teknologi</td>\n",
              "      <td>[[False, False, False, False], [False, True, T...</td>\n",
              "      <td>1509072914-dua-smartphone-zenfone-baru-tawarka...</td>\n",
              "      <td>[[[Selfie, ialah, salah, satu, tema, terpanas,...</td>\n",
              "      <td>dailysocial.id</td>\n",
              "      <td>https://dailysocial.id/post/dua-smartphone-zen...</td>\n",
              "      <td>[[Asus, memperkenalkan,  , ZenFone, generasi, ...</td>\n",
              "    </tr>\n",
              "    <tr>\n",
              "      <th>2</th>\n",
              "      <td>hiburan</td>\n",
              "      <td>[[True], [True], [False, False], [False], [Fal...</td>\n",
              "      <td>1510613677-songsong-visit-2020-bengkulu-perkua...</td>\n",
              "      <td>[[[Jakarta, ,, CNN, Indonesia, -, -, Dinas, Pa...</td>\n",
              "      <td>cnn indonesia</td>\n",
              "      <td>https://www.cnnindonesia.com/gaya-hidup/201711...</td>\n",
              "      <td>[[Dinas, Pariwisata, Provinsi, Bengkulu, kemba...</td>\n",
              "    </tr>\n",
              "    <tr>\n",
              "      <th>3</th>\n",
              "      <td>tajuk utama</td>\n",
              "      <td>[[True, True], [False, False, False], [True], ...</td>\n",
              "      <td>1502706803-icw-ada-kejanggalan-atas-tewasnya-s...</td>\n",
              "      <td>[[[Merdeka.com, -, Indonesia, Corruption, Watc...</td>\n",
              "      <td>merdeka</td>\n",
              "      <td>https://www.merdeka.com/peristiwa/icw-merasa-a...</td>\n",
              "      <td>[[Indonesia, Corruption, Watch, (, ICW, ), mem...</td>\n",
              "    </tr>\n",
              "    <tr>\n",
              "      <th>4</th>\n",
              "      <td>tajuk utama</td>\n",
              "      <td>[[False, True], [True, True, True], [False], [...</td>\n",
              "      <td>1503039338-pembagian-sepeda-usai-upacara-penur...</td>\n",
              "      <td>[[[Merdeka.com, -, Presiden, Joko, Widodo, (, ...</td>\n",
              "      <td>merdeka</td>\n",
              "      <td>https://www.merdeka.com/peristiwa/usai-upacara...</td>\n",
              "      <td>[[Jokowi, memimpin, upacara, penurunan, bender...</td>\n",
              "    </tr>\n",
              "  </tbody>\n",
              "</table>\n",
              "</div>"
            ],
            "text/plain": [
              "      category  ...                                            summary\n",
              "0  tajuk utama  ...  [[Dokter, Lula, Kamal, yang, merupakan, selebr...\n",
              "1    teknologi  ...  [[Asus, memperkenalkan,  , ZenFone, generasi, ...\n",
              "2      hiburan  ...  [[Dinas, Pariwisata, Provinsi, Bengkulu, kemba...\n",
              "3  tajuk utama  ...  [[Indonesia, Corruption, Watch, (, ICW, ), mem...\n",
              "4  tajuk utama  ...  [[Jokowi, memimpin, upacara, penurunan, bender...\n",
              "\n",
              "[5 rows x 7 columns]"
            ]
          },
          "metadata": {
            "tags": []
          },
          "execution_count": 6
        }
      ]
    },
    {
      "cell_type": "markdown",
      "metadata": {
        "id": "yk4LR5qnuJRy"
      },
      "source": [
        "From here, we can see our raw data have:\n",
        "\n",
        "1. Tokenized text in paragraphs and summary.\n",
        "2. Punctuation wasn't cleaned.\n",
        "3. Lowercase and uppercase letters.\n",
        "3. Column gold_labels is a boolean list of main idea sentences in paragraphs (for extractive summarization)\n",
        "4. This dataset had 7 columns and 15012 rows.\n",
        "\n",
        "For next, the columns will be used are **gold_labels, paragraphs**, and **summary**.\n"
      ]
    },
    {
      "cell_type": "markdown",
      "metadata": {
        "id": "tZCX26ZoHFBa"
      },
      "source": [
        "## Preprocessing"
      ]
    },
    {
      "cell_type": "markdown",
      "metadata": {
        "id": "Mz14lL5Me1iu"
      },
      "source": [
        "We will set the **paragraphs** and **summary** as paragraph instead tokenized string."
      ]
    },
    {
      "cell_type": "code",
      "metadata": {
        "id": "Fg1ARmKIDuVk"
      },
      "source": [
        "def untokenizer(dataframe_row, axis):\n",
        "  text_list = []\n",
        "  for data in dataframe_row:\n",
        "    string = \"\"\n",
        "    if axis == 0:\n",
        "      for t in data:\n",
        "        for text in t:\n",
        "          string = string + untoken().detokenize(text) + \" \"\n",
        "    else:\n",
        "      for text in data:\n",
        "          string = string + untoken().detokenize(text) + \" \"\n",
        "    text_list.append(string)\n",
        "  return text_list\n"
      ],
      "execution_count": 7,
      "outputs": []
    },
    {
      "cell_type": "code",
      "metadata": {
        "id": "QJXWxIJvEGJ5"
      },
      "source": [
        "train['paragraphs_cleaned'] = untokenizer(train['paragraphs'], 0)\n",
        "train['summary_cleaned'] = untokenizer(train['summary'], 1)\n",
        "test['paragraphs_cleaned'] = untokenizer(test['paragraphs'], 0)\n",
        "test['summary_cleaned'] = untokenizer(test['summary'], 1)\n"
      ],
      "execution_count": 8,
      "outputs": []
    },
    {
      "cell_type": "code",
      "metadata": {
        "colab": {
          "base_uri": "https://localhost:8080/"
        },
        "id": "e4bZTTYkFgBL",
        "outputId": "8cfdeb96-756d-4f77-b062-e9117be39647"
      },
      "source": [
        "pd.set_option('display.max_columns', None)\n",
        "pd.set_option(\"display.max_colwidth\", None)\n",
        "\n",
        "train.info()\n",
        "test.info()"
      ],
      "execution_count": 9,
      "outputs": [
        {
          "output_type": "stream",
          "text": [
            "<class 'pandas.core.frame.DataFrame'>\n",
            "Int64Index: 15012 entries, 0 to 749\n",
            "Data columns (total 9 columns):\n",
            " #   Column              Non-Null Count  Dtype \n",
            "---  ------              --------------  ----- \n",
            " 0   category            15012 non-null  object\n",
            " 1   gold_labels         15012 non-null  object\n",
            " 2   id                  15012 non-null  object\n",
            " 3   paragraphs          15012 non-null  object\n",
            " 4   source              15012 non-null  object\n",
            " 5   source_url          15012 non-null  object\n",
            " 6   summary             15012 non-null  object\n",
            " 7   paragraphs_cleaned  15012 non-null  object\n",
            " 8   summary_cleaned     15012 non-null  object\n",
            "dtypes: object(9)\n",
            "memory usage: 1.1+ MB\n",
            "<class 'pandas.core.frame.DataFrame'>\n",
            "RangeIndex: 3762 entries, 0 to 3761\n",
            "Data columns (total 9 columns):\n",
            " #   Column              Non-Null Count  Dtype \n",
            "---  ------              --------------  ----- \n",
            " 0   category            3762 non-null   object\n",
            " 1   gold_labels         3762 non-null   object\n",
            " 2   id                  3762 non-null   object\n",
            " 3   paragraphs          3762 non-null   object\n",
            " 4   source              3762 non-null   object\n",
            " 5   source_url          3762 non-null   object\n",
            " 6   summary             3762 non-null   object\n",
            " 7   paragraphs_cleaned  3762 non-null   object\n",
            " 8   summary_cleaned     3762 non-null   object\n",
            "dtypes: object(9)\n",
            "memory usage: 264.6+ KB\n"
          ],
          "name": "stdout"
        }
      ]
    },
    {
      "cell_type": "code",
      "metadata": {
        "colab": {
          "base_uri": "https://localhost:8080/",
          "height": 437
        },
        "id": "RPlt1jkHeWGj",
        "outputId": "21c0bd84-5c31-4b49-8207-ca56d222393f"
      },
      "source": [
        "train[['paragraphs_cleaned', 'summary_cleaned']].head(1)"
      ],
      "execution_count": 10,
      "outputs": [
        {
          "output_type": "execute_result",
          "data": {
            "text/html": [
              "<div>\n",
              "<style scoped>\n",
              "    .dataframe tbody tr th:only-of-type {\n",
              "        vertical-align: middle;\n",
              "    }\n",
              "\n",
              "    .dataframe tbody tr th {\n",
              "        vertical-align: top;\n",
              "    }\n",
              "\n",
              "    .dataframe thead th {\n",
              "        text-align: right;\n",
              "    }\n",
              "</style>\n",
              "<table border=\"1\" class=\"dataframe\">\n",
              "  <thead>\n",
              "    <tr style=\"text-align: right;\">\n",
              "      <th></th>\n",
              "      <th>paragraphs_cleaned</th>\n",
              "      <th>summary_cleaned</th>\n",
              "    </tr>\n",
              "  </thead>\n",
              "  <tbody>\n",
              "    <tr>\n",
              "      <th>0</th>\n",
              "      <td>Jakarta, CNN Indonesia - - Dokter Ryan Thamrin, yang terkenal lewat acara Dokter Oz Indonesia, meninggal dunia pada Jumat (4 / 8) dini hari. Dokter Lula Kamal yang merupakan selebriti sekaligus rekan kerja Ryan menyebut kawannya itu sudah sakit sejak setahun yang lalu. Lula menuturkan, sakit itu membuat Ryan mesti vakum dari semua kegiatannya, termasuk menjadi pembawa acara Dokter Oz Indonesia. Kondisi itu membuat Ryan harus kembali ke kampung halamannya di Pekanbaru, Riau untuk menjalani istirahat. \" Setahu saya dia orangnya sehat, tapi tahun lalu saya dengar dia sakit. ( Karena) sakitnya, ia langsung pulang ke Pekanbaru, jadi kami yang mau jenguk juga susah. Barangkali mau istirahat, ya betul juga, kalau di Jakarta susah isirahatnya, \" kata Lula kepada CNNIndonesia.com, Jumat (4 / 8). Lula yang mengenal Ryan sejak sebelum aktif berkarier di televisi mengaku belum sempat membesuk Ryan lantaran lokasi yang jauh. Dia juga tak tahu penyakit apa yang diderita Ryan. \" Itu saya enggak tahu, belum sempat jenguk dan enggak selamanya bisa dijenguk juga. Enggak tahu berat sekali apa bagaimana, \" tutur Ryan. Walau sudah setahun menderita sakit, Lula tak mengetahui apa penyebab pasti kematian Dr Oz Indonesia itu. Meski demikian, ia mendengar beberapa kabar yang menyebut bahwa penyebab Ryan meninggal adalah karena jatuh di kamar mandi. “ Saya tidak tahu, barangkali penyakit yang dulu sama yang sekarang berbeda, atau penyebab kematiannya beda dari penyakit sebelumnya. Kita kan enggak bisa mengambil kesimpulan, \" kata Lula. Ryan Thamrin terkenal sebagai dokter yang rutin membagikan tips dan informasi kesehatan lewat tayangan Dokter Oz Indonesia. Ryan menempuh Pendidikan Dokter pada tahun 2002 di Fakultas Kedokteran Universitas Gadjah Mada. Dia kemudian melanjutkan pendidikan Klinis Kesehatan Reproduksi dan Penyakit Menular Seksual di Mahachulalongkornrajavidyalaya University, Bangkok, Thailand pada 2004.</td>\n",
              "      <td>Dokter Lula Kamal yang merupakan selebriti sekaligus rekan kerja Ryan Thamrin menyebut kawannya itu sudah sakit sejak setahun yang lalu. Lula menuturkan, sakit itu membuat Ryan mesti vakum dari semua kegiatannya, termasuk menjadi pembawa acara Dokter Oz Indonesia. Kondisi itu membuat Ryan harus kembali ke kampung halamannya di Pekanbaru, Riau untuk menjalani istirahat.</td>\n",
              "    </tr>\n",
              "  </tbody>\n",
              "</table>\n",
              "</div>"
            ],
            "text/plain": [
              "                                                                                                                                                                                                                                                                                                                                                                                                                                                                                                                                                                                                                                                                                                                                                                                                                                                                                                                                                                                                                                                                                                                                                                                                                                                                                                                                                                                                                                                                                                                                                                                                                                                                                                                                                                                                                                                                                                                                                                                     paragraphs_cleaned  \\\n",
              "0  Jakarta, CNN Indonesia - - Dokter Ryan Thamrin, yang terkenal lewat acara Dokter Oz Indonesia, meninggal dunia pada Jumat (4 / 8) dini hari. Dokter Lula Kamal yang merupakan selebriti sekaligus rekan kerja Ryan menyebut kawannya itu sudah sakit sejak setahun yang lalu. Lula menuturkan, sakit itu membuat Ryan mesti vakum dari semua kegiatannya, termasuk menjadi pembawa acara Dokter Oz Indonesia. Kondisi itu membuat Ryan harus kembali ke kampung halamannya di Pekanbaru, Riau untuk menjalani istirahat. \" Setahu saya dia orangnya sehat, tapi tahun lalu saya dengar dia sakit. ( Karena) sakitnya, ia langsung pulang ke Pekanbaru, jadi kami yang mau jenguk juga susah. Barangkali mau istirahat, ya betul juga, kalau di Jakarta susah isirahatnya, \" kata Lula kepada CNNIndonesia.com, Jumat (4 / 8). Lula yang mengenal Ryan sejak sebelum aktif berkarier di televisi mengaku belum sempat membesuk Ryan lantaran lokasi yang jauh. Dia juga tak tahu penyakit apa yang diderita Ryan. \" Itu saya enggak tahu, belum sempat jenguk dan enggak selamanya bisa dijenguk juga. Enggak tahu berat sekali apa bagaimana, \" tutur Ryan. Walau sudah setahun menderita sakit, Lula tak mengetahui apa penyebab pasti kematian Dr Oz Indonesia itu. Meski demikian, ia mendengar beberapa kabar yang menyebut bahwa penyebab Ryan meninggal adalah karena jatuh di kamar mandi. “ Saya tidak tahu, barangkali penyakit yang dulu sama yang sekarang berbeda, atau penyebab kematiannya beda dari penyakit sebelumnya. Kita kan enggak bisa mengambil kesimpulan, \" kata Lula. Ryan Thamrin terkenal sebagai dokter yang rutin membagikan tips dan informasi kesehatan lewat tayangan Dokter Oz Indonesia. Ryan menempuh Pendidikan Dokter pada tahun 2002 di Fakultas Kedokteran Universitas Gadjah Mada. Dia kemudian melanjutkan pendidikan Klinis Kesehatan Reproduksi dan Penyakit Menular Seksual di Mahachulalongkornrajavidyalaya University, Bangkok, Thailand pada 2004.    \n",
              "\n",
              "                                                                                                                                                                                                                                                                                                                                                                        summary_cleaned  \n",
              "0  Dokter Lula Kamal yang merupakan selebriti sekaligus rekan kerja Ryan Thamrin menyebut kawannya itu sudah sakit sejak setahun yang lalu. Lula menuturkan, sakit itu membuat Ryan mesti vakum dari semua kegiatannya, termasuk menjadi pembawa acara Dokter Oz Indonesia. Kondisi itu membuat Ryan harus kembali ke kampung halamannya di Pekanbaru, Riau untuk menjalani istirahat.   "
            ]
          },
          "metadata": {
            "tags": []
          },
          "execution_count": 10
        }
      ]
    },
    {
      "cell_type": "markdown",
      "metadata": {
        "id": "1mJMevl20oin"
      },
      "source": [
        "That's better! Before continue to saving preprocessed data, let's check if it have empty value or duplicate value."
      ]
    },
    {
      "cell_type": "code",
      "metadata": {
        "colab": {
          "base_uri": "https://localhost:8080/"
        },
        "id": "iuOPsii1zqFZ",
        "outputId": "a7ef5b8d-49c1-4994-9ac3-c02f80cf14d7"
      },
      "source": [
        "train.isnull().any()\n"
      ],
      "execution_count": 11,
      "outputs": [
        {
          "output_type": "execute_result",
          "data": {
            "text/plain": [
              "category              False\n",
              "gold_labels           False\n",
              "id                    False\n",
              "paragraphs            False\n",
              "source                False\n",
              "source_url            False\n",
              "summary               False\n",
              "paragraphs_cleaned    False\n",
              "summary_cleaned       False\n",
              "dtype: bool"
            ]
          },
          "metadata": {
            "tags": []
          },
          "execution_count": 11
        }
      ]
    },
    {
      "cell_type": "code",
      "metadata": {
        "colab": {
          "base_uri": "https://localhost:8080/"
        },
        "id": "bjEG7KUfcxAk",
        "outputId": "5c425118-d696-4dea-fe53-6b89ae873960"
      },
      "source": [
        "test.isnull().any()"
      ],
      "execution_count": 12,
      "outputs": [
        {
          "output_type": "execute_result",
          "data": {
            "text/plain": [
              "category              False\n",
              "gold_labels           False\n",
              "id                    False\n",
              "paragraphs            False\n",
              "source                False\n",
              "source_url            False\n",
              "summary               False\n",
              "paragraphs_cleaned    False\n",
              "summary_cleaned       False\n",
              "dtype: bool"
            ]
          },
          "metadata": {
            "tags": []
          },
          "execution_count": 12
        }
      ]
    },
    {
      "cell_type": "code",
      "metadata": {
        "colab": {
          "base_uri": "https://localhost:8080/",
          "height": 49
        },
        "id": "jn-QIOsuCDyR",
        "outputId": "4fa4013b-f3b8-4846-c38a-1303367ea046"
      },
      "source": [
        "train[train['paragraphs_cleaned'].duplicated()]"
      ],
      "execution_count": 13,
      "outputs": [
        {
          "output_type": "execute_result",
          "data": {
            "text/html": [
              "<div>\n",
              "<style scoped>\n",
              "    .dataframe tbody tr th:only-of-type {\n",
              "        vertical-align: middle;\n",
              "    }\n",
              "\n",
              "    .dataframe tbody tr th {\n",
              "        vertical-align: top;\n",
              "    }\n",
              "\n",
              "    .dataframe thead th {\n",
              "        text-align: right;\n",
              "    }\n",
              "</style>\n",
              "<table border=\"1\" class=\"dataframe\">\n",
              "  <thead>\n",
              "    <tr style=\"text-align: right;\">\n",
              "      <th></th>\n",
              "      <th>category</th>\n",
              "      <th>gold_labels</th>\n",
              "      <th>id</th>\n",
              "      <th>paragraphs</th>\n",
              "      <th>source</th>\n",
              "      <th>source_url</th>\n",
              "      <th>summary</th>\n",
              "      <th>paragraphs_cleaned</th>\n",
              "      <th>summary_cleaned</th>\n",
              "    </tr>\n",
              "  </thead>\n",
              "  <tbody>\n",
              "  </tbody>\n",
              "</table>\n",
              "</div>"
            ],
            "text/plain": [
              "Empty DataFrame\n",
              "Columns: [category, gold_labels, id, paragraphs, source, source_url, summary, paragraphs_cleaned, summary_cleaned]\n",
              "Index: []"
            ]
          },
          "metadata": {
            "tags": []
          },
          "execution_count": 13
        }
      ]
    },
    {
      "cell_type": "code",
      "metadata": {
        "colab": {
          "base_uri": "https://localhost:8080/",
          "height": 49
        },
        "id": "7X1i_K1cco2C",
        "outputId": "e618a75b-f081-4b2f-ffd0-3511edff26f9"
      },
      "source": [
        "test[test['paragraphs_cleaned'].duplicated()]"
      ],
      "execution_count": 14,
      "outputs": [
        {
          "output_type": "execute_result",
          "data": {
            "text/html": [
              "<div>\n",
              "<style scoped>\n",
              "    .dataframe tbody tr th:only-of-type {\n",
              "        vertical-align: middle;\n",
              "    }\n",
              "\n",
              "    .dataframe tbody tr th {\n",
              "        vertical-align: top;\n",
              "    }\n",
              "\n",
              "    .dataframe thead th {\n",
              "        text-align: right;\n",
              "    }\n",
              "</style>\n",
              "<table border=\"1\" class=\"dataframe\">\n",
              "  <thead>\n",
              "    <tr style=\"text-align: right;\">\n",
              "      <th></th>\n",
              "      <th>category</th>\n",
              "      <th>gold_labels</th>\n",
              "      <th>id</th>\n",
              "      <th>paragraphs</th>\n",
              "      <th>source</th>\n",
              "      <th>source_url</th>\n",
              "      <th>summary</th>\n",
              "      <th>paragraphs_cleaned</th>\n",
              "      <th>summary_cleaned</th>\n",
              "    </tr>\n",
              "  </thead>\n",
              "  <tbody>\n",
              "  </tbody>\n",
              "</table>\n",
              "</div>"
            ],
            "text/plain": [
              "Empty DataFrame\n",
              "Columns: [category, gold_labels, id, paragraphs, source, source_url, summary, paragraphs_cleaned, summary_cleaned]\n",
              "Index: []"
            ]
          },
          "metadata": {
            "tags": []
          },
          "execution_count": 14
        }
      ]
    },
    {
      "cell_type": "markdown",
      "metadata": {
        "id": "snA4fJLH0utb"
      },
      "source": [
        "Great!\n",
        "\n",
        "No empty value and no duplicate value from **15012 rows** train data and **3762 rows** test data.\n",
        "\n",
        "That's mean we can and save both dataset to csv file."
      ]
    },
    {
      "cell_type": "code",
      "metadata": {
        "id": "6lJjZ3k5fUtL"
      },
      "source": [
        "csv_columns = ['gold_labels','paragraphs','summary']\n",
        "\n",
        "train.to_csv('train.csv',\n",
        "             columns=['gold_labels','paragraphs_cleaned','summary_cleaned'],\n",
        "             header=csv_columns,\n",
        "             index=False)\n",
        "test.to_csv('test.csv',\n",
        "            columns=['gold_labels','paragraphs_cleaned','summary_cleaned'],\n",
        "            header=csv_columns,\n",
        "            index=False)"
      ],
      "execution_count": 19,
      "outputs": []
    },
    {
      "cell_type": "markdown",
      "metadata": {
        "id": "n0HsFi1lmOp8"
      },
      "source": [
        "Let's import the exported csv to make sure we had export it nicely."
      ]
    },
    {
      "cell_type": "code",
      "metadata": {
        "colab": {
          "base_uri": "https://localhost:8080/",
          "height": 913
        },
        "id": "mRAjN0Icn2FT",
        "outputId": "f4059d83-347e-42b9-eb27-dca1e6167ab6"
      },
      "source": [
        "df_train = pd.read_csv('/content/train.csv')\n",
        "df_test = pd.read_csv('/content/test.csv')\n",
        "df_train.info()\n",
        "df_train.tail(1)"
      ],
      "execution_count": 25,
      "outputs": [
        {
          "output_type": "stream",
          "text": [
            "<class 'pandas.core.frame.DataFrame'>\n",
            "RangeIndex: 15012 entries, 0 to 15011\n",
            "Data columns (total 3 columns):\n",
            " #   Column       Non-Null Count  Dtype \n",
            "---  ------       --------------  ----- \n",
            " 0   gold_labels  15012 non-null  object\n",
            " 1   paragraphs   15012 non-null  object\n",
            " 2   summary      15012 non-null  object\n",
            "dtypes: object(3)\n",
            "memory usage: 352.0+ KB\n"
          ],
          "name": "stdout"
        },
        {
          "output_type": "execute_result",
          "data": {
            "text/html": [
              "<div>\n",
              "<style scoped>\n",
              "    .dataframe tbody tr th:only-of-type {\n",
              "        vertical-align: middle;\n",
              "    }\n",
              "\n",
              "    .dataframe tbody tr th {\n",
              "        vertical-align: top;\n",
              "    }\n",
              "\n",
              "    .dataframe thead th {\n",
              "        text-align: right;\n",
              "    }\n",
              "</style>\n",
              "<table border=\"1\" class=\"dataframe\">\n",
              "  <thead>\n",
              "    <tr style=\"text-align: right;\">\n",
              "      <th></th>\n",
              "      <th>gold_labels</th>\n",
              "      <th>paragraphs</th>\n",
              "      <th>summary</th>\n",
              "    </tr>\n",
              "  </thead>\n",
              "  <tbody>\n",
              "    <tr>\n",
              "      <th>15011</th>\n",
              "      <td>[[True], [True], [False], [True, False], [False, False], [False, False], [False], [False], [False, False], [False], [False, False], [False, False], [False], [False], [False, False], [False, False], [False], [False], [False, False]]</td>\n",
              "      <td>Jakarta, CNN Indonesia - - Ketua DPP PDIP Hendrawan Supratikno menyatakan, PDIP akan menggelar rapat internal untuk mengevaluasi dukungan terhadap Abdullah Azwar Anas menjadi calon wakil gubernur dalam Pilkada Jatim tahun 2018. Hendrawan mengatakan, rapat itu direncanakan digelar di Kantor DPP PDIP, Jakarta, Jumat (5 / 1) pukul 16.00 WIB. “ Nanti kami baru rapat pukul 16.00 WIB, ” ujar Hendrawan saat dihubungi. Hendrawan masih enggan berkomenatar soal motif di balik rencana evaluasi dukungan kepada Anas. Saat disinggung soal evaluasi karena adanya isu moral yang diduga dilakukan Anas, ia juga enggan menjawab dengan tegas. Ia beralasan, sampai saat ini belum menerima keterangan resmi dari Sekjen PDIP Hasto Kristiyanto terkait dengan isu yang mendera Anas. Namun ia mendapat informasi bahwa Hasto telah berkomunikasi dengan Anas untuk mengklarifikasi isu tersebut. “ Semuanya dipusatkan informasinya kepada Sekjen Pak Hasto. Karena kemarin Pak Hasto yang menghubungi dan mendapat tugas untuk berkomunikasi, ” ujarnya. Lebih dari itu, ia enggan, memastikan keputusan yang akan diambil PDIP atas pria yang masih menjabat Bupati Banyuwangi tersebut. “ Keputusan apa, wong baru nanti disampaikan, ” ujar Hendrawan. Sementara itu, Ketua DPP PDIP Andreas Hugo Pereira membenarkan kabar bahwa Anas mundur sebagai bakal cawagub Jatim yang diusung PDIP. Ia menyayangkan hal tersebut dilakukan Anas di tengah proses awal Pilkada. “ Sangat disayangkan pak Anas mengundurkan diri di awal proses pilkada, ” ujar Andreas saat dihubungi. Meski demikian, Andreas menduga, keputusan Anas dilakukan agar Saifullah Yusuf alias Gus Ipul dapat menang di Pilkada dengan calon lain. Keputusan Anas diduga akibat berhembusnya isu moral yang menderanya. Lebih dari itu, Andreas menyatakan, PDIP akan segera menentukan sosok yang akan menggantikan Anas sebagai cawagub Jatim. Namun, ia masih enggan menyebut Wali Kota Surabaya saat ini, Tri Rismaharini, yang akan mengganti Anas mendampingi Gus Ipul. “ Nantilah, ” ujarnya. Sementara itu, Azwar Anas menilai polemik yang mengemuka menjelang Pilkada Jatim merupakan risiko kebijakan pembangunan daerah, termasuk upaya - upaya pembunuhan karakter. \" Ada sejumlah upaya pembunuhan karakter, termasuk teror yang kerap saya diterima dan keluarga. Jadi terkait apa yang menjadi desus - desus itu, saya sudah biasa, \" ujarnya di Surabaya, Jumat (5 / 1) seperti dikutip dari Antara. Azwar Anas mengaku pembunuhan karakter bukan kali ini saja ia dapatkan. Pada tahun kedua menjabat Bupati Banyuwangi pun Anas mengaku pernah mendapatkan upaya pembunuhan karakter karena sejumlah kebijakan seperti pelarangan pasar modern dan saham untuk rakyat di sektor pertambangan. \" Bahkan, saya dilaporkan melakukan kriminalisasi kebijakan karena kebijakan-kebijakan tersebut, \" ucapnya. Azwar Anas pun mengaku dikirimi berbagai macam gambar di masa lalu untuk mencegah agar tidak mengambil kebijakan-kebijakan tertentu. \" Tapi kan saya tetap lanjutkan apa yang baik bagi orang banyak, \" ujarnya. ( kid / kid )</td>\n",
              "      <td>Ketua DPP PDIP Hendrawan Supratikno menyatakan, PDIP akan menggelar rapat internal untuk mengevaluasi dukungan terhadap Abdullah Azwar Anas menjadi calon wakil gubernur dalam Pilkada Jatim tahun 2018. Hendrawan mengatakan, rapat itu direncanakan digelar di Kantor DPP PDIP, Jakarta, Jumat (5 / 1) pukul 16.00 WIB. Hendrawan masih enggan berkomenatar soal motif di balik rencana evaluasi dukungan kepada Anas.</td>\n",
              "    </tr>\n",
              "  </tbody>\n",
              "</table>\n",
              "</div>"
            ],
            "text/plain": [
              "                                                                                                                                                                                                                                   gold_labels  \\\n",
              "15011  [[True], [True], [False], [True, False], [False, False], [False, False], [False], [False], [False, False], [False], [False, False], [False, False], [False], [False], [False, False], [False, False], [False], [False], [False, False]]   \n",
              "\n",
              "                                                                                                                                                                                                                                                                                                                                                                                                                                                                                                                                                                                                                                                                                                                                                                                                                                                                                                                                                                                                                                                                                                                                                                                                                                                                                                                                                                                                                                                                                                                                                                                                                                                                                                                                                                                                                                                                                                                                                                                                                                                                                                                                                                                                                                                                                                                                                                                                                                                                                                                                                                                                                                                                                                                                                                                                                                                                                                                                                                                                                                                                                                                                          paragraphs  \\\n",
              "15011  Jakarta, CNN Indonesia - - Ketua DPP PDIP Hendrawan Supratikno menyatakan, PDIP akan menggelar rapat internal untuk mengevaluasi dukungan terhadap Abdullah Azwar Anas menjadi calon wakil gubernur dalam Pilkada Jatim tahun 2018. Hendrawan mengatakan, rapat itu direncanakan digelar di Kantor DPP PDIP, Jakarta, Jumat (5 / 1) pukul 16.00 WIB. “ Nanti kami baru rapat pukul 16.00 WIB, ” ujar Hendrawan saat dihubungi. Hendrawan masih enggan berkomenatar soal motif di balik rencana evaluasi dukungan kepada Anas. Saat disinggung soal evaluasi karena adanya isu moral yang diduga dilakukan Anas, ia juga enggan menjawab dengan tegas. Ia beralasan, sampai saat ini belum menerima keterangan resmi dari Sekjen PDIP Hasto Kristiyanto terkait dengan isu yang mendera Anas. Namun ia mendapat informasi bahwa Hasto telah berkomunikasi dengan Anas untuk mengklarifikasi isu tersebut. “ Semuanya dipusatkan informasinya kepada Sekjen Pak Hasto. Karena kemarin Pak Hasto yang menghubungi dan mendapat tugas untuk berkomunikasi, ” ujarnya. Lebih dari itu, ia enggan, memastikan keputusan yang akan diambil PDIP atas pria yang masih menjabat Bupati Banyuwangi tersebut. “ Keputusan apa, wong baru nanti disampaikan, ” ujar Hendrawan. Sementara itu, Ketua DPP PDIP Andreas Hugo Pereira membenarkan kabar bahwa Anas mundur sebagai bakal cawagub Jatim yang diusung PDIP. Ia menyayangkan hal tersebut dilakukan Anas di tengah proses awal Pilkada. “ Sangat disayangkan pak Anas mengundurkan diri di awal proses pilkada, ” ujar Andreas saat dihubungi. Meski demikian, Andreas menduga, keputusan Anas dilakukan agar Saifullah Yusuf alias Gus Ipul dapat menang di Pilkada dengan calon lain. Keputusan Anas diduga akibat berhembusnya isu moral yang menderanya. Lebih dari itu, Andreas menyatakan, PDIP akan segera menentukan sosok yang akan menggantikan Anas sebagai cawagub Jatim. Namun, ia masih enggan menyebut Wali Kota Surabaya saat ini, Tri Rismaharini, yang akan mengganti Anas mendampingi Gus Ipul. “ Nantilah, ” ujarnya. Sementara itu, Azwar Anas menilai polemik yang mengemuka menjelang Pilkada Jatim merupakan risiko kebijakan pembangunan daerah, termasuk upaya - upaya pembunuhan karakter. \" Ada sejumlah upaya pembunuhan karakter, termasuk teror yang kerap saya diterima dan keluarga. Jadi terkait apa yang menjadi desus - desus itu, saya sudah biasa, \" ujarnya di Surabaya, Jumat (5 / 1) seperti dikutip dari Antara. Azwar Anas mengaku pembunuhan karakter bukan kali ini saja ia dapatkan. Pada tahun kedua menjabat Bupati Banyuwangi pun Anas mengaku pernah mendapatkan upaya pembunuhan karakter karena sejumlah kebijakan seperti pelarangan pasar modern dan saham untuk rakyat di sektor pertambangan. \" Bahkan, saya dilaporkan melakukan kriminalisasi kebijakan karena kebijakan-kebijakan tersebut, \" ucapnya. Azwar Anas pun mengaku dikirimi berbagai macam gambar di masa lalu untuk mencegah agar tidak mengambil kebijakan-kebijakan tertentu. \" Tapi kan saya tetap lanjutkan apa yang baik bagi orang banyak, \" ujarnya. ( kid / kid )    \n",
              "\n",
              "                                                                                                                                                                                                                                                                                                                                                                                                                         summary  \n",
              "15011  Ketua DPP PDIP Hendrawan Supratikno menyatakan, PDIP akan menggelar rapat internal untuk mengevaluasi dukungan terhadap Abdullah Azwar Anas menjadi calon wakil gubernur dalam Pilkada Jatim tahun 2018. Hendrawan mengatakan, rapat itu direncanakan digelar di Kantor DPP PDIP, Jakarta, Jumat (5 / 1) pukul 16.00 WIB. Hendrawan masih enggan berkomenatar soal motif di balik rencana evaluasi dukungan kepada Anas.   "
            ]
          },
          "metadata": {
            "tags": []
          },
          "execution_count": 25
        }
      ]
    },
    {
      "cell_type": "code",
      "metadata": {
        "colab": {
          "base_uri": "https://localhost:8080/",
          "height": 726
        },
        "id": "iUFewCInojqn",
        "outputId": "d4ac600d-7320-49c8-8bd0-c8ec7118b5e3"
      },
      "source": [
        "df_test.info()\n",
        "df_test.tail(1)"
      ],
      "execution_count": 24,
      "outputs": [
        {
          "output_type": "stream",
          "text": [
            "<class 'pandas.core.frame.DataFrame'>\n",
            "RangeIndex: 3762 entries, 0 to 3761\n",
            "Data columns (total 3 columns):\n",
            " #   Column       Non-Null Count  Dtype \n",
            "---  ------       --------------  ----- \n",
            " 0   gold_labels  3762 non-null   object\n",
            " 1   paragraphs   3762 non-null   object\n",
            " 2   summary      3762 non-null   object\n",
            "dtypes: object(3)\n",
            "memory usage: 88.3+ KB\n"
          ],
          "name": "stdout"
        },
        {
          "output_type": "execute_result",
          "data": {
            "text/html": [
              "<div>\n",
              "<style scoped>\n",
              "    .dataframe tbody tr th:only-of-type {\n",
              "        vertical-align: middle;\n",
              "    }\n",
              "\n",
              "    .dataframe tbody tr th {\n",
              "        vertical-align: top;\n",
              "    }\n",
              "\n",
              "    .dataframe thead th {\n",
              "        text-align: right;\n",
              "    }\n",
              "</style>\n",
              "<table border=\"1\" class=\"dataframe\">\n",
              "  <thead>\n",
              "    <tr style=\"text-align: right;\">\n",
              "      <th></th>\n",
              "      <th>gold_labels</th>\n",
              "      <th>paragraphs</th>\n",
              "      <th>summary</th>\n",
              "    </tr>\n",
              "  </thead>\n",
              "  <tbody>\n",
              "    <tr>\n",
              "      <th>3761</th>\n",
              "      <td>[[True, False], [False, False], [False, False, False, False, False, False], [True, True], [False, False, False, False, False, False, False, False], [False, False, False], [False, False, False, False, False], [False]]</td>\n",
              "      <td>Merdeka.com - Artis senior Venna Melinda merayakan hari lahirnya yang ke - 45 pada hari Sabtu (29 / 7) kemarin. Alih - alih mengadakan pesta mewah, wanita yang kini tengah fokus di dunia politik itu memilih untuk menggelar acara syukuran bersama anak penyandang kanker di Yayasan Kanker Anak Indonesia (YKAKI) di kawasan Percetakan Negara,   Jakarta Pusat, Sabtu (29 / 7). Pada hari spesialnya itu, pihak keluarga Venna ikutan hadir meramaikan, termasuk juga para buah hatinya, Athalla Naufal, Verrell Bramasta dan Vania. Yang mengejutkan lagi adalah kehadiran Natasha Wilona, yang notabene tengah santer dikabarkan dekat dengan Verrell. \" Alhamdulilah semua   berjalan lancar. Keluarga aku juga kompak datang, ada Wilona juga, senang lah. Yang pasti ini bukan usia kecil lagi, aku sekarang udah punya tiga anak. Sekarang harus lebih tenang menjalani hidup. Kenapa sekarang harus lebih tenang, dulu kan lebih emosional, masih suka panikan. Sekarang berusaha lebih wise, \" ujar Venna seusai acara. Seperti diketahui, saat ini Venna tengah menyandang status janda setelah bercerai dari Ivan Fadilla tahun 2014 silam. Bintang sinetron Tersanjung 5 itu ternyata masih membuka hatinya untuk pria lain, meski saat ini lebih memilih untuk menikmati kebersamaannya bersama para buah hati lebih dulu. \" Kalau soal jodoh nggak kok. Karena aku nggak merasa sendirian. Ada Verrell, Athalla, Vania juga. Sekarang hidup aku rame jadi nggak sepi - sepi banget. Oh masih membuka (hati) kok. Cuma kan kalau di usia sekarang nggak bisa kayak orang di usia 20 ya yang harus cari-cari jodoh. Nunggu saja. Nanti kalau Tuhan sudah kasih nanti pasti tiba-tiba akan ada, \" sambungnya santai. Venna tak muluk-muluk dalam mencari pasangan hidup. Syaratnya cuma satu, siapapun calonnya nanti harus mau menerima status janda anak tiga yang saat ini disandang Venna. Lalu kira-kira sudah ada sosok yang cocok di hati? \" Nggak ada (kriteria) sih, cuma yang jelas harus bisa nerima aku dengan anak - anakku. Cari orang yang model begitu zaman sekarang ya nggak mudah. Apalagi dengan kedudukan aku, orang kadang ada yang ciut. Padahal biasa saja. Aduh, belum, belum ada yang sesuai, \" pungkasnya. ( kpl / abs / gtr )</td>\n",
              "      <td>Artis senior   Venna Melinda   merayakan hari lahirnya yang ke - 45, sabtu kemarin. Vena memilih untuk menggelar acara syukuran bersama anak penyandang kanker di YKAKI. Seperti diketahui, saat ini Venna tengah menyandang status janda setelah bercerai dari Ivan Fadilla tahun 2014 silam. Bintang sinetron ini ternyata masih membuka hatinya untuk pria lain.</td>\n",
              "    </tr>\n",
              "  </tbody>\n",
              "</table>\n",
              "</div>"
            ],
            "text/plain": [
              "                                                                                                                                                                                                                   gold_labels  \\\n",
              "3761  [[True, False], [False, False], [False, False, False, False, False, False], [True, True], [False, False, False, False, False, False, False, False], [False, False, False], [False, False, False, False, False], [False]]   \n",
              "\n",
              "                                                                                                                                                                                                                                                                                                                                                                                                                                                                                                                                                                                                                                                                                                                                                                                                                                                                                                                                                                                                                                                                                                                                                                                                                                                                                                                                                                                                                                                                                                                                                                                                                                                                                                                                                                                                                                                                                                                                                                                                                                                                                                                                                                                                                                                                     paragraphs  \\\n",
              "3761  Merdeka.com - Artis senior Venna Melinda merayakan hari lahirnya yang ke - 45 pada hari Sabtu (29 / 7) kemarin. Alih - alih mengadakan pesta mewah, wanita yang kini tengah fokus di dunia politik itu memilih untuk menggelar acara syukuran bersama anak penyandang kanker di Yayasan Kanker Anak Indonesia (YKAKI) di kawasan Percetakan Negara,   Jakarta Pusat, Sabtu (29 / 7). Pada hari spesialnya itu, pihak keluarga Venna ikutan hadir meramaikan, termasuk juga para buah hatinya, Athalla Naufal, Verrell Bramasta dan Vania. Yang mengejutkan lagi adalah kehadiran Natasha Wilona, yang notabene tengah santer dikabarkan dekat dengan Verrell. \" Alhamdulilah semua   berjalan lancar. Keluarga aku juga kompak datang, ada Wilona juga, senang lah. Yang pasti ini bukan usia kecil lagi, aku sekarang udah punya tiga anak. Sekarang harus lebih tenang menjalani hidup. Kenapa sekarang harus lebih tenang, dulu kan lebih emosional, masih suka panikan. Sekarang berusaha lebih wise, \" ujar Venna seusai acara. Seperti diketahui, saat ini Venna tengah menyandang status janda setelah bercerai dari Ivan Fadilla tahun 2014 silam. Bintang sinetron Tersanjung 5 itu ternyata masih membuka hatinya untuk pria lain, meski saat ini lebih memilih untuk menikmati kebersamaannya bersama para buah hati lebih dulu. \" Kalau soal jodoh nggak kok. Karena aku nggak merasa sendirian. Ada Verrell, Athalla, Vania juga. Sekarang hidup aku rame jadi nggak sepi - sepi banget. Oh masih membuka (hati) kok. Cuma kan kalau di usia sekarang nggak bisa kayak orang di usia 20 ya yang harus cari-cari jodoh. Nunggu saja. Nanti kalau Tuhan sudah kasih nanti pasti tiba-tiba akan ada, \" sambungnya santai. Venna tak muluk-muluk dalam mencari pasangan hidup. Syaratnya cuma satu, siapapun calonnya nanti harus mau menerima status janda anak tiga yang saat ini disandang Venna. Lalu kira-kira sudah ada sosok yang cocok di hati? \" Nggak ada (kriteria) sih, cuma yang jelas harus bisa nerima aku dengan anak - anakku. Cari orang yang model begitu zaman sekarang ya nggak mudah. Apalagi dengan kedudukan aku, orang kadang ada yang ciut. Padahal biasa saja. Aduh, belum, belum ada yang sesuai, \" pungkasnya. ( kpl / abs / gtr )    \n",
              "\n",
              "                                                                                                                                                                                                                                                                                                                                                                   summary  \n",
              "3761  Artis senior   Venna Melinda   merayakan hari lahirnya yang ke - 45, sabtu kemarin. Vena memilih untuk menggelar acara syukuran bersama anak penyandang kanker di YKAKI. Seperti diketahui, saat ini Venna tengah menyandang status janda setelah bercerai dari Ivan Fadilla tahun 2014 silam. Bintang sinetron ini ternyata masih membuka hatinya untuk pria lain.   "
            ]
          },
          "metadata": {
            "tags": []
          },
          "execution_count": 24
        }
      ]
    },
    {
      "cell_type": "markdown",
      "metadata": {
        "id": "2q-ThZ10orR6"
      },
      "source": [
        "Wonderful! Now we can build our text summarization model.\n",
        "\n",
        "For this project, BERT-Large-CNN will be used for the pretrained model and we will train it with this dataset."
      ]
    }
  ]
}