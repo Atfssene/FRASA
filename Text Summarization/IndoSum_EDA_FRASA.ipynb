{
  "nbformat": 4,
  "nbformat_minor": 0,
  "metadata": {
    "colab": {
      "name": "IndoSum EDA - FRASA.ipynb",
      "provenance": [],
      "collapsed_sections": [],
      "mount_file_id": "11ejzhbKrcRL4MYwWjOgZtlkotHLR2jbI",
      "authorship_tag": "ABX9TyNRzVpqV6WoyxFd6w7m7hKx",
      "include_colab_link": true
    },
    "kernelspec": {
      "name": "python3",
      "display_name": "Python 3"
    },
    "language_info": {
      "name": "python"
    }
  },
  "cells": [
    {
      "cell_type": "markdown",
      "metadata": {
        "id": "view-in-github",
        "colab_type": "text"
      },
      "source": [
        "<a href=\"https://colab.research.google.com/github/Atfssene/FRASA/blob/main/IndoSum_EDA_FRASA.ipynb\" target=\"_parent\"><img src=\"https://colab.research.google.com/assets/colab-badge.svg\" alt=\"Open In Colab\"/></a>"
      ]
    },
    {
      "cell_type": "markdown",
      "metadata": {
        "id": "2fkXZcRPoCCG"
      },
      "source": [
        "# **IndoSum Dataset EDA**\n",
        "**Potato Tech** team build an app that named **Frasa** for capstone project. So we will build machine learning model for Frasa to predict a summary from a sentences.\n",
        "\n",
        "In this lab, we will do exploratory data analysis and preprocess the dataset.\n",
        "The dataset is consists of news articles and manually constructed summaries [IndoSum dataset](https://drive.google.com/file/d/1OgYbPfXFAv3TbwP1Qcwt_CC9cVWSJaco/view) from [Kurniawan, Kemal & Louvan, Samuel (2018)](https://arxiv.org/abs/1810.05334).\n",
        "\n",
        "Let's start!"
      ]
    },
    {
      "cell_type": "markdown",
      "metadata": {
        "id": "sOh-7h5k4r5_"
      },
      "source": [
        "## Preparation"
      ]
    },
    {
      "cell_type": "code",
      "metadata": {
        "colab": {
          "base_uri": "https://localhost:8080/"
        },
        "id": "STP-CuQPLvna",
        "outputId": "764aae36-ec06-4789-9b24-02270d0cd8bd"
      },
      "source": [
        "!pip install Sastrawi\n",
        "import nltk\n",
        "nltk.download('punkt')"
      ],
      "execution_count": 6,
      "outputs": [
        {
          "output_type": "stream",
          "text": [
            "Requirement already satisfied: Sastrawi in /usr/local/lib/python3.7/dist-packages (1.0.1)\n"
          ],
          "name": "stdout"
        }
      ]
    },
    {
      "cell_type": "code",
      "metadata": {
        "id": "ErTcYE0XrWzd"
      },
      "source": [
        "# Import library\n",
        "import pandas as pd\n",
        "import json\n",
        "import matplotlib.pyplot as plt\n",
        "import re\n",
        "import networkx as nx\n",
        "import seaborn as sns\n",
        "import numpy as np\n",
        "\n",
        "from nltk.tokenize import sent_tokenize, word_tokenize\n",
        "from nltk.tokenize.treebank import TreebankWordDetokenizer as untoken\n",
        "from Sastrawi.StopWordRemover.StopWordRemoverFactory import StopWordRemoverFactory\n",
        "from sklearn.metrics.pairwise import cosine_similarity\n",
        "\n",
        "factory = StopWordRemoverFactory()\n",
        "stop_words = factory.get_stop_words()"
      ],
      "execution_count": 37,
      "outputs": []
    },
    {
      "cell_type": "markdown",
      "metadata": {
        "id": "5Tjg6Eurssxh"
      },
      "source": [
        "## Load data"
      ]
    },
    {
      "cell_type": "code",
      "metadata": {
        "colab": {
          "base_uri": "https://localhost:8080/"
        },
        "id": "vhgBDlV8nxaE",
        "outputId": "58b764fe-5265-4a2e-bf96-2d6c64aae2e4"
      },
      "source": [
        "# Download and extract the dataset\n",
        "!gdown --id 1OgYbPfXFAv3TbwP1Qcwt_CC9cVWSJaco\n",
        "!tar -xvf /content/indosum.tar.gz"
      ],
      "execution_count": 8,
      "outputs": [
        {
          "output_type": "stream",
          "text": [
            "Downloading...\n",
            "From: https://drive.google.com/uc?id=1OgYbPfXFAv3TbwP1Qcwt_CC9cVWSJaco\n",
            "To: /content/indosum.tar.gz\n",
            "96.0MB [00:00, 187MB/s]\n",
            "indosum/\n",
            "indosum/test.02.jsonl\n",
            "indosum/README.txt\n",
            "indosum/train.05.jsonl\n",
            "indosum/train.04.jsonl\n",
            "indosum/test.04.jsonl\n",
            "indosum/train.01.jsonl\n",
            "indosum/test.05.jsonl\n",
            "indosum/test.03.jsonl\n",
            "indosum/test.01.jsonl\n",
            "indosum/dev.04.jsonl\n",
            "indosum/dev.01.jsonl\n",
            "indosum/dev.02.jsonl\n",
            "indosum/train.02.jsonl\n",
            "indosum/dev.03.jsonl\n",
            "indosum/dev.05.jsonl\n",
            "indosum/CHANGELOG.txt\n",
            "indosum/train.03.jsonl\n"
          ],
          "name": "stdout"
        }
      ]
    },
    {
      "cell_type": "code",
      "metadata": {
        "id": "XylN9V7BsG2M"
      },
      "source": [
        "# We will use the first-fold data (train, dev, test)\n",
        "files=['/content/indosum/train.01.jsonl',\n",
        "       '/content/indosum/dev.01.jsonl',\n",
        "       '/content/indosum/test.01.jsonl']\n",
        "\n",
        "with open(files[0], 'r') as f, open(files[1], 'r') as ft, open(files[2], 'r') as ftest:\n",
        "  data_train = f.readlines()\n",
        "  data_train = list(map(json.loads, data_train))\n",
        "  data_dev = ft.readlines()\n",
        "  data_dev = list(map(json.loads, data_dev))\n",
        "  df1 = pd.DataFrame(data_train)\n",
        "  df2 = pd.DataFrame(data_dev)\n",
        "\n",
        "  data_test = ftest.readlines()\n",
        "  data_test = list(map(json.loads, data_test))\n",
        "\n",
        "test = pd.DataFrame(data_test)\n",
        "train = pd.concat([df1, df2])\n"
      ],
      "execution_count": 9,
      "outputs": []
    },
    {
      "cell_type": "markdown",
      "metadata": {
        "id": "tvq19V2dxrEE"
      },
      "source": [
        "## Exploratoratory"
      ]
    },
    {
      "cell_type": "code",
      "metadata": {
        "colab": {
          "base_uri": "https://localhost:8080/"
        },
        "id": "nJXb3WyB2lRI",
        "outputId": "608fa501-0c03-49d2-86c1-0c5ab0fd770e"
      },
      "source": [
        "print(train.info())\n",
        "print(test.info())"
      ],
      "execution_count": 10,
      "outputs": [
        {
          "output_type": "stream",
          "text": [
            "<class 'pandas.core.frame.DataFrame'>\n",
            "Int64Index: 15012 entries, 0 to 749\n",
            "Data columns (total 7 columns):\n",
            " #   Column       Non-Null Count  Dtype \n",
            "---  ------       --------------  ----- \n",
            " 0   category     15012 non-null  object\n",
            " 1   gold_labels  15012 non-null  object\n",
            " 2   id           15012 non-null  object\n",
            " 3   paragraphs   15012 non-null  object\n",
            " 4   source       15012 non-null  object\n",
            " 5   source_url   15012 non-null  object\n",
            " 6   summary      15012 non-null  object\n",
            "dtypes: object(7)\n",
            "memory usage: 938.2+ KB\n",
            "None\n",
            "<class 'pandas.core.frame.DataFrame'>\n",
            "RangeIndex: 3762 entries, 0 to 3761\n",
            "Data columns (total 7 columns):\n",
            " #   Column       Non-Null Count  Dtype \n",
            "---  ------       --------------  ----- \n",
            " 0   category     3762 non-null   object\n",
            " 1   gold_labels  3762 non-null   object\n",
            " 2   id           3762 non-null   object\n",
            " 3   paragraphs   3762 non-null   object\n",
            " 4   source       3762 non-null   object\n",
            " 5   source_url   3762 non-null   object\n",
            " 6   summary      3762 non-null   object\n",
            "dtypes: object(7)\n",
            "memory usage: 205.9+ KB\n",
            "None\n"
          ],
          "name": "stdout"
        }
      ]
    },
    {
      "cell_type": "markdown",
      "metadata": {
        "id": "IW2n9hqxtFLC"
      },
      "source": [
        "Now we know the dataset consist of 7 columns and probably we will just take some of the column that related to this summarization work.\n",
        "\n",
        "To make we sure what columns should we choose, let's take a look at some rows."
      ]
    },
    {
      "cell_type": "code",
      "metadata": {
        "colab": {
          "base_uri": "https://localhost:8080/",
          "height": 581
        },
        "id": "0TwsdFQlsgK-",
        "outputId": "4e4af3c5-e0e6-47ce-ed02-7cc446e183ab"
      },
      "source": [
        "train.head()"
      ],
      "execution_count": 11,
      "outputs": [
        {
          "output_type": "execute_result",
          "data": {
            "text/html": [
              "<div>\n",
              "<style scoped>\n",
              "    .dataframe tbody tr th:only-of-type {\n",
              "        vertical-align: middle;\n",
              "    }\n",
              "\n",
              "    .dataframe tbody tr th {\n",
              "        vertical-align: top;\n",
              "    }\n",
              "\n",
              "    .dataframe thead th {\n",
              "        text-align: right;\n",
              "    }\n",
              "</style>\n",
              "<table border=\"1\" class=\"dataframe\">\n",
              "  <thead>\n",
              "    <tr style=\"text-align: right;\">\n",
              "      <th></th>\n",
              "      <th>category</th>\n",
              "      <th>gold_labels</th>\n",
              "      <th>id</th>\n",
              "      <th>paragraphs</th>\n",
              "      <th>source</th>\n",
              "      <th>source_url</th>\n",
              "      <th>summary</th>\n",
              "    </tr>\n",
              "  </thead>\n",
              "  <tbody>\n",
              "    <tr>\n",
              "      <th>0</th>\n",
              "      <td>tajuk utama</td>\n",
              "      <td>[[False, True], [True, True], [False, False, F...</td>\n",
              "      <td>1501893029-lula-kamal-dokter-ryan-thamrin-saki...</td>\n",
              "      <td>[[[Jakarta, ,, CNN, Indonesia, -, -, Dokter, R...</td>\n",
              "      <td>cnn indonesia</td>\n",
              "      <td>https://www.cnnindonesia.com/hiburan/201708041...</td>\n",
              "      <td>[[Dokter, Lula, Kamal, yang, merupakan, selebr...</td>\n",
              "    </tr>\n",
              "    <tr>\n",
              "      <th>1</th>\n",
              "      <td>teknologi</td>\n",
              "      <td>[[False, False, False, False], [False, True, T...</td>\n",
              "      <td>1509072914-dua-smartphone-zenfone-baru-tawarka...</td>\n",
              "      <td>[[[Selfie, ialah, salah, satu, tema, terpanas,...</td>\n",
              "      <td>dailysocial.id</td>\n",
              "      <td>https://dailysocial.id/post/dua-smartphone-zen...</td>\n",
              "      <td>[[Asus, memperkenalkan,  , ZenFone, generasi, ...</td>\n",
              "    </tr>\n",
              "    <tr>\n",
              "      <th>2</th>\n",
              "      <td>hiburan</td>\n",
              "      <td>[[True], [True], [False, False], [False], [Fal...</td>\n",
              "      <td>1510613677-songsong-visit-2020-bengkulu-perkua...</td>\n",
              "      <td>[[[Jakarta, ,, CNN, Indonesia, -, -, Dinas, Pa...</td>\n",
              "      <td>cnn indonesia</td>\n",
              "      <td>https://www.cnnindonesia.com/gaya-hidup/201711...</td>\n",
              "      <td>[[Dinas, Pariwisata, Provinsi, Bengkulu, kemba...</td>\n",
              "    </tr>\n",
              "    <tr>\n",
              "      <th>3</th>\n",
              "      <td>tajuk utama</td>\n",
              "      <td>[[True, True], [False, False, False], [True], ...</td>\n",
              "      <td>1502706803-icw-ada-kejanggalan-atas-tewasnya-s...</td>\n",
              "      <td>[[[Merdeka.com, -, Indonesia, Corruption, Watc...</td>\n",
              "      <td>merdeka</td>\n",
              "      <td>https://www.merdeka.com/peristiwa/icw-merasa-a...</td>\n",
              "      <td>[[Indonesia, Corruption, Watch, (, ICW, ), mem...</td>\n",
              "    </tr>\n",
              "    <tr>\n",
              "      <th>4</th>\n",
              "      <td>tajuk utama</td>\n",
              "      <td>[[False, True], [True, True, True], [False], [...</td>\n",
              "      <td>1503039338-pembagian-sepeda-usai-upacara-penur...</td>\n",
              "      <td>[[[Merdeka.com, -, Presiden, Joko, Widodo, (, ...</td>\n",
              "      <td>merdeka</td>\n",
              "      <td>https://www.merdeka.com/peristiwa/usai-upacara...</td>\n",
              "      <td>[[Jokowi, memimpin, upacara, penurunan, bender...</td>\n",
              "    </tr>\n",
              "  </tbody>\n",
              "</table>\n",
              "</div>"
            ],
            "text/plain": [
              "      category  ...                                            summary\n",
              "0  tajuk utama  ...  [[Dokter, Lula, Kamal, yang, merupakan, selebr...\n",
              "1    teknologi  ...  [[Asus, memperkenalkan,  , ZenFone, generasi, ...\n",
              "2      hiburan  ...  [[Dinas, Pariwisata, Provinsi, Bengkulu, kemba...\n",
              "3  tajuk utama  ...  [[Indonesia, Corruption, Watch, (, ICW, ), mem...\n",
              "4  tajuk utama  ...  [[Jokowi, memimpin, upacara, penurunan, bender...\n",
              "\n",
              "[5 rows x 7 columns]"
            ]
          },
          "metadata": {
            "tags": []
          },
          "execution_count": 11
        }
      ]
    },
    {
      "cell_type": "markdown",
      "metadata": {
        "id": "yk4LR5qnuJRy"
      },
      "source": [
        "From here, we can see our raw data have:\n",
        "\n",
        "1. Tokenized paragraphs and summary.\n",
        "2. Punctuation wasn't cleaned.\n",
        "3. Uncased letters.\n",
        "3. Column gold_labels is a boolean list of main idea sentences in paragraphs\n",
        "4. This dataset (train+dev set)  had 7 columns and 15012 rows.\n",
        "\n",
        "For next, the columns will be used are **gold_labels, paragraphs**, and **summary**.\n"
      ]
    },
    {
      "cell_type": "markdown",
      "metadata": {
        "id": "tZCX26ZoHFBa"
      },
      "source": [
        "## Preprocess #1"
      ]
    },
    {
      "cell_type": "markdown",
      "metadata": {
        "id": "Mz14lL5Me1iu"
      },
      "source": [
        "We will flatten the three columns as instead tokenized string/listed because our predict input later could be raw string."
      ]
    },
    {
      "cell_type": "code",
      "metadata": {
        "id": "Fg1ARmKIDuVk"
      },
      "source": [
        "def untokenizer(dataframe_row, axis):\n",
        "  text_list = []\n",
        "  for data in dataframe_row:\n",
        "    string = \"\"\n",
        "    if axis == 0:\n",
        "      for t in data:\n",
        "        for text in t:\n",
        "          string = string + untoken().detokenize(text) + \" \"\n",
        "    elif axis == 1:\n",
        "      for text in data:\n",
        "          string = string + untoken().detokenize(text) + \" \"\n",
        "    else:\n",
        "      string =  [y for x in data for y in x]\n",
        "\n",
        "    text_list.append(string)\n",
        "  return text_list"
      ],
      "execution_count": 12,
      "outputs": []
    },
    {
      "cell_type": "code",
      "metadata": {
        "id": "QJXWxIJvEGJ5"
      },
      "source": [
        "train['paragraphs'] = untokenizer(train['paragraphs'], 0)\n",
        "train['summary'] = untokenizer(train['summary'], 1)\n",
        "train['labels'] = untokenizer(train['gold_labels'], 2)\n",
        "\n",
        "test['paragraphs'] = untokenizer(test['paragraphs'], 0)\n",
        "test['summary'] = untokenizer(test['summary'], 1)\n",
        "test['labels'] = untokenizer(test['gold_labels'], 2)"
      ],
      "execution_count": 13,
      "outputs": []
    },
    {
      "cell_type": "code",
      "metadata": {
        "colab": {
          "base_uri": "https://localhost:8080/"
        },
        "id": "e4bZTTYkFgBL",
        "outputId": "88182dc0-c6de-4e87-a4bc-25ccaaf766f5"
      },
      "source": [
        "pd.set_option('display.max_columns', None)\n",
        "pd.set_option(\"display.max_colwidth\", None)\n",
        "\n",
        "train.info()\n",
        "test.info()"
      ],
      "execution_count": 14,
      "outputs": [
        {
          "output_type": "stream",
          "text": [
            "<class 'pandas.core.frame.DataFrame'>\n",
            "Int64Index: 15012 entries, 0 to 749\n",
            "Data columns (total 8 columns):\n",
            " #   Column       Non-Null Count  Dtype \n",
            "---  ------       --------------  ----- \n",
            " 0   category     15012 non-null  object\n",
            " 1   gold_labels  15012 non-null  object\n",
            " 2   id           15012 non-null  object\n",
            " 3   paragraphs   15012 non-null  object\n",
            " 4   source       15012 non-null  object\n",
            " 5   source_url   15012 non-null  object\n",
            " 6   summary      15012 non-null  object\n",
            " 7   labels       15012 non-null  object\n",
            "dtypes: object(8)\n",
            "memory usage: 1.0+ MB\n",
            "<class 'pandas.core.frame.DataFrame'>\n",
            "RangeIndex: 3762 entries, 0 to 3761\n",
            "Data columns (total 8 columns):\n",
            " #   Column       Non-Null Count  Dtype \n",
            "---  ------       --------------  ----- \n",
            " 0   category     3762 non-null   object\n",
            " 1   gold_labels  3762 non-null   object\n",
            " 2   id           3762 non-null   object\n",
            " 3   paragraphs   3762 non-null   object\n",
            " 4   source       3762 non-null   object\n",
            " 5   source_url   3762 non-null   object\n",
            " 6   summary      3762 non-null   object\n",
            " 7   labels       3762 non-null   object\n",
            "dtypes: object(8)\n",
            "memory usage: 235.2+ KB\n"
          ],
          "name": "stdout"
        }
      ]
    },
    {
      "cell_type": "code",
      "metadata": {
        "colab": {
          "base_uri": "https://localhost:8080/",
          "height": 1000
        },
        "id": "RPlt1jkHeWGj",
        "outputId": "1f20a793-6931-4080-e0c6-a4fa1c460479"
      },
      "source": [
        "columns = ['labels','paragraphs', 'summary']\n",
        "train[columns].head(2)"
      ],
      "execution_count": 15,
      "outputs": [
        {
          "output_type": "execute_result",
          "data": {
            "text/html": [
              "<div>\n",
              "<style scoped>\n",
              "    .dataframe tbody tr th:only-of-type {\n",
              "        vertical-align: middle;\n",
              "    }\n",
              "\n",
              "    .dataframe tbody tr th {\n",
              "        vertical-align: top;\n",
              "    }\n",
              "\n",
              "    .dataframe thead th {\n",
              "        text-align: right;\n",
              "    }\n",
              "</style>\n",
              "<table border=\"1\" class=\"dataframe\">\n",
              "  <thead>\n",
              "    <tr style=\"text-align: right;\">\n",
              "      <th></th>\n",
              "      <th>labels</th>\n",
              "      <th>paragraphs</th>\n",
              "      <th>summary</th>\n",
              "    </tr>\n",
              "  </thead>\n",
              "  <tbody>\n",
              "    <tr>\n",
              "      <th>0</th>\n",
              "      <td>[False, True, True, True, False, False, False, False, False, False, False, False, False, False, False, False, False, False]</td>\n",
              "      <td>Jakarta, CNN Indonesia - - Dokter Ryan Thamrin, yang terkenal lewat acara Dokter Oz Indonesia, meninggal dunia pada Jumat (4 / 8) dini hari. Dokter Lula Kamal yang merupakan selebriti sekaligus rekan kerja Ryan menyebut kawannya itu sudah sakit sejak setahun yang lalu. Lula menuturkan, sakit itu membuat Ryan mesti vakum dari semua kegiatannya, termasuk menjadi pembawa acara Dokter Oz Indonesia. Kondisi itu membuat Ryan harus kembali ke kampung halamannya di Pekanbaru, Riau untuk menjalani istirahat. \" Setahu saya dia orangnya sehat, tapi tahun lalu saya dengar dia sakit. ( Karena) sakitnya, ia langsung pulang ke Pekanbaru, jadi kami yang mau jenguk juga susah. Barangkali mau istirahat, ya betul juga, kalau di Jakarta susah isirahatnya, \" kata Lula kepada CNNIndonesia.com, Jumat (4 / 8). Lula yang mengenal Ryan sejak sebelum aktif berkarier di televisi mengaku belum sempat membesuk Ryan lantaran lokasi yang jauh. Dia juga tak tahu penyakit apa yang diderita Ryan. \" Itu saya enggak tahu, belum sempat jenguk dan enggak selamanya bisa dijenguk juga. Enggak tahu berat sekali apa bagaimana, \" tutur Ryan. Walau sudah setahun menderita sakit, Lula tak mengetahui apa penyebab pasti kematian Dr Oz Indonesia itu. Meski demikian, ia mendengar beberapa kabar yang menyebut bahwa penyebab Ryan meninggal adalah karena jatuh di kamar mandi. “ Saya tidak tahu, barangkali penyakit yang dulu sama yang sekarang berbeda, atau penyebab kematiannya beda dari penyakit sebelumnya. Kita kan enggak bisa mengambil kesimpulan, \" kata Lula. Ryan Thamrin terkenal sebagai dokter yang rutin membagikan tips dan informasi kesehatan lewat tayangan Dokter Oz Indonesia. Ryan menempuh Pendidikan Dokter pada tahun 2002 di Fakultas Kedokteran Universitas Gadjah Mada. Dia kemudian melanjutkan pendidikan Klinis Kesehatan Reproduksi dan Penyakit Menular Seksual di Mahachulalongkornrajavidyalaya University, Bangkok, Thailand pada 2004.</td>\n",
              "      <td>Dokter Lula Kamal yang merupakan selebriti sekaligus rekan kerja Ryan Thamrin menyebut kawannya itu sudah sakit sejak setahun yang lalu. Lula menuturkan, sakit itu membuat Ryan mesti vakum dari semua kegiatannya, termasuk menjadi pembawa acara Dokter Oz Indonesia. Kondisi itu membuat Ryan harus kembali ke kampung halamannya di Pekanbaru, Riau untuk menjalani istirahat.</td>\n",
              "    </tr>\n",
              "    <tr>\n",
              "      <th>1</th>\n",
              "      <td>[False, False, False, False, False, True, True, False, False, True, False, False, False, False, False, False, False, False, False, False, False, False, False, False, False, False, False, False, False, False, False, False, False, False, False, False, False, False, False, False]</td>\n",
              "      <td>Selfie ialah salah satu tema terpanas di kalangan produsen smartphone, bahkan menjadi senjata andalan beberapa brand terkenal. Anda mungkin berpikir bahwa saat ini, pasar handset spesialis selfie sudah sangat sesak. Tapi Asus masih melihat adanya peluang besar menanti di sana. Dari data mereka, sebanyak 71 persen orang Indonesia setidaknya mengambil selfie atau wefie setiap minggu. Setelah mulai menyelami ranah swafoto dua tahun silam lewat ZanFone Selfie, sang produsen hardware asal Taiwan itu akhirnya membawa sepasang pewarisnya ke tanah air. Handset - handset ini merupakan anggota keluarga ZenFone generasi keempat dan keduanya sama-sama dibekali setup kamera ganda di depan. Mereka adalah Asus ZenFone 4 Selfie Pro ZD552KL dan ZenFone 4 Selfie ZD553KL. CEO Asus Jerry Shen menjelaskan bahwa sudah waktunya bagi Asus untuk memberikan penawaran baru buat penggemar self - portrait demi menunjukkan keseriusan mereka di segmen itu. Walaupun   telah tersedia banyak pilihan,   Asus berpendapat bahwa konsumen di Indonesia membutuhkan solusi yang ‘ lebih profesional’. Dua ZenFone Selfie anyar ini kabarnya diracik sedemikian rupa sebagai jawaban atas kekurangan yang ada di perangkat - perangkat kompetitor, khususnya pada aspek jangkauan lensa dan performa di kondisi low-light. ZenFone 4 Selfie Pro   merupakan produk swafoto pamungkas Asus. Tubuh berbahan aluminiumnya dibuat melalui teknik nano molding dan tiap lekukannya dibentuk secara presisi. Dipadu layar berlapis Corning Gorilla Glass 5 2.5D, saya akui penampilan handset ini sangat menawan, terutama   untuk varian berwarna merahnya. Sebagai jendela akses konten, smartphone    menghidangkan layar AMOLED 1080p berkepadatan 401 ppi seluas 5,5 - inci. Atraksi utama dari ZenFone 4 Selfie Pro tentu saja adalah kamera depannya. Di sana, Asus mencantumkan sistem DuoPixel 24Mp, berisi kombinasi sepasang sensor Sony Exmor RS IMX362 1,4 µm 12 - megapixel dengan aperture f/1.8, ditambah sensor Omnivision 5670 1,12 µm f/2.2 yang memiliki lensa wide-angle 120 derajat, sehingga kamera bisa merangkul objek dua kali lebih banyak – memungkinkan Anda ber-selfie bersama kawan ataupun keluarga tanpa bantuan monopod. Selain itu, Asus melengkapi ZenFone 4 Selfie Pro dengan bundel perkakas khusus swafoto bernama SelfieMaster. Tool ini berisi fitur-fitur krusial semisal beautify (buat foto maupun video), serta kolase dan BeautyLive. Produsen juga tak lupa menyiapkan flash LED softlight   untuk membantu pengambilan foto di kondisi temaram. Kamera belakangnya sendiri mengandalkan sensor Sony Exmor IMX351 1 µm 16 - megapixel berlensa 26 mm f/2.2. Ia dibantu sistem electronic image stabilization, phase detection autofocus, serta LED dual - tone flash. Di dalam, Asus mempersenjatai ZD552KL dengan chip Qualcomm Snapdragon 625 (ada prosesor octa-core Cortex - A53 2 GHz dan GPU Adreno 506), RAM sebesar 4 GB, ROM 64 GB, dan baterai 3.000 mAh. Smartphone berjalan di sistem operasi Android 7.1.1 Nougat plus interface ZenUI 4.0. ZD553KL ialah alternatif lebih terjangkau dari saudarinya di atas. Handset mengusung arahan desain serupa ZenFone 4 Selfie Pro, namun konstruksi tubuhnya terbuat dari plastik, dan layar IPS 5,5 - incinya menyajikan resolusi 720p. Tapi jangan cemas soal penampilannya, smartphone tetap memanfaatkan kaca 2.5D sehingga memberi kesan menyambung pada lekukan di sisi samping. Kapabilitas swafoto ZenFone 4 Selfie bersandar pada sensor Omnivision 20880 1 µm 20 - megapixel f/2.0 dan sensor Omnivision 8856 1,12 µm f/2.4 dengan lensa wide-angle 120 derajat. Sudut jangkauan jepretan dan sejumlah kelengkapannya tak berbeda dari Selfie 4 Pro. Anda kembali dihindangkan SelfieMaster, flash LED softlight, mode panorama, serta HDR. Ukuran megapixel kamera belakangnya setara ZenFone 4 Selfie Pro, namun jenis sensornya berbeda. Smartphone tersebut menggunakan Omnivision 16880 1 µm 16Mp dengan aperture lensa f/2.2. Meski demikian, fitur-fitur penunjang fotografi seperti PDAF, EIS, dan flash LED juga tetap ada di sana. ZenFone 4 Selfie diotaki system-on-chip Qualcomm Snapdragon 430, berisi CPU octa-core Cortex - A53 1,4 GHz dan GPU Adreno 505. Handset menyimpan RAM 4 GB, memori internal 64 GB, lalu tenaganya dipasok oleh baterai 3.000 mAh non - removable di dalam. Satu keunikan yang membuat ZD553KL lebih ‘ unggul’ dari ZenFone 4 Selfie Pro adalah dukungan tiga slot kartu: dua untuk SIM, dan satu lagi buat microSD (storage dapat diekspansi   sampai   2 TB). Smartphone juga beroperasi di platform Android 7.1.1 Nougat dengan ZenUI 4.0. ZenFone 4 Selfie Pro ZD552KL dibanderol seharga Rp 5 juta, sedangkan ZenFone 4 Selfie ZD553KL dipatok di harga Rp 3,5 juta. Kedua perangkat sudah mulai dipasarkan mulai tanggal 25 November, dan sampai   tanggal 10 November nanti, paket penjualan turut dibundel bersama ‘ Gong Yoo Special Gift Box’ serta speaker Bluetooth khusus ZenFone 4 Selfie Pro – selama persediaan masih ada. DailySocial.id adalah portal berita startup dan inovasi teknologi. Kamu bisa menjadi member komunitas startup dan inovasi DailySocial.id, mengunduh laporan riset dan statistik seputar teknologi secara cuma-cuma, dan mengikuti berita startup Indonesia dan gadget terbaru.</td>\n",
              "      <td>Asus memperkenalkan   ZenFone generasi keempat dan keduanya sama-sama dibekali setup kamera ganda di depan. Mereka adalah Asus ZenFone 4 Selfie Pro ZD552KL dan ZenFone 4 Selfie ZD553KL. Dua ZenFone Selfie anyar ini kabarnya diracik sedemikian rupa sebagai jawaban atas kekurangan yang ada di perangkat - perangkat kompetitor, khususnya pada aspek jangkauan lensa dan performa di kondisi low-light.</td>\n",
              "    </tr>\n",
              "  </tbody>\n",
              "</table>\n",
              "</div>"
            ],
            "text/plain": [
              "                                                                                                                                                                                                                                                                                  labels  \\\n",
              "0                                                                                                                                                            [False, True, True, True, False, False, False, False, False, False, False, False, False, False, False, False, False, False]   \n",
              "1  [False, False, False, False, False, True, True, False, False, True, False, False, False, False, False, False, False, False, False, False, False, False, False, False, False, False, False, False, False, False, False, False, False, False, False, False, False, False, False, False]   \n",
              "\n",
              "                                                                                                                                                                                                                                                                                                                                                                                                                                                                                                                                                                                                                                                                                                                                                                                                                                                                                                                                                                                                                                                                                                                                                                                                                                                                                                                                                                                                                                                                                                                                                                                                                                                                                                                                                                                                                                                                                                                                                                                                                                                                                                                                                                                                                                                                                                                                                                                                                                                                                                                                                                                                                                                                                                                                                                                                                                                                                                                                                                                                                                                                                                                                                                                                                                                                                                                                                                                                                                                                                                                                                                                                                                                                                                                                                                                                                                                                                                                                                                                                                                                                                                                                                                                                                                                                                                                                                                                                                                                                                                                                                                                                                                                                                                                                                                                                                                                                                                                                                                                                                                                                                                                                                                                                                                                                                                                                                                                   paragraphs  \\\n",
              "0                                                                                                                                                                                                                                                                                                                                                                                                                                                                                                                                                                                                                                                                                                                                                                                                                                                                                                                                                                                                                                                                                                                                                                                                                                                                                                                                                                                                                                                                                                                                                                                                                                                                                                                                                                                                                                                                                                                                                                                                                                                                                                                                                                                                                                                                                                                                                                                                                                                                                                                                                                                                                                                                                                                                                                                                                                                                                                                                                                                                                                                                                                                                                                                                                                                                                                                                                                                        Jakarta, CNN Indonesia - - Dokter Ryan Thamrin, yang terkenal lewat acara Dokter Oz Indonesia, meninggal dunia pada Jumat (4 / 8) dini hari. Dokter Lula Kamal yang merupakan selebriti sekaligus rekan kerja Ryan menyebut kawannya itu sudah sakit sejak setahun yang lalu. Lula menuturkan, sakit itu membuat Ryan mesti vakum dari semua kegiatannya, termasuk menjadi pembawa acara Dokter Oz Indonesia. Kondisi itu membuat Ryan harus kembali ke kampung halamannya di Pekanbaru, Riau untuk menjalani istirahat. \" Setahu saya dia orangnya sehat, tapi tahun lalu saya dengar dia sakit. ( Karena) sakitnya, ia langsung pulang ke Pekanbaru, jadi kami yang mau jenguk juga susah. Barangkali mau istirahat, ya betul juga, kalau di Jakarta susah isirahatnya, \" kata Lula kepada CNNIndonesia.com, Jumat (4 / 8). Lula yang mengenal Ryan sejak sebelum aktif berkarier di televisi mengaku belum sempat membesuk Ryan lantaran lokasi yang jauh. Dia juga tak tahu penyakit apa yang diderita Ryan. \" Itu saya enggak tahu, belum sempat jenguk dan enggak selamanya bisa dijenguk juga. Enggak tahu berat sekali apa bagaimana, \" tutur Ryan. Walau sudah setahun menderita sakit, Lula tak mengetahui apa penyebab pasti kematian Dr Oz Indonesia itu. Meski demikian, ia mendengar beberapa kabar yang menyebut bahwa penyebab Ryan meninggal adalah karena jatuh di kamar mandi. “ Saya tidak tahu, barangkali penyakit yang dulu sama yang sekarang berbeda, atau penyebab kematiannya beda dari penyakit sebelumnya. Kita kan enggak bisa mengambil kesimpulan, \" kata Lula. Ryan Thamrin terkenal sebagai dokter yang rutin membagikan tips dan informasi kesehatan lewat tayangan Dokter Oz Indonesia. Ryan menempuh Pendidikan Dokter pada tahun 2002 di Fakultas Kedokteran Universitas Gadjah Mada. Dia kemudian melanjutkan pendidikan Klinis Kesehatan Reproduksi dan Penyakit Menular Seksual di Mahachulalongkornrajavidyalaya University, Bangkok, Thailand pada 2004.    \n",
              "1  Selfie ialah salah satu tema terpanas di kalangan produsen smartphone, bahkan menjadi senjata andalan beberapa brand terkenal. Anda mungkin berpikir bahwa saat ini, pasar handset spesialis selfie sudah sangat sesak. Tapi Asus masih melihat adanya peluang besar menanti di sana. Dari data mereka, sebanyak 71 persen orang Indonesia setidaknya mengambil selfie atau wefie setiap minggu. Setelah mulai menyelami ranah swafoto dua tahun silam lewat ZanFone Selfie, sang produsen hardware asal Taiwan itu akhirnya membawa sepasang pewarisnya ke tanah air. Handset - handset ini merupakan anggota keluarga ZenFone generasi keempat dan keduanya sama-sama dibekali setup kamera ganda di depan. Mereka adalah Asus ZenFone 4 Selfie Pro ZD552KL dan ZenFone 4 Selfie ZD553KL. CEO Asus Jerry Shen menjelaskan bahwa sudah waktunya bagi Asus untuk memberikan penawaran baru buat penggemar self - portrait demi menunjukkan keseriusan mereka di segmen itu. Walaupun   telah tersedia banyak pilihan,   Asus berpendapat bahwa konsumen di Indonesia membutuhkan solusi yang ‘ lebih profesional’. Dua ZenFone Selfie anyar ini kabarnya diracik sedemikian rupa sebagai jawaban atas kekurangan yang ada di perangkat - perangkat kompetitor, khususnya pada aspek jangkauan lensa dan performa di kondisi low-light. ZenFone 4 Selfie Pro   merupakan produk swafoto pamungkas Asus. Tubuh berbahan aluminiumnya dibuat melalui teknik nano molding dan tiap lekukannya dibentuk secara presisi. Dipadu layar berlapis Corning Gorilla Glass 5 2.5D, saya akui penampilan handset ini sangat menawan, terutama   untuk varian berwarna merahnya. Sebagai jendela akses konten, smartphone    menghidangkan layar AMOLED 1080p berkepadatan 401 ppi seluas 5,5 - inci. Atraksi utama dari ZenFone 4 Selfie Pro tentu saja adalah kamera depannya. Di sana, Asus mencantumkan sistem DuoPixel 24Mp, berisi kombinasi sepasang sensor Sony Exmor RS IMX362 1,4 µm 12 - megapixel dengan aperture f/1.8, ditambah sensor Omnivision 5670 1,12 µm f/2.2 yang memiliki lensa wide-angle 120 derajat, sehingga kamera bisa merangkul objek dua kali lebih banyak – memungkinkan Anda ber-selfie bersama kawan ataupun keluarga tanpa bantuan monopod. Selain itu, Asus melengkapi ZenFone 4 Selfie Pro dengan bundel perkakas khusus swafoto bernama SelfieMaster. Tool ini berisi fitur-fitur krusial semisal beautify (buat foto maupun video), serta kolase dan BeautyLive. Produsen juga tak lupa menyiapkan flash LED softlight   untuk membantu pengambilan foto di kondisi temaram. Kamera belakangnya sendiri mengandalkan sensor Sony Exmor IMX351 1 µm 16 - megapixel berlensa 26 mm f/2.2. Ia dibantu sistem electronic image stabilization, phase detection autofocus, serta LED dual - tone flash. Di dalam, Asus mempersenjatai ZD552KL dengan chip Qualcomm Snapdragon 625 (ada prosesor octa-core Cortex - A53 2 GHz dan GPU Adreno 506), RAM sebesar 4 GB, ROM 64 GB, dan baterai 3.000 mAh. Smartphone berjalan di sistem operasi Android 7.1.1 Nougat plus interface ZenUI 4.0. ZD553KL ialah alternatif lebih terjangkau dari saudarinya di atas. Handset mengusung arahan desain serupa ZenFone 4 Selfie Pro, namun konstruksi tubuhnya terbuat dari plastik, dan layar IPS 5,5 - incinya menyajikan resolusi 720p. Tapi jangan cemas soal penampilannya, smartphone tetap memanfaatkan kaca 2.5D sehingga memberi kesan menyambung pada lekukan di sisi samping. Kapabilitas swafoto ZenFone 4 Selfie bersandar pada sensor Omnivision 20880 1 µm 20 - megapixel f/2.0 dan sensor Omnivision 8856 1,12 µm f/2.4 dengan lensa wide-angle 120 derajat. Sudut jangkauan jepretan dan sejumlah kelengkapannya tak berbeda dari Selfie 4 Pro. Anda kembali dihindangkan SelfieMaster, flash LED softlight, mode panorama, serta HDR. Ukuran megapixel kamera belakangnya setara ZenFone 4 Selfie Pro, namun jenis sensornya berbeda. Smartphone tersebut menggunakan Omnivision 16880 1 µm 16Mp dengan aperture lensa f/2.2. Meski demikian, fitur-fitur penunjang fotografi seperti PDAF, EIS, dan flash LED juga tetap ada di sana. ZenFone 4 Selfie diotaki system-on-chip Qualcomm Snapdragon 430, berisi CPU octa-core Cortex - A53 1,4 GHz dan GPU Adreno 505. Handset menyimpan RAM 4 GB, memori internal 64 GB, lalu tenaganya dipasok oleh baterai 3.000 mAh non - removable di dalam. Satu keunikan yang membuat ZD553KL lebih ‘ unggul’ dari ZenFone 4 Selfie Pro adalah dukungan tiga slot kartu: dua untuk SIM, dan satu lagi buat microSD (storage dapat diekspansi   sampai   2 TB). Smartphone juga beroperasi di platform Android 7.1.1 Nougat dengan ZenUI 4.0. ZenFone 4 Selfie Pro ZD552KL dibanderol seharga Rp 5 juta, sedangkan ZenFone 4 Selfie ZD553KL dipatok di harga Rp 3,5 juta. Kedua perangkat sudah mulai dipasarkan mulai tanggal 25 November, dan sampai   tanggal 10 November nanti, paket penjualan turut dibundel bersama ‘ Gong Yoo Special Gift Box’ serta speaker Bluetooth khusus ZenFone 4 Selfie Pro – selama persediaan masih ada. DailySocial.id adalah portal berita startup dan inovasi teknologi. Kamu bisa menjadi member komunitas startup dan inovasi DailySocial.id, mengunduh laporan riset dan statistik seputar teknologi secara cuma-cuma, dan mengikuti berita startup Indonesia dan gadget terbaru.    \n",
              "\n",
              "                                                                                                                                                                                                                                                                                                                                                                                                          summary  \n",
              "0                            Dokter Lula Kamal yang merupakan selebriti sekaligus rekan kerja Ryan Thamrin menyebut kawannya itu sudah sakit sejak setahun yang lalu. Lula menuturkan, sakit itu membuat Ryan mesti vakum dari semua kegiatannya, termasuk menjadi pembawa acara Dokter Oz Indonesia. Kondisi itu membuat Ryan harus kembali ke kampung halamannya di Pekanbaru, Riau untuk menjalani istirahat.   \n",
              "1  Asus memperkenalkan   ZenFone generasi keempat dan keduanya sama-sama dibekali setup kamera ganda di depan. Mereka adalah Asus ZenFone 4 Selfie Pro ZD552KL dan ZenFone 4 Selfie ZD553KL. Dua ZenFone Selfie anyar ini kabarnya diracik sedemikian rupa sebagai jawaban atas kekurangan yang ada di perangkat - perangkat kompetitor, khususnya pada aspek jangkauan lensa dan performa di kondisi low-light.   "
            ]
          },
          "metadata": {
            "tags": []
          },
          "execution_count": 15
        }
      ]
    },
    {
      "cell_type": "markdown",
      "metadata": {
        "id": "1mJMevl20oin"
      },
      "source": [
        "That's better! Before continue preprocesing data, let's check if it have empty value or duplicate value."
      ]
    },
    {
      "cell_type": "code",
      "metadata": {
        "colab": {
          "base_uri": "https://localhost:8080/"
        },
        "id": "iuOPsii1zqFZ",
        "outputId": "5e35555d-44f6-4b65-e330-7b814af00d05"
      },
      "source": [
        "train.isnull().any()"
      ],
      "execution_count": 16,
      "outputs": [
        {
          "output_type": "execute_result",
          "data": {
            "text/plain": [
              "category       False\n",
              "gold_labels    False\n",
              "id             False\n",
              "paragraphs     False\n",
              "source         False\n",
              "source_url     False\n",
              "summary        False\n",
              "labels         False\n",
              "dtype: bool"
            ]
          },
          "metadata": {
            "tags": []
          },
          "execution_count": 16
        }
      ]
    },
    {
      "cell_type": "code",
      "metadata": {
        "colab": {
          "base_uri": "https://localhost:8080/"
        },
        "id": "bjEG7KUfcxAk",
        "outputId": "a2702ea1-2265-4ff1-a9a3-b32e9e13d4e9"
      },
      "source": [
        "test.isnull().any()"
      ],
      "execution_count": 17,
      "outputs": [
        {
          "output_type": "execute_result",
          "data": {
            "text/plain": [
              "category       False\n",
              "gold_labels    False\n",
              "id             False\n",
              "paragraphs     False\n",
              "source         False\n",
              "source_url     False\n",
              "summary        False\n",
              "labels         False\n",
              "dtype: bool"
            ]
          },
          "metadata": {
            "tags": []
          },
          "execution_count": 17
        }
      ]
    },
    {
      "cell_type": "code",
      "metadata": {
        "colab": {
          "base_uri": "https://localhost:8080/",
          "height": 49
        },
        "id": "jn-QIOsuCDyR",
        "outputId": "854a7432-7996-4f46-b14c-65a653aeefc3"
      },
      "source": [
        "train[train['paragraphs'].duplicated()]"
      ],
      "execution_count": 18,
      "outputs": [
        {
          "output_type": "execute_result",
          "data": {
            "text/html": [
              "<div>\n",
              "<style scoped>\n",
              "    .dataframe tbody tr th:only-of-type {\n",
              "        vertical-align: middle;\n",
              "    }\n",
              "\n",
              "    .dataframe tbody tr th {\n",
              "        vertical-align: top;\n",
              "    }\n",
              "\n",
              "    .dataframe thead th {\n",
              "        text-align: right;\n",
              "    }\n",
              "</style>\n",
              "<table border=\"1\" class=\"dataframe\">\n",
              "  <thead>\n",
              "    <tr style=\"text-align: right;\">\n",
              "      <th></th>\n",
              "      <th>category</th>\n",
              "      <th>gold_labels</th>\n",
              "      <th>id</th>\n",
              "      <th>paragraphs</th>\n",
              "      <th>source</th>\n",
              "      <th>source_url</th>\n",
              "      <th>summary</th>\n",
              "      <th>labels</th>\n",
              "    </tr>\n",
              "  </thead>\n",
              "  <tbody>\n",
              "  </tbody>\n",
              "</table>\n",
              "</div>"
            ],
            "text/plain": [
              "Empty DataFrame\n",
              "Columns: [category, gold_labels, id, paragraphs, source, source_url, summary, labels]\n",
              "Index: []"
            ]
          },
          "metadata": {
            "tags": []
          },
          "execution_count": 18
        }
      ]
    },
    {
      "cell_type": "code",
      "metadata": {
        "colab": {
          "base_uri": "https://localhost:8080/",
          "height": 49
        },
        "id": "7X1i_K1cco2C",
        "outputId": "630fe11d-41f1-40dd-f2ac-4cbf8699ef41"
      },
      "source": [
        "test[test['paragraphs'].duplicated()]"
      ],
      "execution_count": 19,
      "outputs": [
        {
          "output_type": "execute_result",
          "data": {
            "text/html": [
              "<div>\n",
              "<style scoped>\n",
              "    .dataframe tbody tr th:only-of-type {\n",
              "        vertical-align: middle;\n",
              "    }\n",
              "\n",
              "    .dataframe tbody tr th {\n",
              "        vertical-align: top;\n",
              "    }\n",
              "\n",
              "    .dataframe thead th {\n",
              "        text-align: right;\n",
              "    }\n",
              "</style>\n",
              "<table border=\"1\" class=\"dataframe\">\n",
              "  <thead>\n",
              "    <tr style=\"text-align: right;\">\n",
              "      <th></th>\n",
              "      <th>category</th>\n",
              "      <th>gold_labels</th>\n",
              "      <th>id</th>\n",
              "      <th>paragraphs</th>\n",
              "      <th>source</th>\n",
              "      <th>source_url</th>\n",
              "      <th>summary</th>\n",
              "      <th>labels</th>\n",
              "    </tr>\n",
              "  </thead>\n",
              "  <tbody>\n",
              "  </tbody>\n",
              "</table>\n",
              "</div>"
            ],
            "text/plain": [
              "Empty DataFrame\n",
              "Columns: [category, gold_labels, id, paragraphs, source, source_url, summary, labels]\n",
              "Index: []"
            ]
          },
          "metadata": {
            "tags": []
          },
          "execution_count": 19
        }
      ]
    },
    {
      "cell_type": "markdown",
      "metadata": {
        "id": "snA4fJLH0utb"
      },
      "source": [
        "Great!\n",
        "\n",
        "No empty value and no duplicate value from **15012 rows** train data and **3762 rows** test data.\n",
        "Let's explore again our data and create preprocessing."
      ]
    },
    {
      "cell_type": "markdown",
      "metadata": {
        "id": "SGr7CfKmAwO3"
      },
      "source": [
        "### Sentences & Words Length"
      ]
    },
    {
      "cell_type": "code",
      "metadata": {
        "colab": {
          "base_uri": "https://localhost:8080/",
          "height": 281
        },
        "id": "wuIp5vD4AZTL",
        "outputId": "470cf62f-79cb-4a1b-cf1e-9457fd65a919"
      },
      "source": [
        "paragraphs_sentences = []\n",
        "summary_sentences = []\n",
        "\n",
        "# populate the lists with sentence lengths\n",
        "for t in train['paragraphs']:\n",
        "      paragraphs_sentences.append(len(sent_tokenize(t)))\n",
        "\n",
        "# populate the lists with sentence lengths\n",
        "for t in train['summary']:\n",
        "      summary_sentences.append(len(sent_tokenize(t)))\n",
        "\n",
        "sentences_hist = pd.DataFrame({'Paragraphs':paragraphs_sentences, 'Summary':summary_sentences})\n",
        "\n",
        "sentences_hist.hist()\n",
        "plt.show()"
      ],
      "execution_count": 20,
      "outputs": [
        {
          "output_type": "display_data",
          "data": {
            "image/png": "[encoded data removed]",
            "text/plain": [
              "<Figure size 432x288 with 2 Axes>"
            ]
          },
          "metadata": {
            "tags": [],
            "needs_background": "light"
          }
        }
      ]
    },
    {
      "cell_type": "code",
      "metadata": {
        "colab": {
          "base_uri": "https://localhost:8080/",
          "height": 281
        },
        "id": "flWSez25E1VR",
        "outputId": "5c7331fc-a0d9-49fe-b8d1-2f9c12e6fca8"
      },
      "source": [
        "paragraphs_words = []\n",
        "summary_words = []\n",
        "\n",
        "# populate the lists with sentence lengths\n",
        "for t in train['paragraphs']:\n",
        "      paragraphs_words.append(len(t.split()))\n",
        "\n",
        "# populate the lists with sentence lengths\n",
        "for t in train['summary']:\n",
        "      summary_words.append(len(t.split()))\n",
        "\n",
        "words_hist = pd.DataFrame({'Paragraphs':paragraphs_words, 'Summary':summary_words})\n",
        "\n",
        "words_hist.hist(bins=30)\n",
        "plt.show()"
      ],
      "execution_count": 21,
      "outputs": [
        {
          "output_type": "display_data",
          "data": {
            "image/png": "[encoded data removed]",
            "text/plain": [
              "<Figure size 432x288 with 2 Axes>"
            ]
          },
          "metadata": {
            "tags": [],
            "needs_background": "light"
          }
        }
      ]
    },
    {
      "cell_type": "markdown",
      "metadata": {
        "id": "BnFoaYxRKny-"
      },
      "source": [
        "So the number of sentences in the paragraph is around 15-20 sentences while the summary mostly have less than 5 sentences.\n",
        "\n",
        "For words, paragraphs have around 250 words and summaries have 60 words."
      ]
    },
    {
      "cell_type": "markdown",
      "metadata": {
        "id": "jQKJ9b2gK7GA"
      },
      "source": [
        "# Extract Features\n",
        "\n",
        "We will create a model for text summarization task. TextRank and SumBasic will be our feature extraction from senteces to create insight what model should we build. Let's start!"
      ]
    },
    {
      "cell_type": "markdown",
      "metadata": {
        "id": "TDaB0k1sMzkU"
      },
      "source": [
        "## TextRank"
      ]
    },
    {
      "cell_type": "markdown",
      "metadata": {
        "id": "lS3pjBxFM45n"
      },
      "source": [
        "Load pretrained words embeddings:"
      ]
    },
    {
      "cell_type": "code",
      "metadata": {
        "colab": {
          "base_uri": "https://localhost:8080/"
        },
        "id": "Kp2dlLyvNZ3E",
        "outputId": "c1de7053-6cba-4f17-8e03-d170e7b99103"
      },
      "source": [
        "# Download pretrained word embedding vector\n",
        "!gdown --id 1FbCFQa8wuNZdEX_RdQEzqPnRC3wRI6Kk"
      ],
      "execution_count": 5,
      "outputs": [
        {
          "output_type": "stream",
          "text": [
            "Downloading...\n",
            "From: https://drive.google.com/uc?id=1FbCFQa8wuNZdEX_RdQEzqPnRC3wRI6Kk\n",
            "To: /content/cc.id.vec\n",
            "890MB [00:09, 89.8MB/s]\n"
          ],
          "name": "stdout"
        }
      ]
    },
    {
      "cell_type": "code",
      "metadata": {
        "colab": {
          "base_uri": "https://localhost:8080/"
        },
        "id": "5Y1mJm40M6oc",
        "outputId": "cb3195f9-923c-4762-e4df-d94c77ac2466"
      },
      "source": [
        "word_embeddings = {}\n",
        "with open('/content/cc.id.vec', encoding='utf-8') as file:\n",
        "  for f in file:\n",
        "      values = f.split()\n",
        "      word = values[0]\n",
        "      coefs = np.asarray(values[1:], dtype='float32')\n",
        "      word_embeddings[word] = coefs\n",
        "\n",
        "len(word_embeddings)"
      ],
      "execution_count": 26,
      "outputs": [
        {
          "output_type": "execute_result",
          "data": {
            "text/plain": [
              "400001"
            ]
          },
          "metadata": {
            "tags": []
          },
          "execution_count": 26
        }
      ]
    },
    {
      "cell_type": "markdown",
      "metadata": {
        "id": "yCAE8P8xN0dh"
      },
      "source": [
        "TextRank Algorithm"
      ]
    },
    {
      "cell_type": "code",
      "metadata": {
        "id": "mmCdBNsxNyJt"
      },
      "source": [
        "# For sorting return list\n",
        "def sorting(e):\n",
        "    return e[2]\n",
        "\n",
        "# TextRank algorithm\n",
        "def TextRank(sentences, processed):\n",
        "    sentence_vectors = []\n",
        "    for i in processed:\n",
        "      if len(i) != 0:\n",
        "        v = sum([word_embeddings.get(w, np.zeros((300,))) for w in i.split()])/(len(i.split())+0.001)\n",
        "      else:\n",
        "        v = np.zeros((300,))\n",
        "      sentence_vectors.append(v)\n",
        "\n",
        "    sim_mat = np.zeros([len(sentences), len(sentences)])\n",
        "    for i in range(len(sentences)):\n",
        "      for j in range(len(sentences)):\n",
        "        if i != j:\n",
        "          sim_mat[i][j] = cosine_similarity(sentence_vectors[i].reshape(1,300), sentence_vectors[j].reshape(1,300))[0,0]\n",
        "\n",
        "    nx_graph = nx.from_numpy_array(sim_mat)\n",
        "    scores = nx.pagerank_numpy(nx_graph)\n",
        "\n",
        "    ranked_sentences = sorted(([scores[i],i+1,s] for i,s in enumerate(sentences)), reverse=True)\n",
        "\n",
        "    text_rank = []\n",
        "    for index, sentence in enumerate(ranked_sentences):\n",
        "      sentence.insert(1, index+1)\n",
        "      text_rank.append(sentence)\n",
        "\n",
        "    # Return list(TextRank weights, TextRank order, sentence order, sentence) => text_rank\n",
        "    text_rank = sorted(text_rank,key=sorting)\n",
        "\n",
        "    TR_weight = []\n",
        "    TR_order = []\n",
        "    for i in range(len(text_rank)):\n",
        "      TR_weight.append(text_rank[i][0])\n",
        "      TR_order.append(text_rank[i][1])\n",
        "    # Just Return 2 list(TextRank weights, TextRank order)\n",
        "    return TR_weight, TR_order"
      ],
      "execution_count": 27,
      "outputs": []
    },
    {
      "cell_type": "markdown",
      "metadata": {
        "id": "bLzLaQc4YHCa"
      },
      "source": [
        "Example result from variable text_rank:\n",
        "\n",
        "\n",
        "```\n",
        "[0.05728266277281181, 7, 1, 'Jakarta, CNN Indonesia - - Dokter Ryan Thamrin, yang terkenal lewat acara Dokter Oz Indonesia, meninggal dunia pada Jumat (4 / 8) dini hari.']\n",
        "[0.060217967742173646, 2, 2, 'Dokter Lula Kamal yang merupakan selebriti sekaligus rekan kerja Ryan menyebut kawannya itu sudah sakit sejak setahun yang lalu.']\n",
        "[0.06045704497658339, 1, 3, 'Lula menuturkan, sakit itu membuat Ryan mesti vakum dari semua kegiatannya, termasuk menjadi pembawa acara Dokter Oz Indonesia.']\n",
        "[0.05209530959721178, 15, 4, 'Kondisi itu membuat Ryan harus kembali ke kampung halamannya di Pekanbaru, Riau untuk menjalani istirahat. \"']\n",
        "[0.05840185989845859, 4, 5, 'Setahu saya dia orangnya sehat, tapi tahun lalu saya dengar dia sakit.']\n",
        "[0.05637943589724592, 10, 6, '( Karena) sakitnya, ia langsung pulang ke Pekanbaru, jadi kami yang mau jenguk juga susah.']\n",
        "[0.05646634343163575, 9, 7, 'Barangkali mau istirahat, ya betul juga, kalau di Jakarta susah isirahatnya, \" kata Lula kepada CNNIndonesia.com, Jumat (4 / 8).']\n",
        "[0.058732876811454365, 3, 8, 'Lula yang mengenal Ryan sejak sebelum aktif berkarier di televisi mengaku belum sempat membesuk Ryan lantaran lokasi yang jauh.']\n",
        "[0.055390279489910994, 12, 9, 'Dia juga tak tahu penyakit apa yang diderita Ryan. \"']\n",
        "[0.053688773306564144, 14, 10, 'Itu saya enggak tahu, belum sempat jenguk dan enggak selamanya bisa dijenguk juga.']\n",
        "[0.05747455457427858, 6, 11, 'Enggak tahu berat sekali apa bagaimana, \" tutur Ryan.']\n",
        "[0.055102006046349405, 13, 12, 'Walau sudah setahun menderita sakit, Lula tak mengetahui apa penyebab pasti kematian Dr Oz Indonesia itu.']\n",
        "[0.05763968547747263, 5, 13, 'Meski demikian, ia mendengar beberapa kabar yang menyebut bahwa penyebab Ryan meninggal adalah karena jatuh di kamar mandi.']\n",
        "[0.05690594567038913, 8, 14, '“ Saya tidak tahu, barangkali penyakit yang dulu sama yang sekarang berbeda, atau penyebab kematiannya beda dari penyakit sebelumnya.']\n",
        "[0.048397823134637225, 18, 15, 'Kita kan enggak bisa mengambil kesimpulan, \" kata Lula.']\n",
        "[0.056112156670864166, 11, 16, 'Ryan Thamrin terkenal sebagai dokter yang rutin membagikan tips dan informasi kesehatan lewat tayangan Dokter Oz Indonesia.']\n",
        "[0.04974842217789095, 16, 17, 'Ryan menempuh Pendidikan Dokter pada tahun 2002 di Fakultas Kedokteran Universitas Gadjah Mada.']\n",
        "[0.049506852324067645, 17, 18, 'Dia kemudian melanjutkan pendidikan Klinis Kesehatan Reproduksi dan Penyakit Menular Seksual di Mahachulalongkornrajavidyalaya University, Bangkok, Thailand pada 2004.']\n",
        "```\n",
        "\n"
      ]
    },
    {
      "cell_type": "markdown",
      "metadata": {
        "id": "QX2iAyYHN6lt"
      },
      "source": [
        "## SumBasic"
      ]
    },
    {
      "cell_type": "code",
      "metadata": {
        "id": "k0s6l_uXZlB_"
      },
      "source": [
        "def SumBasic(sentences, processed):\n",
        "  # Count the sum weights\n",
        "  frequency = {}\n",
        "  for text in processed:\n",
        "    for word in word_tokenize(text):\n",
        "      if word not in frequency.keys():\n",
        "        frequency[word]=1\n",
        "      else:\n",
        "        frequency[word]+=1\n",
        "  max_fre = max(frequency.values())\n",
        "  for word in frequency.keys():\n",
        "      frequency[word]=(frequency[word]/max_fre)\n",
        "  \n",
        "  # Score the weight for every sentence\n",
        "  scores = {}\n",
        "  sentence_count = 0\n",
        "  sentence_len = []\n",
        "  for i, sentence in enumerate(processed):\n",
        "    if (len(sentence) != 0):\n",
        "      for word in word_tokenize(sentence):  \n",
        "        if word in frequency.keys():\n",
        "            if i not in scores.keys():\n",
        "              scores[i] = frequency[word]            \n",
        "            else:\n",
        "              scores[i] += frequency[word]\n",
        "            sentence_count += 1\n",
        "    else:\n",
        "      scores[i] = 0.0000001\n",
        "    sentence_len.append(sentence_count)\n",
        "    sentence_count = 0\n",
        "\n",
        "  ranked_sentences = sorted(([scores[i],i+1,s] for i,s in enumerate(sentences)), reverse=True)\n",
        "\n",
        "  # Return list(SumBasic weights, SumBasic order, sentence order, sentence) => sum_bas\n",
        "  sum_bas = []\n",
        "  for index, sentence in enumerate(ranked_sentences):\n",
        "    sentence.insert(1, index+1)\n",
        "    sum_bas.append(sentence)\n",
        "\n",
        "  sum_bas = sorted(sum_bas,key=sorting)\n",
        "\n",
        "  SB_weight = []\n",
        "  SB_order = []\n",
        "  for i in range(len(sum_bas)):\n",
        "    SB_weight.append(sum_bas[i][0])\n",
        "    SB_order.append(sum_bas[i][1])\n",
        "  # Just Return 2 list(TextRank weights, TextRank order)\n",
        "  return SB_weight, SB_order, sentence_len"
      ],
      "execution_count": 28,
      "outputs": []
    },
    {
      "cell_type": "markdown",
      "metadata": {
        "id": "cMZ9tm-FbeEK"
      },
      "source": [
        "Example result from variable sum_bas :\n",
        "\n",
        "\n",
        "```\n",
        "[4.727272727272726, 1, 0, 'Jakarta, CNN Indonesia - - Dokter Ryan Thamrin, yang terkenal lewat acara Dokter Oz Indonesia, meninggal dunia pada Jumat (4 / 8) dini hari.']\n",
        "[3.909090909090908, 4, 1, 'Dokter Lula Kamal yang merupakan selebriti sekaligus rekan kerja Ryan menyebut kawannya itu sudah sakit sejak setahun yang lalu.']\n",
        "[4.09090909090909, 2, 2, 'Lula menuturkan, sakit itu membuat Ryan mesti vakum dari semua kegiatannya, termasuk menjadi pembawa acara Dokter Oz Indonesia.']\n",
        "[1.9999999999999998, 12, 3, 'Kondisi itu membuat Ryan harus kembali ke kampung halamannya di Pekanbaru, Riau untuk menjalani istirahat. \"']\n",
        "[1.0909090909090908, 17, 4, 'Setahu saya dia orangnya sehat, tapi tahun lalu saya dengar dia sakit.']\n",
        "[0.9090909090909092, 18, 5, '( Karena) sakitnya, ia langsung pulang ke Pekanbaru, jadi kami yang mau jenguk juga susah.']\n",
        "[2.0, 11, 6, 'Barangkali mau istirahat, ya betul juga, kalau di Jakarta susah isirahatnya, \" kata Lula kepada CNNIndonesia.com, Jumat (4 / 8).']\n",
        "[3.7272727272727266, 5, 7, 'Lula yang mengenal Ryan sejak sebelum aktif berkarier di televisi mengaku belum sempat membesuk Ryan lantaran lokasi yang jauh.']\n",
        "[1.8181818181818183, 13, 8, 'Dia juga tak tahu penyakit apa yang diderita Ryan. \"']\n",
        "[1.6363636363636362, 14, 9, 'Itu saya enggak tahu, belum sempat jenguk dan enggak selamanya bisa dijenguk juga.']\n",
        "[2.090909090909091, 9, 10, 'Enggak tahu berat sekali apa bagaimana, \" tutur Ryan.']\n",
        "[2.0909090909090904, 10, 11, 'Walau sudah setahun menderita sakit, Lula tak mengetahui apa penyebab pasti kematian Dr Oz Indonesia itu.']\n",
        "[2.2727272727272725, 7, 12, 'Meski demikian, ia mendengar beberapa kabar yang menyebut bahwa penyebab Ryan meninggal adalah karena jatuh di kamar mandi.']\n",
        "[2.181818181818181, 8, 13, '“ Saya tidak tahu, barangkali penyakit yang dulu sama yang sekarang berbeda, atau penyebab kematiannya beda dari penyakit sebelumnya.']\n",
        "[1.2727272727272727, 16, 14, 'Kita kan enggak bisa mengambil kesimpulan, \" kata Lula.']\n",
        "[3.9090909090909083, 3, 15, 'Ryan Thamrin terkenal sebagai dokter yang rutin membagikan tips dan informasi kesehatan lewat tayangan Dokter Oz Indonesia.']\n",
        "[2.545454545454545, 6, 16, 'Ryan menempuh Pendidikan Dokter pada tahun 2002 di Fakultas Kedokteran Universitas Gadjah Mada.']\n",
        "[1.636363636363636, 15, 17, 'Dia kemudian melanjutkan pendidikan Klinis Kesehatan Reproduksi dan Penyakit Menular Seksual di Mahachulalongkornrajavidyalaya University, Bangkok, Thailand pada 2004.']\n",
        "```\n",
        "\n"
      ]
    },
    {
      "cell_type": "markdown",
      "metadata": {
        "id": "VKIULP_WPW2M"
      },
      "source": [
        "## Text Cleaning"
      ]
    },
    {
      "cell_type": "code",
      "metadata": {
        "id": "pMunu3dlPggL"
      },
      "source": [
        "def Cleaning(rows):\n",
        "  sentences = []\n",
        "  processed = []\n",
        "  for row in sent_tokenize(rows['paragraphs']):\n",
        "    sentences.append(sent_tokenize(row))\n",
        "  sentences = [y for x in sentences for y in x]\n",
        "  # sentences = tokenize raw paragraph <list>\n",
        "\n",
        "  for text in sentences:\n",
        "    text = text.lower()\n",
        "    text = re.sub(r\"[^a-zA-Z]\", \" \", text)\n",
        "    text = re.sub(r\"\\b\\w{1,3}\\b\",\" \",text)\n",
        "    text = \" \".join([word for word in text.split() if not word in stop_words])\n",
        "    processed.append(text)\n",
        "  # processed = tokenize cleaned text <list>\n",
        "  return sentences, processed"
      ],
      "execution_count": 29,
      "outputs": []
    },
    {
      "cell_type": "markdown",
      "metadata": {
        "id": "6raL-oYtP01d"
      },
      "source": [
        "## Preprocess #2\n",
        "\n",
        "Let's run the second preprocessing to:\n",
        "1. Convert golden labels boolean into binary\n",
        "2. TextRank score\n",
        "3. TextRank order\n",
        "4. SumBasic score\n",
        "5. SumBasix order\n",
        "6. Sentence length\n",
        "7. Sentence order"
      ]
    },
    {
      "cell_type": "code",
      "metadata": {
        "id": "p4v6bdUYSjJo"
      },
      "source": [
        "def Process(rows, axis):\n",
        "  \"\"\"Axis for return\n",
        "      # 0 = golden labels\n",
        "      # 1 = TextRank value\n",
        "      # 2 = TextRank order\n",
        "      # 3 = SumBasic\n",
        "      # 4 = SumBasic order\n",
        "      # 5 = Sentence length \"\"\"\n",
        "\n",
        "  if axis == 0:\n",
        "     # Convert labels False/True into 0/1\n",
        "    labels = list(map(int, rows['labels']))\n",
        "    return labels\n",
        "  else:\n",
        "    # Calling Cleaning\n",
        "    sentences, processed = Cleaning(rows)\n",
        "    if axis == 1 or axis == 2:\n",
        "      # Calling TextRank\n",
        "      textrank, textrank_order = TextRank(sentences, processed)\n",
        "      if axis == 1:\n",
        "        return textrank\n",
        "      elif axis == 2:\n",
        "        return textrank_order\n",
        "    else:\n",
        "      # Calling SumBasic\n",
        "      sumbasic, sumbasic_order, frequency = SumBasic(sentences, processed)\n",
        "      if axis == 3:\n",
        "        return sumbasic\n",
        "      elif axis == 4:\n",
        "        return sumbasic_order\n",
        "      elif axis == 5:\n",
        "        return frequency"
      ],
      "execution_count": 34,
      "outputs": []
    },
    {
      "cell_type": "markdown",
      "metadata": {
        "id": "NJEA3tHH5CCQ"
      },
      "source": [
        "*Recorded running time this next cell: 1h 03m 57s*"
      ]
    },
    {
      "cell_type": "code",
      "metadata": {
        "id": "cmXl15alS93V"
      },
      "source": [
        "# Run the preprocessing #2\n",
        "\n",
        "train['labels'] = train.apply(lambda row: Process(row, 0), axis=1)\n",
        "train['TextRank'] = train.apply(lambda row: Process(row, 1), axis=1)\n",
        "train['TextRank_order'] = train.apply(lambda row: Process(row, 2), axis=1)\n",
        "train['SumBasic'] = train.apply(lambda row: Process(row, 3), axis=1)\n",
        "train['SumBasic_order'] = train.apply(lambda row: Process(row, 4), axis=1)\n",
        "train['Sentence_length'] = train.apply(lambda row: Process(row, 5), axis=1)\n",
        "train['Sentence_order'] = train.apply(lambda row: [x+1 for x,y in enumerate(row['TextRank'])], axis=1)\n",
        "\n",
        "test['labels'] = test.apply(lambda row: Process(row, 0), axis=1)\n",
        "test['TextRank'] = test.apply(lambda row: Process(row, 1), axis=1)\n",
        "test['TextRank_order'] = test.apply(lambda row: Process(row, 2), axis=1)\n",
        "test['SumBasic'] = test.apply(lambda row: Process(row, 3), axis=1)\n",
        "test['SumBasic_order'] = test.apply(lambda row: Process(row, 4), axis=1)\n",
        "test['Sentence_length'] = test.apply(lambda row: Process(row, 5), axis=1)\n",
        "test['Sentence_order'] = test.apply(lambda row: [x+1 for x,y in enumerate(row['TextRank'])], axis=1)"
      ],
      "execution_count": 38,
      "outputs": []
    },
    {
      "cell_type": "code",
      "metadata": {
        "colab": {
          "base_uri": "https://localhost:8080/"
        },
        "id": "BKC-1XHqlpa0",
        "outputId": "bcd4801d-6805-4fc0-a5c6-41e5892c218b"
      },
      "source": [
        "train.info()"
      ],
      "execution_count": 41,
      "outputs": [
        {
          "output_type": "stream",
          "text": [
            "<class 'pandas.core.frame.DataFrame'>\n",
            "Int64Index: 15012 entries, 0 to 749\n",
            "Data columns (total 14 columns):\n",
            " #   Column           Non-Null Count  Dtype \n",
            "---  ------           --------------  ----- \n",
            " 0   category         15012 non-null  object\n",
            " 1   gold_labels      15012 non-null  object\n",
            " 2   id               15012 non-null  object\n",
            " 3   paragraphs       15012 non-null  object\n",
            " 4   source           15012 non-null  object\n",
            " 5   source_url       15012 non-null  object\n",
            " 6   summary          15012 non-null  object\n",
            " 7   labels           15012 non-null  object\n",
            " 8   TextRank         15012 non-null  object\n",
            " 9   TextRank_order   15012 non-null  object\n",
            " 10  SumBasic         15012 non-null  object\n",
            " 11  SumBasic_order   15012 non-null  object\n",
            " 12  Sentence_length  15012 non-null  object\n",
            " 13  Sentence_order   15012 non-null  object\n",
            "dtypes: object(14)\n",
            "memory usage: 1.7+ MB\n"
          ],
          "name": "stdout"
        }
      ]
    },
    {
      "cell_type": "markdown",
      "metadata": {
        "id": "fxwnYD8xFFpI"
      },
      "source": [
        "# Save Dataset to CSV"
      ]
    },
    {
      "cell_type": "code",
      "metadata": {
        "id": "6lJjZ3k5fUtL"
      },
      "source": [
        "columns = [\"TextRank\", \"TextRank_order\", \"SumBasic\", \"SumBasic_order\", \"Sentence_length\",\"Sentence_order\", \"labels\"]\n",
        "\n",
        "\n",
        "train.to_csv('extracted_train.csv',\n",
        "             columns=columns,\n",
        "             index=False)\n",
        "test.to_csv('extracted_test.csv',\n",
        "            columns=columns,\n",
        "            index=False)"
      ],
      "execution_count": 43,
      "outputs": []
    },
    {
      "cell_type": "code",
      "metadata": {
        "colab": {
          "base_uri": "https://localhost:8080/",
          "height": 17
        },
        "id": "2XyvfSqtSM3_",
        "outputId": "9f037c04-7989-407e-a690-76350d807fc3"
      },
      "source": [
        "# Download\n",
        "from google.colab import files\n",
        "files.download('extracted_test.csv') \n",
        "files.download('extracted_train.csv') "
      ],
      "execution_count": null,
      "outputs": [
        {
          "output_type": "display_data",
          "data": {
            "application/javascript": [
              "\n",
              "    async function download(id, filename, size) {\n",
              "      if (!google.colab.kernel.accessAllowed) {\n",
              "        return;\n",
              "      }\n",
              "      const div = document.createElement('div');\n",
              "      const label = document.createElement('label');\n",
              "      label.textContent = `Downloading \"${filename}\": `;\n",
              "      div.appendChild(label);\n",
              "      const progress = document.createElement('progress');\n",
              "      progress.max = size;\n",
              "      div.appendChild(progress);\n",
              "      document.body.appendChild(div);\n",
              "\n",
              "      const buffers = [];\n",
              "      let downloaded = 0;\n",
              "\n",
              "      const channel = await google.colab.kernel.comms.open(id);\n",
              "      // Send a message to notify the kernel that we're ready.\n",
              "      channel.send({})\n",
              "\n",
              "      for await (const message of channel.messages) {\n",
              "        // Send a message to notify the kernel that we're ready.\n",
              "        channel.send({})\n",
              "        if (message.buffers) {\n",
              "          for (const buffer of message.buffers) {\n",
              "            buffers.push(buffer);\n",
              "            downloaded += buffer.byteLength;\n",
              "            progress.value = downloaded;\n",
              "          }\n",
              "        }\n",
              "      }\n",
              "      const blob = new Blob(buffers, {type: 'application/binary'});\n",
              "      const a = document.createElement('a');\n",
              "      a.href = window.URL.createObjectURL(blob);\n",
              "      a.download = filename;\n",
              "      div.appendChild(a);\n",
              "      a.click();\n",
              "      div.remove();\n",
              "    }\n",
              "  "
            ],
            "text/plain": [
              "<IPython.core.display.Javascript object>"
            ]
          },
          "metadata": {
            "tags": []
          }
        },
        {
          "output_type": "display_data",
          "data": {
            "application/javascript": [
              "download(\"download_d01639a6-67f2-41e7-ab1d-b4aeb1e2a657\", \"test.csv\", 9872497)"
            ],
            "text/plain": [
              "<IPython.core.display.Javascript object>"
            ]
          },
          "metadata": {
            "tags": []
          }
        },
        {
          "output_type": "display_data",
          "data": {
            "application/javascript": [
              "\n",
              "    async function download(id, filename, size) {\n",
              "      if (!google.colab.kernel.accessAllowed) {\n",
              "        return;\n",
              "      }\n",
              "      const div = document.createElement('div');\n",
              "      const label = document.createElement('label');\n",
              "      label.textContent = `Downloading \"${filename}\": `;\n",
              "      div.appendChild(label);\n",
              "      const progress = document.createElement('progress');\n",
              "      progress.max = size;\n",
              "      div.appendChild(progress);\n",
              "      document.body.appendChild(div);\n",
              "\n",
              "      const buffers = [];\n",
              "      let downloaded = 0;\n",
              "\n",
              "      const channel = await google.colab.kernel.comms.open(id);\n",
              "      // Send a message to notify the kernel that we're ready.\n",
              "      channel.send({})\n",
              "\n",
              "      for await (const message of channel.messages) {\n",
              "        // Send a message to notify the kernel that we're ready.\n",
              "        channel.send({})\n",
              "        if (message.buffers) {\n",
              "          for (const buffer of message.buffers) {\n",
              "            buffers.push(buffer);\n",
              "            downloaded += buffer.byteLength;\n",
              "            progress.value = downloaded;\n",
              "          }\n",
              "        }\n",
              "      }\n",
              "      const blob = new Blob(buffers, {type: 'application/binary'});\n",
              "      const a = document.createElement('a');\n",
              "      a.href = window.URL.createObjectURL(blob);\n",
              "      a.download = filename;\n",
              "      div.appendChild(a);\n",
              "      a.click();\n",
              "      div.remove();\n",
              "    }\n",
              "  "
            ],
            "text/plain": [
              "<IPython.core.display.Javascript object>"
            ]
          },
          "metadata": {
            "tags": []
          }
        },
        {
          "output_type": "display_data",
          "data": {
            "application/javascript": [
              "download(\"download_020f3fc5-2553-4c09-8470-88dc7d17dac0\", \"train.csv\", 39693272)"
            ],
            "text/plain": [
              "<IPython.core.display.Javascript object>"
            ]
          },
          "metadata": {
            "tags": []
          }
        }
      ]
    },
    {
      "cell_type": "markdown",
      "metadata": {
        "id": "n0HsFi1lmOp8"
      },
      "source": [
        "Let's import the exported csv to make sure we had export it nicely."
      ]
    },
    {
      "cell_type": "code",
      "metadata": {
        "colab": {
          "base_uri": "https://localhost:8080/",
          "height": 573
        },
        "id": "mRAjN0Icn2FT",
        "outputId": "7f528a48-91bf-4ef4-c0e9-05b394135521"
      },
      "source": [
        "train_df = pd.read_csv('/content/extracted_train.csv')\n",
        "test_df = pd.read_csv('/content/extracted_test.csv')\n",
        "train_df.info()\n",
        "train_df.sample(1)"
      ],
      "execution_count": 44,
      "outputs": [
        {
          "output_type": "stream",
          "text": [
            "<class 'pandas.core.frame.DataFrame'>\n",
            "RangeIndex: 15012 entries, 0 to 15011\n",
            "Data columns (total 7 columns):\n",
            " #   Column           Non-Null Count  Dtype \n",
            "---  ------           --------------  ----- \n",
            " 0   TextRank         15012 non-null  object\n",
            " 1   TextRank_order   15012 non-null  object\n",
            " 2   SumBasic         15012 non-null  object\n",
            " 3   SumBasic_order   15012 non-null  object\n",
            " 4   Sentence_length  15012 non-null  object\n",
            " 5   Sentence_order   15012 non-null  object\n",
            " 6   labels           15012 non-null  object\n",
            "dtypes: object(7)\n",
            "memory usage: 821.1+ KB\n"
          ],
          "name": "stdout"
        },
        {
          "output_type": "execute_result",
          "data": {
            "text/html": [
              "<div>\n",
              "<style scoped>\n",
              "    .dataframe tbody tr th:only-of-type {\n",
              "        vertical-align: middle;\n",
              "    }\n",
              "\n",
              "    .dataframe tbody tr th {\n",
              "        vertical-align: top;\n",
              "    }\n",
              "\n",
              "    .dataframe thead th {\n",
              "        text-align: right;\n",
              "    }\n",
              "</style>\n",
              "<table border=\"1\" class=\"dataframe\">\n",
              "  <thead>\n",
              "    <tr style=\"text-align: right;\">\n",
              "      <th></th>\n",
              "      <th>TextRank</th>\n",
              "      <th>TextRank_order</th>\n",
              "      <th>SumBasic</th>\n",
              "      <th>SumBasic_order</th>\n",
              "      <th>Sentence_length</th>\n",
              "      <th>Sentence_order</th>\n",
              "      <th>labels</th>\n",
              "    </tr>\n",
              "  </thead>\n",
              "  <tbody>\n",
              "    <tr>\n",
              "      <th>6898</th>\n",
              "      <td>[0.06898818350102884, 0.06481467205942265, 0.06377235800855877, 0.06603826985016036, 0.06627759901158711, 0.05921787625114766, 0.06608572814447189, 0.0658018994412889, 0.06478510262198539, 0.059578163092009376, 0.043158320106253346, 0.06610090727320592, 0.06068961393691001, 0.06329831204093958, 0.06205132716538014, 0.05934166749565006]</td>\n",
              "      <td>[1, 7, 9, 5, 2, 15, 4, 6, 8, 13, 16, 3, 12, 10, 11, 14]</td>\n",
              "      <td>[2.545454545454545, 2.454545454545454, 1.3636363636363633, 3.3636363636363624, 2.9999999999999996, 2.090909090909091, 2.1818181818181817, 3.727272727272727, 2.3636363636363633, 1.8181818181818181, 0.45454545454545453, 4.454545454545453, 1.272727272727273, 2.0909090909090904, 1.0909090909090908, 0.8181818181818182]</td>\n",
              "      <td>[5, 6, 12, 3, 4, 9, 8, 2, 7, 11, 16, 1, 13, 10, 14, 15]</td>\n",
              "      <td>[14, 11, 9, 18, 10, 8, 9, 13, 8, 5, 2, 20, 8, 17, 8, 8]</td>\n",
              "      <td>[1, 2, 3, 4, 5, 6, 7, 8, 9, 10, 11, 12, 13, 14, 15, 16]</td>\n",
              "      <td>[1, 1, 1, 0, 0, 0, 0, 0, 0, 0, 0, 0, 0, 0, 0, 0]</td>\n",
              "    </tr>\n",
              "  </tbody>\n",
              "</table>\n",
              "</div>"
            ],
            "text/plain": [
              "                                                                                                                                                                                                                                                                                                                                               TextRank  \\\n",
              "6898  [0.06898818350102884, 0.06481467205942265, 0.06377235800855877, 0.06603826985016036, 0.06627759901158711, 0.05921787625114766, 0.06608572814447189, 0.0658018994412889, 0.06478510262198539, 0.059578163092009376, 0.043158320106253346, 0.06610090727320592, 0.06068961393691001, 0.06329831204093958, 0.06205132716538014, 0.05934166749565006]   \n",
              "\n",
              "                                               TextRank_order  \\\n",
              "6898  [1, 7, 9, 5, 2, 15, 4, 6, 8, 13, 16, 3, 12, 10, 11, 14]   \n",
              "\n",
              "                                                                                                                                                                                                                                                                                                                         SumBasic  \\\n",
              "6898  [2.545454545454545, 2.454545454545454, 1.3636363636363633, 3.3636363636363624, 2.9999999999999996, 2.090909090909091, 2.1818181818181817, 3.727272727272727, 2.3636363636363633, 1.8181818181818181, 0.45454545454545453, 4.454545454545453, 1.272727272727273, 2.0909090909090904, 1.0909090909090908, 0.8181818181818182]   \n",
              "\n",
              "                                               SumBasic_order  \\\n",
              "6898  [5, 6, 12, 3, 4, 9, 8, 2, 7, 11, 16, 1, 13, 10, 14, 15]   \n",
              "\n",
              "                                              Sentence_length  \\\n",
              "6898  [14, 11, 9, 18, 10, 8, 9, 13, 8, 5, 2, 20, 8, 17, 8, 8]   \n",
              "\n",
              "                                               Sentence_order  \\\n",
              "6898  [1, 2, 3, 4, 5, 6, 7, 8, 9, 10, 11, 12, 13, 14, 15, 16]   \n",
              "\n",
              "                                                labels  \n",
              "6898  [1, 1, 1, 0, 0, 0, 0, 0, 0, 0, 0, 0, 0, 0, 0, 0]  "
            ]
          },
          "metadata": {
            "tags": []
          },
          "execution_count": 44
        }
      ]
    },
    {
      "cell_type": "markdown",
      "metadata": {
        "id": "lr-U75NRXQOv"
      },
      "source": [
        "Let's try to flatten the data to analyze the relation between extracted features."
      ]
    },
    {
      "cell_type": "markdown",
      "metadata": {
        "id": "2q-ThZ10orR6"
      },
      "source": [
        "Wonderful! Now we can build our text summarization model.\n",
        "\n",
        "For next, we will tackle with TextRank and SumBasic to feed a neural network model.  "
      ]
    }
  ]
}