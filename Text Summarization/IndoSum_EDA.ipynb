{
  "nbformat": 4,
  "nbformat_minor": 0,
  "metadata": {
    "colab": {
      "name": "IndoSum EDA.ipynb",
      "provenance": [],
      "collapsed_sections": [],
      "toc_visible": true
    },
    "kernelspec": {
      "name": "python3",
      "display_name": "Python 3"
    },
    "language_info": {
      "name": "python"
    }
  },
  "cells": [
    {
      "cell_type": "markdown",
      "metadata": {
        "id": "2fkXZcRPoCCG"
      },
      "source": [
        "# **IndoSum Dataset EDA**\n",
        "**Potato Tech** team build an app that named **Frasa** for capstone project. So we will build machine learning model for Frasa to predict a summary from a sentences.\n",
        "\n",
        "In this lab, we will do exploratory data analysis and preprocess the dataset.\n",
        "The dataset is consists of news articles and manually constructed summaries [IndoSum dataset](https://drive.google.com/file/d/1OgYbPfXFAv3TbwP1Qcwt_CC9cVWSJaco/view) from [Kurniawan, Kemal & Louvan, Samuel (2018)](https://arxiv.org/abs/1810.05334).\n",
        "\n",
        "Let's start!"
      ]
    },
    {
      "cell_type": "markdown",
      "metadata": {
        "id": "sOh-7h5k4r5_"
      },
      "source": [
        "## Preparation"
      ]
    },
    {
      "cell_type": "code",
      "metadata": {
        "colab": {
          "base_uri": "https://localhost:8080/"
        },
        "id": "IohLr_vI4ved",
        "outputId": "06319ca6-20ad-4192-9aa5-731e950eb361"
      },
      "source": [
        "!pip install Sastrawi"
      ],
      "execution_count": null,
      "outputs": [
        {
          "output_type": "stream",
          "text": [
            "Collecting Sastrawi\n",
            "\u001b[?25l  Downloading https://files.pythonhosted.org/packages/6f/4b/bab676953da3103003730b8fcdfadbdd20f333d4add10af949dd5c51e6ed/Sastrawi-1.0.1-py2.py3-none-any.whl (209kB)\n",
            "\r\u001b[K     |█▋                              | 10kB 19.7MB/s eta 0:00:01\r\u001b[K     |███▏                            | 20kB 26.1MB/s eta 0:00:01\r\u001b[K     |████▊                           | 30kB 29.9MB/s eta 0:00:01\r\u001b[K     |██████▎                         | 40kB 17.1MB/s eta 0:00:01\r\u001b[K     |███████▉                        | 51kB 16.9MB/s eta 0:00:01\r\u001b[K     |█████████▍                      | 61kB 13.7MB/s eta 0:00:01\r\u001b[K     |███████████                     | 71kB 14.6MB/s eta 0:00:01\r\u001b[K     |████████████▌                   | 81kB 14.9MB/s eta 0:00:01\r\u001b[K     |██████████████                  | 92kB 14.9MB/s eta 0:00:01\r\u001b[K     |███████████████▋                | 102kB 15.0MB/s eta 0:00:01\r\u001b[K     |█████████████████▏              | 112kB 15.0MB/s eta 0:00:01\r\u001b[K     |██████████████████▊             | 122kB 15.0MB/s eta 0:00:01\r\u001b[K     |████████████████████▎           | 133kB 15.0MB/s eta 0:00:01\r\u001b[K     |█████████████████████▉          | 143kB 15.0MB/s eta 0:00:01\r\u001b[K     |███████████████████████▍        | 153kB 15.0MB/s eta 0:00:01\r\u001b[K     |█████████████████████████       | 163kB 15.0MB/s eta 0:00:01\r\u001b[K     |██████████████████████████▋     | 174kB 15.0MB/s eta 0:00:01\r\u001b[K     |████████████████████████████▏   | 184kB 15.0MB/s eta 0:00:01\r\u001b[K     |█████████████████████████████▊  | 194kB 15.0MB/s eta 0:00:01\r\u001b[K     |███████████████████████████████▎| 204kB 15.0MB/s eta 0:00:01\r\u001b[K     |████████████████████████████████| 215kB 15.0MB/s \n",
            "\u001b[?25hInstalling collected packages: Sastrawi\n",
            "Successfully installed Sastrawi-1.0.1\n"
          ],
          "name": "stdout"
        }
      ]
    },
    {
      "cell_type": "code",
      "metadata": {
        "id": "ErTcYE0XrWzd"
      },
      "source": [
        "# Import library\n",
        "import pandas as pd\n",
        "import json\n",
        "\n",
        "from Sastrawi.StopWordRemover.StopWordRemoverFactory import StopWordRemoverFactory\n",
        "from nltk.tokenize.treebank import TreebankWordDetokenizer as untoken\n"
      ],
      "execution_count": null,
      "outputs": []
    },
    {
      "cell_type": "markdown",
      "metadata": {
        "id": "5Tjg6Eurssxh"
      },
      "source": [
        "## Load data"
      ]
    },
    {
      "cell_type": "code",
      "metadata": {
        "colab": {
          "base_uri": "https://localhost:8080/"
        },
        "id": "vhgBDlV8nxaE",
        "outputId": "1d10be81-9f7f-4911-8357-100c13fca718"
      },
      "source": [
        "# Download the data from drive\n",
        "!gdown --id 1OgYbPfXFAv3TbwP1Qcwt_CC9cVWSJaco"
      ],
      "execution_count": null,
      "outputs": [
        {
          "output_type": "stream",
          "text": [
            "Downloading...\n",
            "From: https://drive.google.com/uc?id=1OgYbPfXFAv3TbwP1Qcwt_CC9cVWSJaco\n",
            "To: /content/indosum.tar.gz\n",
            "96.0MB [00:00, 186MB/s] \n"
          ],
          "name": "stdout"
        }
      ]
    },
    {
      "cell_type": "code",
      "metadata": {
        "colab": {
          "base_uri": "https://localhost:8080/"
        },
        "id": "u6QldGMIrENs",
        "outputId": "cca8b028-b97d-441a-c607-f7b24f80dd27"
      },
      "source": [
        "# Unzip\n",
        "\n",
        "!tar -xvf /content/indosum.tar.gz"
      ],
      "execution_count": null,
      "outputs": [
        {
          "output_type": "stream",
          "text": [
            "indosum/\n",
            "indosum/test.02.jsonl\n",
            "indosum/README.txt\n",
            "indosum/train.05.jsonl\n",
            "indosum/train.04.jsonl\n",
            "indosum/test.04.jsonl\n",
            "indosum/train.01.jsonl\n",
            "indosum/test.05.jsonl\n",
            "indosum/test.03.jsonl\n",
            "indosum/test.01.jsonl\n",
            "indosum/dev.04.jsonl\n",
            "indosum/dev.01.jsonl\n",
            "indosum/dev.02.jsonl\n",
            "indosum/train.02.jsonl\n",
            "indosum/dev.03.jsonl\n",
            "indosum/dev.05.jsonl\n",
            "indosum/CHANGELOG.txt\n",
            "indosum/train.03.jsonl\n"
          ],
          "name": "stdout"
        }
      ]
    },
    {
      "cell_type": "code",
      "metadata": {
        "id": "XylN9V7BsG2M"
      },
      "source": [
        "# We will use the first-fold data (train, dev, test)\n",
        "\n",
        "url = \"/content/indosum/train.01.jsonl\"\n",
        "with open(url, 'r') as f:\n",
        "    data = f.readlines()\n",
        "    train = list(map(json.loads, data)) \n",
        "\n",
        "train = pd.DataFrame(train)\n"
      ],
      "execution_count": null,
      "outputs": []
    },
    {
      "cell_type": "markdown",
      "metadata": {
        "id": "tvq19V2dxrEE"
      },
      "source": [
        "## Exploratoratory"
      ]
    },
    {
      "cell_type": "code",
      "metadata": {
        "colab": {
          "base_uri": "https://localhost:8080/"
        },
        "id": "nJXb3WyB2lRI",
        "outputId": "58b77e87-3cde-4ab9-8c08-b902a428558a"
      },
      "source": [
        "train.info()"
      ],
      "execution_count": null,
      "outputs": [
        {
          "output_type": "stream",
          "text": [
            "<class 'pandas.core.frame.DataFrame'>\n",
            "RangeIndex: 14262 entries, 0 to 14261\n",
            "Data columns (total 7 columns):\n",
            " #   Column       Non-Null Count  Dtype \n",
            "---  ------       --------------  ----- \n",
            " 0   category     14262 non-null  object\n",
            " 1   gold_labels  14262 non-null  object\n",
            " 2   id           14262 non-null  object\n",
            " 3   paragraphs   14262 non-null  object\n",
            " 4   source       14262 non-null  object\n",
            " 5   source_url   14262 non-null  object\n",
            " 6   summary      14262 non-null  object\n",
            "dtypes: object(7)\n",
            "memory usage: 780.1+ KB\n"
          ],
          "name": "stdout"
        }
      ]
    },
    {
      "cell_type": "markdown",
      "metadata": {
        "id": "IW2n9hqxtFLC"
      },
      "source": [
        "Now we know the dataset consist of 7 columns and probably we will just take some of the column that related to this summarization work.\n",
        "\n",
        "To make we sure what columns should we choose, let's take a look at some rows."
      ]
    },
    {
      "cell_type": "code",
      "metadata": {
        "colab": {
          "base_uri": "https://localhost:8080/",
          "height": 581
        },
        "id": "0TwsdFQlsgK-",
        "outputId": "f51976f5-3522-4680-8840-21a8a0ec80dc"
      },
      "source": [
        "train.head()"
      ],
      "execution_count": null,
      "outputs": [
        {
          "output_type": "execute_result",
          "data": {
            "text/html": [
              "<div>\n",
              "<style scoped>\n",
              "    .dataframe tbody tr th:only-of-type {\n",
              "        vertical-align: middle;\n",
              "    }\n",
              "\n",
              "    .dataframe tbody tr th {\n",
              "        vertical-align: top;\n",
              "    }\n",
              "\n",
              "    .dataframe thead th {\n",
              "        text-align: right;\n",
              "    }\n",
              "</style>\n",
              "<table border=\"1\" class=\"dataframe\">\n",
              "  <thead>\n",
              "    <tr style=\"text-align: right;\">\n",
              "      <th></th>\n",
              "      <th>category</th>\n",
              "      <th>gold_labels</th>\n",
              "      <th>id</th>\n",
              "      <th>paragraphs</th>\n",
              "      <th>source</th>\n",
              "      <th>source_url</th>\n",
              "      <th>summary</th>\n",
              "    </tr>\n",
              "  </thead>\n",
              "  <tbody>\n",
              "    <tr>\n",
              "      <th>0</th>\n",
              "      <td>tajuk utama</td>\n",
              "      <td>[[False, True], [True, True], [False, False, F...</td>\n",
              "      <td>1501893029-lula-kamal-dokter-ryan-thamrin-saki...</td>\n",
              "      <td>[[[Jakarta, ,, CNN, Indonesia, -, -, Dokter, R...</td>\n",
              "      <td>cnn indonesia</td>\n",
              "      <td>https://www.cnnindonesia.com/hiburan/201708041...</td>\n",
              "      <td>[[Dokter, Lula, Kamal, yang, merupakan, selebr...</td>\n",
              "    </tr>\n",
              "    <tr>\n",
              "      <th>1</th>\n",
              "      <td>teknologi</td>\n",
              "      <td>[[False, False, False, False], [False, True, T...</td>\n",
              "      <td>1509072914-dua-smartphone-zenfone-baru-tawarka...</td>\n",
              "      <td>[[[Selfie, ialah, salah, satu, tema, terpanas,...</td>\n",
              "      <td>dailysocial.id</td>\n",
              "      <td>https://dailysocial.id/post/dua-smartphone-zen...</td>\n",
              "      <td>[[Asus, memperkenalkan,  , ZenFone, generasi, ...</td>\n",
              "    </tr>\n",
              "    <tr>\n",
              "      <th>2</th>\n",
              "      <td>hiburan</td>\n",
              "      <td>[[True], [True], [False, False], [False], [Fal...</td>\n",
              "      <td>1510613677-songsong-visit-2020-bengkulu-perkua...</td>\n",
              "      <td>[[[Jakarta, ,, CNN, Indonesia, -, -, Dinas, Pa...</td>\n",
              "      <td>cnn indonesia</td>\n",
              "      <td>https://www.cnnindonesia.com/gaya-hidup/201711...</td>\n",
              "      <td>[[Dinas, Pariwisata, Provinsi, Bengkulu, kemba...</td>\n",
              "    </tr>\n",
              "    <tr>\n",
              "      <th>3</th>\n",
              "      <td>tajuk utama</td>\n",
              "      <td>[[True, True], [False, False, False], [True], ...</td>\n",
              "      <td>1502706803-icw-ada-kejanggalan-atas-tewasnya-s...</td>\n",
              "      <td>[[[Merdeka.com, -, Indonesia, Corruption, Watc...</td>\n",
              "      <td>merdeka</td>\n",
              "      <td>https://www.merdeka.com/peristiwa/icw-merasa-a...</td>\n",
              "      <td>[[Indonesia, Corruption, Watch, (, ICW, ), mem...</td>\n",
              "    </tr>\n",
              "    <tr>\n",
              "      <th>4</th>\n",
              "      <td>tajuk utama</td>\n",
              "      <td>[[False, True], [True, True, True], [False], [...</td>\n",
              "      <td>1503039338-pembagian-sepeda-usai-upacara-penur...</td>\n",
              "      <td>[[[Merdeka.com, -, Presiden, Joko, Widodo, (, ...</td>\n",
              "      <td>merdeka</td>\n",
              "      <td>https://www.merdeka.com/peristiwa/usai-upacara...</td>\n",
              "      <td>[[Jokowi, memimpin, upacara, penurunan, bender...</td>\n",
              "    </tr>\n",
              "  </tbody>\n",
              "</table>\n",
              "</div>"
            ],
            "text/plain": [
              "      category  ...                                            summary\n",
              "0  tajuk utama  ...  [[Dokter, Lula, Kamal, yang, merupakan, selebr...\n",
              "1    teknologi  ...  [[Asus, memperkenalkan,  , ZenFone, generasi, ...\n",
              "2      hiburan  ...  [[Dinas, Pariwisata, Provinsi, Bengkulu, kemba...\n",
              "3  tajuk utama  ...  [[Indonesia, Corruption, Watch, (, ICW, ), mem...\n",
              "4  tajuk utama  ...  [[Jokowi, memimpin, upacara, penurunan, bender...\n",
              "\n",
              "[5 rows x 7 columns]"
            ]
          },
          "metadata": {
            "tags": []
          },
          "execution_count": 13
        }
      ]
    },
    {
      "cell_type": "markdown",
      "metadata": {
        "id": "yk4LR5qnuJRy"
      },
      "source": [
        "Wow... that's a unique dataset we have here!\n",
        "\n",
        "1. The news content and summary are raw text but listed (tokenized).\n",
        "2. Punctuation has not been removed.\n",
        "3. There are uppercase letter everywhere.\n",
        "3. Column gold_labels is a boolean list of main idea sentences in paragraphs.\n",
        "\n",
        "From this result, the columns will be used are **gold_labels, paragraphs**, and **summary**."
      ]
    },
    {
      "cell_type": "code",
      "metadata": {
        "colab": {
          "base_uri": "https://localhost:8080/",
          "height": 442
        },
        "id": "68HETfHoriuy",
        "outputId": "d1581a49-fd12-4add-9ec9-17ab3c1bf942"
      },
      "source": [
        "df_train = train[['gold_labels', 'paragraphs', 'summary']].copy()  \n",
        "\n",
        "df_train.info()\n",
        "df_train.head()"
      ],
      "execution_count": null,
      "outputs": [
        {
          "output_type": "stream",
          "text": [
            "<class 'pandas.core.frame.DataFrame'>\n",
            "RangeIndex: 14262 entries, 0 to 14261\n",
            "Data columns (total 3 columns):\n",
            " #   Column       Non-Null Count  Dtype \n",
            "---  ------       --------------  ----- \n",
            " 0   gold_labels  14262 non-null  object\n",
            " 1   paragraphs   14262 non-null  object\n",
            " 2   summary      14262 non-null  object\n",
            "dtypes: object(3)\n",
            "memory usage: 334.4+ KB\n"
          ],
          "name": "stdout"
        },
        {
          "output_type": "execute_result",
          "data": {
            "text/html": [
              "<div>\n",
              "<style scoped>\n",
              "    .dataframe tbody tr th:only-of-type {\n",
              "        vertical-align: middle;\n",
              "    }\n",
              "\n",
              "    .dataframe tbody tr th {\n",
              "        vertical-align: top;\n",
              "    }\n",
              "\n",
              "    .dataframe thead th {\n",
              "        text-align: right;\n",
              "    }\n",
              "</style>\n",
              "<table border=\"1\" class=\"dataframe\">\n",
              "  <thead>\n",
              "    <tr style=\"text-align: right;\">\n",
              "      <th></th>\n",
              "      <th>gold_labels</th>\n",
              "      <th>paragraphs</th>\n",
              "      <th>summary</th>\n",
              "    </tr>\n",
              "  </thead>\n",
              "  <tbody>\n",
              "    <tr>\n",
              "      <th>0</th>\n",
              "      <td>[[False, True], [True, True], [False, False, F...</td>\n",
              "      <td>[[[Jakarta, ,, CNN, Indonesia, -, -, Dokter, R...</td>\n",
              "      <td>[[Dokter, Lula, Kamal, yang, merupakan, selebr...</td>\n",
              "    </tr>\n",
              "    <tr>\n",
              "      <th>1</th>\n",
              "      <td>[[False, False, False, False], [False, True, T...</td>\n",
              "      <td>[[[Selfie, ialah, salah, satu, tema, terpanas,...</td>\n",
              "      <td>[[Asus, memperkenalkan,  , ZenFone, generasi, ...</td>\n",
              "    </tr>\n",
              "    <tr>\n",
              "      <th>2</th>\n",
              "      <td>[[True], [True], [False, False], [False], [Fal...</td>\n",
              "      <td>[[[Jakarta, ,, CNN, Indonesia, -, -, Dinas, Pa...</td>\n",
              "      <td>[[Dinas, Pariwisata, Provinsi, Bengkulu, kemba...</td>\n",
              "    </tr>\n",
              "    <tr>\n",
              "      <th>3</th>\n",
              "      <td>[[True, True], [False, False, False], [True], ...</td>\n",
              "      <td>[[[Merdeka.com, -, Indonesia, Corruption, Watc...</td>\n",
              "      <td>[[Indonesia, Corruption, Watch, (, ICW, ), mem...</td>\n",
              "    </tr>\n",
              "    <tr>\n",
              "      <th>4</th>\n",
              "      <td>[[False, True], [True, True, True], [False], [...</td>\n",
              "      <td>[[[Merdeka.com, -, Presiden, Joko, Widodo, (, ...</td>\n",
              "      <td>[[Jokowi, memimpin, upacara, penurunan, bender...</td>\n",
              "    </tr>\n",
              "  </tbody>\n",
              "</table>\n",
              "</div>"
            ],
            "text/plain": [
              "                                         gold_labels  ...                                            summary\n",
              "0  [[False, True], [True, True], [False, False, F...  ...  [[Dokter, Lula, Kamal, yang, merupakan, selebr...\n",
              "1  [[False, False, False, False], [False, True, T...  ...  [[Asus, memperkenalkan,  , ZenFone, generasi, ...\n",
              "2  [[True], [True], [False, False], [False], [Fal...  ...  [[Dinas, Pariwisata, Provinsi, Bengkulu, kemba...\n",
              "3  [[True, True], [False, False, False], [True], ...  ...  [[Indonesia, Corruption, Watch, (, ICW, ), mem...\n",
              "4  [[False, True], [True, True, True], [False], [...  ...  [[Jokowi, memimpin, upacara, penurunan, bender...\n",
              "\n",
              "[5 rows x 3 columns]"
            ]
          },
          "metadata": {
            "tags": []
          },
          "execution_count": 14
        }
      ]
    },
    {
      "cell_type": "markdown",
      "metadata": {
        "id": "1mJMevl20oin"
      },
      "source": [
        "Let's check if we had empty value."
      ]
    },
    {
      "cell_type": "code",
      "metadata": {
        "colab": {
          "base_uri": "https://localhost:8080/"
        },
        "id": "iuOPsii1zqFZ",
        "outputId": "d024ce4d-3a6a-4d83-8beb-1169ba37568b"
      },
      "source": [
        "df_train.isnull().any()"
      ],
      "execution_count": null,
      "outputs": [
        {
          "output_type": "execute_result",
          "data": {
            "text/plain": [
              "gold_labels    False\n",
              "paragraphs     False\n",
              "summary        False\n",
              "dtype: bool"
            ]
          },
          "metadata": {
            "tags": []
          },
          "execution_count": 16
        }
      ]
    },
    {
      "cell_type": "markdown",
      "metadata": {
        "id": "snA4fJLH0utb"
      },
      "source": [
        "Great!\n",
        "\n",
        "No empty value here from **14262 rows** data.\n",
        "\n",
        "That's mean we can start preprocessing the dataset.\n",
        "For text-type dataset, we need to do some steps:\n",
        "1. Cleaning punctuation\n",
        "2. Stemming\n",
        "3. Remove stopwords\n",
        "4. Lowercasing letter"
      ]
    },
    {
      "cell_type": "markdown",
      "metadata": {
        "id": "JErXOgNHyOsE"
      },
      "source": [
        "Just try to create simple approach (not model, yet)"
      ]
    },
    {
      "cell_type": "code",
      "metadata": {
        "colab": {
          "base_uri": "https://localhost:8080/"
        },
        "id": "nRgN7qgJmin5",
        "outputId": "7df528a8-c391-45cf-c4f3-fe10b8a5529e"
      },
      "source": [
        "import bs4\n",
        "import urllib.request as url\n",
        "import re\n",
        "import nltk\n",
        "nltk.download('punkt')\n",
        "nltk.download('stopwords')\n",
        "from nltk import sent_tokenize\n",
        "from nltk.corpus import stopwords\n",
        "from nltk import word_tokenize\n",
        "stop_word = stopwords.words('english')\n",
        "import string"
      ],
      "execution_count": null,
      "outputs": [
        {
          "output_type": "stream",
          "text": [
            "[nltk_data] Downloading package punkt to /root/nltk_data...\n",
            "[nltk_data]   Unzipping tokenizers/punkt.zip.\n",
            "[nltk_data] Downloading package stopwords to /root/nltk_data...\n",
            "[nltk_data]   Unzipping corpora/stopwords.zip.\n"
          ],
          "name": "stdout"
        }
      ]
    },
    {
      "cell_type": "code",
      "metadata": {
        "colab": {
          "base_uri": "https://localhost:8080/"
        },
        "id": "GtiGU332lgqi",
        "outputId": "23fe6bed-d97a-4fd5-df4f-933296f7a27b"
      },
      "source": [
        "url_name = input(\"Enter url of the text you want to summerize:\")"
      ],
      "execution_count": null,
      "outputs": [
        {
          "output_type": "stream",
          "text": [
            "Enter url of the text you want to summerize:https://en.wikipedia.org/wiki/Frances_Gertrude_McGill\n"
          ],
          "name": "stdout"
        }
      ]
    },
    {
      "cell_type": "code",
      "metadata": {
        "colab": {
          "base_uri": "https://localhost:8080/",
          "height": 191
        },
        "id": "MWU6afmhoZbh",
        "outputId": "1baeaebd-1db4-40c1-a965-e714e02b441c"
      },
      "source": [
        "# web = url.urlopen(url_name)\n",
        "# page = bs4.BeautifulSoup(web,'html.parser')\n",
        "# elements = page.find_all('p')\n",
        "# article = ''\n",
        "# for i in elements:\n",
        "#     article+= (i.text)\n",
        "article = \"\"\n",
        "with open('readme.txt') as f:\n",
        "    lines = f.readlines()\n",
        "    print(lines)\n",
        "for i in lines:\n",
        "    article+= i\n",
        "article"
      ],
      "execution_count": null,
      "outputs": [
        {
          "output_type": "stream",
          "text": [
            "['Suara.com - Moda transportasi Kereta Api Bandara International Soekarno - Hatta di Cengkareng akan dioperasikan mulai awal Desember mendatang. \\n', '\"Hari ini kami kembali melakukan uji coba KA Bandara dari Stasiun Sudirman Baru sampai dengan Stasiun Bandara Soekarno - Hatta. \\n', 'Rencana operasional tanggal 1 - 3 Desember 2017 dengan 82 perjalanan setiap harinya dan\\' headway\\' setiap 30 menit,\" kata Menteri Perhubungan Budi Karya Sumadi dalam keterangan tertulis yang diterima di Bandung, Kamis (24 / 11 / 2017). \\n', 'Sedangkan untuk tarifnya sendiri dibanderol Rp 100 ribu. \\n', 'Namun khusus awal operasi Desember cuma Rp 30 rubu setelah diskon 70 persen. \\n', '\"Hal ini dilakukan sebagai upaya sosialisasi penggunaan transportasi publik yang baru kepada masyarakat, \" katanya. \\n', 'Menteri Perhubungan dalam uji coba ini didampingi oleh Zulfikri selaku Dirjen Perkeretaapian, Zamrides Direktur Prasarana DJKA, Budi Noviantoro selaku Direktur Logistik dan Pengembangan PT KAI Heru Kuswanto selaku Direktur Utama PT Railink, Porwanto Handry Nugroho selaku Direktur Operasi dan Teknik PT Railink, dan Hendi Helmy selaku Ka Daop 1 Jakarta. \\n', '\"Uji coba operasi KA Bandara Soetta pada kesempatan kali ini lebih bertujuan untuk mencoba pertama kali track baru dari Stasiun Batuceper sampai Stasiun Bandara Soekarno Hatta sepanjang 12,3 KM sebagai bagian dari persiapan ` soft launching\\' operasi KA Bandara Soetta yang Insya Allah akan dilakukan antara 1 - 3 Desember 2017 sesuai arahan Pak Menhub, \" kata Direktur Utama PT Railink Heru Kuswanto. \\n', 'Direktur Operasi dan Teknik PT Railink Porwanto Handry Nugroho mengatakan akan siapkan 10 rangkaian KRL (EMU / electrical multiple unit) untuk KA Bandara Soekarno - Hatta dan KRL telah siap operasi di mana setiap rangkaian memiliki enam kereta dengan keseluruhan jumlah tempat duduk 272 per rangkaan. \\n', 'Kereta Api Bandara bisa mengangkut 33.728 penumpang tiap hari nya dengan fasilitas premium, mulai dari tempat duduk yang nyaman, full AC, wifi, sampai dengan fasilitas toilet. \\n', '\"Sedangkan waktu tempuhnya pun relatif cepat, hanya 50 menit dengan rute Stasiun Manggarai - Stasiun Bandara Soekarno Hatta, \" katanya. \\n', 'Dengan pengoperasian KA Bandara Soetta ini nanti diharapkan bisa menambah pilihan bagi masyarakat dalam mengakses bandara terbesar di Indonesia itu. \\n', 'Jika selama ini hanya tersedia pilihan bertransportasi berbasis jalan raya, maka sebentar lagi akan hadir layanan public transport berbasil jalan rel yang mengusung kenyamanan bagi pelanggan. \\n', 'Menteri Perhubungan mengapresiasi keberadaan proyek KA Bandara Soetta, proyek ini didanai dari investasi PT Railink bersama kedua induk perusahaan (PT KAI dan PT Angkasa Pura II), tanpa menggunakan dana dari APBN. \\n', 'Diharapkan KA Bandara ini bisa menarik bagi masyarakat dan mampu mengalihkan sebagian pemerjalan ke Bandara yang semula menggunakan kendaraan jalan raya ke KA Bandara ini. \\n', '[ Antara ] ']\n"
          ],
          "name": "stdout"
        },
        {
          "output_type": "execute_result",
          "data": {
            "application/vnd.google.colaboratory.intrinsic+json": {
              "type": "string"
            },
            "text/plain": [
              "'Suara.com - Moda transportasi Kereta Api Bandara International Soekarno - Hatta di Cengkareng akan dioperasikan mulai awal Desember mendatang. \\n\"Hari ini kami kembali melakukan uji coba KA Bandara dari Stasiun Sudirman Baru sampai dengan Stasiun Bandara Soekarno - Hatta. \\nRencana operasional tanggal 1 - 3 Desember 2017 dengan 82 perjalanan setiap harinya dan\\' headway\\' setiap 30 menit,\" kata Menteri Perhubungan Budi Karya Sumadi dalam keterangan tertulis yang diterima di Bandung, Kamis (24 / 11 / 2017). \\nSedangkan untuk tarifnya sendiri dibanderol Rp 100 ribu. \\nNamun khusus awal operasi Desember cuma Rp 30 rubu setelah diskon 70 persen. \\n\"Hal ini dilakukan sebagai upaya sosialisasi penggunaan transportasi publik yang baru kepada masyarakat, \" katanya. \\nMenteri Perhubungan dalam uji coba ini didampingi oleh Zulfikri selaku Dirjen Perkeretaapian, Zamrides Direktur Prasarana DJKA, Budi Noviantoro selaku Direktur Logistik dan Pengembangan PT KAI Heru Kuswanto selaku Direktur Utama PT Railink, Porwanto Handry Nugroho selaku Direktur Operasi dan Teknik PT Railink, dan Hendi Helmy selaku Ka Daop 1 Jakarta. \\n\"Uji coba operasi KA Bandara Soetta pada kesempatan kali ini lebih bertujuan untuk mencoba pertama kali track baru dari Stasiun Batuceper sampai Stasiun Bandara Soekarno Hatta sepanjang 12,3 KM sebagai bagian dari persiapan ` soft launching\\' operasi KA Bandara Soetta yang Insya Allah akan dilakukan antara 1 - 3 Desember 2017 sesuai arahan Pak Menhub, \" kata Direktur Utama PT Railink Heru Kuswanto. \\nDirektur Operasi dan Teknik PT Railink Porwanto Handry Nugroho mengatakan akan siapkan 10 rangkaian KRL (EMU / electrical multiple unit) untuk KA Bandara Soekarno - Hatta dan KRL telah siap operasi di mana setiap rangkaian memiliki enam kereta dengan keseluruhan jumlah tempat duduk 272 per rangkaan. \\nKereta Api Bandara bisa mengangkut 33.728 penumpang tiap hari nya dengan fasilitas premium, mulai dari tempat duduk yang nyaman, full AC, wifi, sampai dengan fasilitas toilet. \\n\"Sedangkan waktu tempuhnya pun relatif cepat, hanya 50 menit dengan rute Stasiun Manggarai - Stasiun Bandara Soekarno Hatta, \" katanya. \\nDengan pengoperasian KA Bandara Soetta ini nanti diharapkan bisa menambah pilihan bagi masyarakat dalam mengakses bandara terbesar di Indonesia itu. \\nJika selama ini hanya tersedia pilihan bertransportasi berbasis jalan raya, maka sebentar lagi akan hadir layanan public transport berbasil jalan rel yang mengusung kenyamanan bagi pelanggan. \\nMenteri Perhubungan mengapresiasi keberadaan proyek KA Bandara Soetta, proyek ini didanai dari investasi PT Railink bersama kedua induk perusahaan (PT KAI dan PT Angkasa Pura II), tanpa menggunakan dana dari APBN. \\nDiharapkan KA Bandara ini bisa menarik bagi masyarakat dan mampu mengalihkan sebagian pemerjalan ke Bandara yang semula menggunakan kendaraan jalan raya ke KA Bandara ini. \\n[ Antara ] '"
            ]
          },
          "metadata": {
            "tags": []
          },
          "execution_count": 2
        }
      ]
    },
    {
      "cell_type": "code",
      "metadata": {
        "colab": {
          "base_uri": "https://localhost:8080/",
          "height": 154
        },
        "id": "5XPCUHlko5R7",
        "outputId": "b7f474ee-2fbc-46b2-dfb5-248dc4f95b3f"
      },
      "source": [
        "\n",
        "processed = article.replace(r'^\\s+|\\s+?$','')\n",
        "processed = processed.replace('\\n',' ')\n",
        "processed = processed.replace(\"\\\\\",'')\n",
        "processed = processed.replace(\",\",'')\n",
        "processed = processed.replace('\"','')\n",
        "processed = re.sub(r'\\[[0-9]*\\]','',processed)\n",
        "\n",
        "processed"
      ],
      "execution_count": null,
      "outputs": [
        {
          "output_type": "execute_result",
          "data": {
            "application/vnd.google.colaboratory.intrinsic+json": {
              "type": "string"
            },
            "text/plain": [
              "\"Suara.com - Moda transportasi Kereta Api Bandara International Soekarno - Hatta di Cengkareng akan dioperasikan mulai awal Desember mendatang.  Hari ini kami kembali melakukan uji coba KA Bandara dari Stasiun Sudirman Baru sampai dengan Stasiun Bandara Soekarno - Hatta.  Rencana operasional tanggal 1 - 3 Desember 2017 dengan 82 perjalanan setiap harinya dan' headway' setiap 30 menit kata Menteri Perhubungan Budi Karya Sumadi dalam keterangan tertulis yang diterima di Bandung Kamis (24 / 11 / 2017).  Sedangkan untuk tarifnya sendiri dibanderol Rp 100 ribu.  Namun khusus awal operasi Desember cuma Rp 30 rubu setelah diskon 70 persen.  Hal ini dilakukan sebagai upaya sosialisasi penggunaan transportasi publik yang baru kepada masyarakat  katanya.  Menteri Perhubungan dalam uji coba ini didampingi oleh Zulfikri selaku Dirjen Perkeretaapian Zamrides Direktur Prasarana DJKA Budi Noviantoro selaku Direktur Logistik dan Pengembangan PT KAI Heru Kuswanto selaku Direktur Utama PT Railink Porwanto Handry Nugroho selaku Direktur Operasi dan Teknik PT Railink dan Hendi Helmy selaku Ka Daop 1 Jakarta.  Uji coba operasi KA Bandara Soetta pada kesempatan kali ini lebih bertujuan untuk mencoba pertama kali track baru dari Stasiun Batuceper sampai Stasiun Bandara Soekarno Hatta sepanjang 123 KM sebagai bagian dari persiapan ` soft launching' operasi KA Bandara Soetta yang Insya Allah akan dilakukan antara 1 - 3 Desember 2017 sesuai arahan Pak Menhub  kata Direktur Utama PT Railink Heru Kuswanto.  Direktur Operasi dan Teknik PT Railink Porwanto Handry Nugroho mengatakan akan siapkan 10 rangkaian KRL (EMU / electrical multiple unit) untuk KA Bandara Soekarno - Hatta dan KRL telah siap operasi di mana setiap rangkaian memiliki enam kereta dengan keseluruhan jumlah tempat duduk 272 per rangkaan.  Kereta Api Bandara bisa mengangkut 33.728 penumpang tiap hari nya dengan fasilitas premium mulai dari tempat duduk yang nyaman full AC wifi sampai dengan fasilitas toilet.  Sedangkan waktu tempuhnya pun relatif cepat hanya 50 menit dengan rute Stasiun Manggarai - Stasiun Bandara Soekarno Hatta  katanya.  Dengan pengoperasian KA Bandara Soetta ini nanti diharapkan bisa menambah pilihan bagi masyarakat dalam mengakses bandara terbesar di Indonesia itu.  Jika selama ini hanya tersedia pilihan bertransportasi berbasis jalan raya maka sebentar lagi akan hadir layanan public transport berbasil jalan rel yang mengusung kenyamanan bagi pelanggan.  Menteri Perhubungan mengapresiasi keberadaan proyek KA Bandara Soetta proyek ini didanai dari investasi PT Railink bersama kedua induk perusahaan (PT KAI dan PT Angkasa Pura II) tanpa menggunakan dana dari APBN.  Diharapkan KA Bandara ini bisa menarik bagi masyarakat dan mampu mengalihkan sebagian pemerjalan ke Bandara yang semula menggunakan kendaraan jalan raya ke KA Bandara ini.  [ Antara ] \""
            ]
          },
          "metadata": {
            "tags": []
          },
          "execution_count": 4
        }
      ]
    },
    {
      "cell_type": "code",
      "metadata": {
        "colab": {
          "base_uri": "https://localhost:8080/"
        },
        "id": "zs--ZNoTo_AH",
        "outputId": "1aa9fb1d-a1cb-44f7-cfea-603944fc20eb"
      },
      "source": [
        "sentences = sent_tokenize(processed)\n",
        "sentences"
      ],
      "execution_count": null,
      "outputs": [
        {
          "output_type": "execute_result",
          "data": {
            "text/plain": [
              "['Suara.com - Moda transportasi Kereta Api Bandara International Soekarno - Hatta di Cengkareng akan dioperasikan mulai awal Desember mendatang.',\n",
              " 'Hari ini kami kembali melakukan uji coba KA Bandara dari Stasiun Sudirman Baru sampai dengan Stasiun Bandara Soekarno - Hatta.',\n",
              " \"Rencana operasional tanggal 1 - 3 Desember 2017 dengan 82 perjalanan setiap harinya dan' headway' setiap 30 menit kata Menteri Perhubungan Budi Karya Sumadi dalam keterangan tertulis yang diterima di Bandung Kamis (24 / 11 / 2017).\",\n",
              " 'Sedangkan untuk tarifnya sendiri dibanderol Rp 100 ribu.',\n",
              " 'Namun khusus awal operasi Desember cuma Rp 30 rubu setelah diskon 70 persen.',\n",
              " 'Hal ini dilakukan sebagai upaya sosialisasi penggunaan transportasi publik yang baru kepada masyarakat  katanya.',\n",
              " 'Menteri Perhubungan dalam uji coba ini didampingi oleh Zulfikri selaku Dirjen Perkeretaapian Zamrides Direktur Prasarana DJKA Budi Noviantoro selaku Direktur Logistik dan Pengembangan PT KAI Heru Kuswanto selaku Direktur Utama PT Railink Porwanto Handry Nugroho selaku Direktur Operasi dan Teknik PT Railink dan Hendi Helmy selaku Ka Daop 1 Jakarta.',\n",
              " \"Uji coba operasi KA Bandara Soetta pada kesempatan kali ini lebih bertujuan untuk mencoba pertama kali track baru dari Stasiun Batuceper sampai Stasiun Bandara Soekarno Hatta sepanjang 123 KM sebagai bagian dari persiapan ` soft launching' operasi KA Bandara Soetta yang Insya Allah akan dilakukan antara 1 - 3 Desember 2017 sesuai arahan Pak Menhub  kata Direktur Utama PT Railink Heru Kuswanto.\",\n",
              " 'Direktur Operasi dan Teknik PT Railink Porwanto Handry Nugroho mengatakan akan siapkan 10 rangkaian KRL (EMU / electrical multiple unit) untuk KA Bandara Soekarno - Hatta dan KRL telah siap operasi di mana setiap rangkaian memiliki enam kereta dengan keseluruhan jumlah tempat duduk 272 per rangkaan.',\n",
              " 'Kereta Api Bandara bisa mengangkut 33.728 penumpang tiap hari nya dengan fasilitas premium mulai dari tempat duduk yang nyaman full AC wifi sampai dengan fasilitas toilet.',\n",
              " 'Sedangkan waktu tempuhnya pun relatif cepat hanya 50 menit dengan rute Stasiun Manggarai - Stasiun Bandara Soekarno Hatta  katanya.',\n",
              " 'Dengan pengoperasian KA Bandara Soetta ini nanti diharapkan bisa menambah pilihan bagi masyarakat dalam mengakses bandara terbesar di Indonesia itu.',\n",
              " 'Jika selama ini hanya tersedia pilihan bertransportasi berbasis jalan raya maka sebentar lagi akan hadir layanan public transport berbasil jalan rel yang mengusung kenyamanan bagi pelanggan.',\n",
              " 'Menteri Perhubungan mengapresiasi keberadaan proyek KA Bandara Soetta proyek ini didanai dari investasi PT Railink bersama kedua induk perusahaan (PT KAI dan PT Angkasa Pura II) tanpa menggunakan dana dari APBN.',\n",
              " 'Diharapkan KA Bandara ini bisa menarik bagi masyarakat dan mampu mengalihkan sebagian pemerjalan ke Bandara yang semula menggunakan kendaraan jalan raya ke KA Bandara ini.',\n",
              " '[ Antara ]']"
            ]
          },
          "metadata": {
            "tags": []
          },
          "execution_count": 5
        }
      ]
    },
    {
      "cell_type": "code",
      "metadata": {
        "colab": {
          "base_uri": "https://localhost:8080/"
        },
        "id": "SQvcPurgpEZG",
        "outputId": "f489f77e-e813-44f5-e447-d1dba93f9d9e"
      },
      "source": [
        "frequency = {}\n",
        "processed1 = processed.lower()\n",
        "for word in word_tokenize(processed1):\n",
        "    if word not in stop_word and word not in string.punctuation:\n",
        "        if word not in frequency.keys():\n",
        "            frequency[word]=1\n",
        "        else:\n",
        "            frequency[word]+=1\n",
        "frequency"
      ],
      "execution_count": null,
      "outputs": [
        {
          "output_type": "execute_result",
          "data": {
            "text/plain": [
              "{'1': 3,\n",
              " '10': 1,\n",
              " '100': 1,\n",
              " '11': 1,\n",
              " '123': 1,\n",
              " '2017': 3,\n",
              " '24': 1,\n",
              " '272': 1,\n",
              " '3': 2,\n",
              " '30': 2,\n",
              " '33.728': 1,\n",
              " '50': 1,\n",
              " '70': 1,\n",
              " '82': 1,\n",
              " 'ac': 1,\n",
              " 'akan': 4,\n",
              " 'allah': 1,\n",
              " 'angkasa': 1,\n",
              " 'antara': 2,\n",
              " 'apbn': 1,\n",
              " 'api': 2,\n",
              " 'arahan': 1,\n",
              " 'awal': 2,\n",
              " 'bagi': 3,\n",
              " 'bagian': 1,\n",
              " 'bandara': 15,\n",
              " 'bandung': 1,\n",
              " 'baru': 3,\n",
              " 'batuceper': 1,\n",
              " 'berbasil': 1,\n",
              " 'berbasis': 1,\n",
              " 'bersama': 1,\n",
              " 'bertransportasi': 1,\n",
              " 'bertujuan': 1,\n",
              " 'bisa': 3,\n",
              " 'budi': 2,\n",
              " 'cengkareng': 1,\n",
              " 'cepat': 1,\n",
              " 'coba': 3,\n",
              " 'cuma': 1,\n",
              " 'dalam': 3,\n",
              " 'dan': 8,\n",
              " 'dana': 1,\n",
              " 'daop': 1,\n",
              " 'dari': 6,\n",
              " 'dengan': 7,\n",
              " 'desember': 4,\n",
              " 'di': 4,\n",
              " 'dibanderol': 1,\n",
              " 'didampingi': 1,\n",
              " 'didanai': 1,\n",
              " 'diharapkan': 2,\n",
              " 'dilakukan': 2,\n",
              " 'dioperasikan': 1,\n",
              " 'direktur': 6,\n",
              " 'dirjen': 1,\n",
              " 'diskon': 1,\n",
              " 'diterima': 1,\n",
              " 'djka': 1,\n",
              " 'duduk': 2,\n",
              " 'electrical': 1,\n",
              " 'emu': 1,\n",
              " 'enam': 1,\n",
              " 'fasilitas': 2,\n",
              " 'full': 1,\n",
              " 'hadir': 1,\n",
              " 'hal': 1,\n",
              " 'handry': 2,\n",
              " 'hanya': 2,\n",
              " 'hari': 2,\n",
              " 'harinya': 1,\n",
              " 'hatta': 5,\n",
              " 'headway': 1,\n",
              " 'helmy': 1,\n",
              " 'hendi': 1,\n",
              " 'heru': 2,\n",
              " 'ii': 1,\n",
              " 'indonesia': 1,\n",
              " 'induk': 1,\n",
              " 'ini': 9,\n",
              " 'insya': 1,\n",
              " 'international': 1,\n",
              " 'investasi': 1,\n",
              " 'itu': 1,\n",
              " 'jakarta': 1,\n",
              " 'jalan': 3,\n",
              " 'jika': 1,\n",
              " 'jumlah': 1,\n",
              " 'ka': 9,\n",
              " 'kai': 2,\n",
              " 'kali': 2,\n",
              " 'kami': 1,\n",
              " 'kamis': 1,\n",
              " 'karya': 1,\n",
              " 'kata': 2,\n",
              " 'katanya': 2,\n",
              " 'ke': 2,\n",
              " 'keberadaan': 1,\n",
              " 'kedua': 1,\n",
              " 'kembali': 1,\n",
              " 'kendaraan': 1,\n",
              " 'kenyamanan': 1,\n",
              " 'kepada': 1,\n",
              " 'kereta': 3,\n",
              " 'keseluruhan': 1,\n",
              " 'kesempatan': 1,\n",
              " 'keterangan': 1,\n",
              " 'khusus': 1,\n",
              " 'km': 1,\n",
              " 'krl': 2,\n",
              " 'kuswanto': 2,\n",
              " 'lagi': 1,\n",
              " 'launching': 1,\n",
              " 'layanan': 1,\n",
              " 'lebih': 1,\n",
              " 'logistik': 1,\n",
              " 'maka': 1,\n",
              " 'mampu': 1,\n",
              " 'mana': 1,\n",
              " 'manggarai': 1,\n",
              " 'masyarakat': 3,\n",
              " 'melakukan': 1,\n",
              " 'memiliki': 1,\n",
              " 'menambah': 1,\n",
              " 'menarik': 1,\n",
              " 'mencoba': 1,\n",
              " 'mendatang': 1,\n",
              " 'mengakses': 1,\n",
              " 'mengalihkan': 1,\n",
              " 'mengangkut': 1,\n",
              " 'mengapresiasi': 1,\n",
              " 'mengatakan': 1,\n",
              " 'menggunakan': 2,\n",
              " 'mengusung': 1,\n",
              " 'menhub': 1,\n",
              " 'menit': 2,\n",
              " 'menteri': 3,\n",
              " 'moda': 1,\n",
              " 'mulai': 2,\n",
              " 'multiple': 1,\n",
              " 'namun': 1,\n",
              " 'nanti': 1,\n",
              " 'noviantoro': 1,\n",
              " 'nugroho': 2,\n",
              " 'nya': 1,\n",
              " 'nyaman': 1,\n",
              " 'oleh': 1,\n",
              " 'operasi': 6,\n",
              " 'operasional': 1,\n",
              " 'pada': 1,\n",
              " 'pak': 1,\n",
              " 'pelanggan': 1,\n",
              " 'pemerjalan': 1,\n",
              " 'pengembangan': 1,\n",
              " 'penggunaan': 1,\n",
              " 'pengoperasian': 1,\n",
              " 'penumpang': 1,\n",
              " 'per': 1,\n",
              " 'perhubungan': 3,\n",
              " 'perjalanan': 1,\n",
              " 'perkeretaapian': 1,\n",
              " 'persen': 1,\n",
              " 'persiapan': 1,\n",
              " 'pertama': 1,\n",
              " 'perusahaan': 1,\n",
              " 'pilihan': 2,\n",
              " 'porwanto': 2,\n",
              " 'prasarana': 1,\n",
              " 'premium': 1,\n",
              " 'proyek': 2,\n",
              " 'pt': 8,\n",
              " 'public': 1,\n",
              " 'publik': 1,\n",
              " 'pun': 1,\n",
              " 'pura': 1,\n",
              " 'railink': 5,\n",
              " 'rangkaan': 1,\n",
              " 'rangkaian': 2,\n",
              " 'raya': 2,\n",
              " 'rel': 1,\n",
              " 'relatif': 1,\n",
              " 'rencana': 1,\n",
              " 'ribu': 1,\n",
              " 'rp': 2,\n",
              " 'rubu': 1,\n",
              " 'rute': 1,\n",
              " 'sampai': 3,\n",
              " 'sebagai': 2,\n",
              " 'sebagian': 1,\n",
              " 'sebentar': 1,\n",
              " 'sedangkan': 2,\n",
              " 'selaku': 5,\n",
              " 'selama': 1,\n",
              " 'semula': 1,\n",
              " 'sendiri': 1,\n",
              " 'sepanjang': 1,\n",
              " 'sesuai': 1,\n",
              " 'setelah': 1,\n",
              " 'setiap': 3,\n",
              " 'siap': 1,\n",
              " 'siapkan': 1,\n",
              " 'soekarno': 5,\n",
              " 'soetta': 4,\n",
              " 'soft': 1,\n",
              " 'sosialisasi': 1,\n",
              " 'stasiun': 6,\n",
              " 'suara.com': 1,\n",
              " 'sudirman': 1,\n",
              " 'sumadi': 1,\n",
              " 'tanggal': 1,\n",
              " 'tanpa': 1,\n",
              " 'tarifnya': 1,\n",
              " 'teknik': 2,\n",
              " 'telah': 1,\n",
              " 'tempat': 2,\n",
              " 'tempuhnya': 1,\n",
              " 'terbesar': 1,\n",
              " 'tersedia': 1,\n",
              " 'tertulis': 1,\n",
              " 'tiap': 1,\n",
              " 'toilet': 1,\n",
              " 'track': 1,\n",
              " 'transport': 1,\n",
              " 'transportasi': 2,\n",
              " 'uji': 3,\n",
              " 'unit': 1,\n",
              " 'untuk': 3,\n",
              " 'upaya': 1,\n",
              " 'utama': 2,\n",
              " 'waktu': 1,\n",
              " 'wifi': 1,\n",
              " 'yang': 6,\n",
              " 'zamrides': 1,\n",
              " 'zulfikri': 1}"
            ]
          },
          "metadata": {
            "tags": []
          },
          "execution_count": 14
        }
      ]
    },
    {
      "cell_type": "code",
      "metadata": {
        "colab": {
          "base_uri": "https://localhost:8080/"
        },
        "id": "QZ4T5Y4EpXUW",
        "outputId": "9bc178ca-7b60-40ad-dcfe-36208de7bdd9"
      },
      "source": [
        "max_fre = max(frequency.values())\n",
        "print(frequency)\n",
        "print(frequency['suara.com'])\n",
        "print(max_fre)\n",
        "for word in frequency.keys():\n",
        "    frequency[word]=(frequency[word]/max_fre)\n",
        "frequency"
      ],
      "execution_count": null,
      "outputs": [
        {
          "output_type": "stream",
          "text": [
            "{'suara.com': 0.06666666666666667, 'moda': 0.06666666666666667, 'transportasi': 0.13333333333333333, 'kereta': 0.2, 'api': 0.13333333333333333, 'bandara': 1.0, 'international': 0.06666666666666667, 'soekarno': 0.3333333333333333, 'hatta': 0.3333333333333333, 'di': 0.26666666666666666, 'cengkareng': 0.06666666666666667, 'akan': 0.26666666666666666, 'dioperasikan': 0.06666666666666667, 'mulai': 0.13333333333333333, 'awal': 0.13333333333333333, 'desember': 0.26666666666666666, 'mendatang': 0.06666666666666667, 'hari': 0.13333333333333333, 'ini': 0.6, 'kami': 0.06666666666666667, 'kembali': 0.06666666666666667, 'melakukan': 0.06666666666666667, 'uji': 0.2, 'coba': 0.2, 'ka': 0.6, 'dari': 0.4, 'stasiun': 0.4, 'sudirman': 0.06666666666666667, 'baru': 0.2, 'sampai': 0.2, 'dengan': 0.4666666666666667, 'rencana': 0.06666666666666667, 'operasional': 0.06666666666666667, 'tanggal': 0.06666666666666667, '1': 0.2, '3': 0.13333333333333333, '2017': 0.2, '82': 0.06666666666666667, 'perjalanan': 0.06666666666666667, 'setiap': 0.2, 'harinya': 0.06666666666666667, 'dan': 0.5333333333333333, 'headway': 0.06666666666666667, '30': 0.13333333333333333, 'menit': 0.13333333333333333, 'kata': 0.13333333333333333, 'menteri': 0.2, 'perhubungan': 0.2, 'budi': 0.13333333333333333, 'karya': 0.06666666666666667, 'sumadi': 0.06666666666666667, 'dalam': 0.2, 'keterangan': 0.06666666666666667, 'tertulis': 0.06666666666666667, 'yang': 0.4, 'diterima': 0.06666666666666667, 'bandung': 0.06666666666666667, 'kamis': 0.06666666666666667, '24': 0.06666666666666667, '11': 0.06666666666666667, 'sedangkan': 0.13333333333333333, 'untuk': 0.2, 'tarifnya': 0.06666666666666667, 'sendiri': 0.06666666666666667, 'dibanderol': 0.06666666666666667, 'rp': 0.13333333333333333, '100': 0.06666666666666667, 'ribu': 0.06666666666666667, 'namun': 0.06666666666666667, 'khusus': 0.06666666666666667, 'operasi': 0.4, 'cuma': 0.06666666666666667, 'rubu': 0.06666666666666667, 'setelah': 0.06666666666666667, 'diskon': 0.06666666666666667, '70': 0.06666666666666667, 'persen': 0.06666666666666667, 'hal': 0.06666666666666667, 'dilakukan': 0.13333333333333333, 'sebagai': 0.13333333333333333, 'upaya': 0.06666666666666667, 'sosialisasi': 0.06666666666666667, 'penggunaan': 0.06666666666666667, 'publik': 0.06666666666666667, 'kepada': 0.06666666666666667, 'masyarakat': 0.2, 'katanya': 0.13333333333333333, 'didampingi': 0.06666666666666667, 'oleh': 0.06666666666666667, 'zulfikri': 0.06666666666666667, 'selaku': 0.3333333333333333, 'dirjen': 0.06666666666666667, 'perkeretaapian': 0.06666666666666667, 'zamrides': 0.06666666666666667, 'direktur': 0.4, 'prasarana': 0.06666666666666667, 'djka': 0.06666666666666667, 'noviantoro': 0.06666666666666667, 'logistik': 0.06666666666666667, 'pengembangan': 0.06666666666666667, 'pt': 0.5333333333333333, 'kai': 0.13333333333333333, 'heru': 0.13333333333333333, 'kuswanto': 0.13333333333333333, 'utama': 0.13333333333333333, 'railink': 0.3333333333333333, 'porwanto': 0.13333333333333333, 'handry': 0.13333333333333333, 'nugroho': 0.13333333333333333, 'teknik': 0.13333333333333333, 'hendi': 0.06666666666666667, 'helmy': 0.06666666666666667, 'daop': 0.06666666666666667, 'jakarta': 0.06666666666666667, 'soetta': 0.26666666666666666, 'pada': 0.06666666666666667, 'kesempatan': 0.06666666666666667, 'kali': 0.13333333333333333, 'lebih': 0.06666666666666667, 'bertujuan': 0.06666666666666667, 'mencoba': 0.06666666666666667, 'pertama': 0.06666666666666667, 'track': 0.06666666666666667, 'batuceper': 0.06666666666666667, 'sepanjang': 0.06666666666666667, '123': 0.06666666666666667, 'km': 0.06666666666666667, 'bagian': 0.06666666666666667, 'persiapan': 0.06666666666666667, 'soft': 0.06666666666666667, 'launching': 0.06666666666666667, 'insya': 0.06666666666666667, 'allah': 0.06666666666666667, 'antara': 0.13333333333333333, 'sesuai': 0.06666666666666667, 'arahan': 0.06666666666666667, 'pak': 0.06666666666666667, 'menhub': 0.06666666666666667, 'mengatakan': 0.06666666666666667, 'siapkan': 0.06666666666666667, '10': 0.06666666666666667, 'rangkaian': 0.13333333333333333, 'krl': 0.13333333333333333, 'emu': 0.06666666666666667, 'electrical': 0.06666666666666667, 'multiple': 0.06666666666666667, 'unit': 0.06666666666666667, 'telah': 0.06666666666666667, 'siap': 0.06666666666666667, 'mana': 0.06666666666666667, 'memiliki': 0.06666666666666667, 'enam': 0.06666666666666667, 'keseluruhan': 0.06666666666666667, 'jumlah': 0.06666666666666667, 'tempat': 0.13333333333333333, 'duduk': 0.13333333333333333, '272': 0.06666666666666667, 'per': 0.06666666666666667, 'rangkaan': 0.06666666666666667, 'bisa': 0.2, 'mengangkut': 0.06666666666666667, '33.728': 0.06666666666666667, 'penumpang': 0.06666666666666667, 'tiap': 0.06666666666666667, 'nya': 0.06666666666666667, 'fasilitas': 0.13333333333333333, 'premium': 0.06666666666666667, 'nyaman': 0.06666666666666667, 'full': 0.06666666666666667, 'ac': 0.06666666666666667, 'wifi': 0.06666666666666667, 'toilet': 0.06666666666666667, 'waktu': 0.06666666666666667, 'tempuhnya': 0.06666666666666667, 'pun': 0.06666666666666667, 'relatif': 0.06666666666666667, 'cepat': 0.06666666666666667, 'hanya': 0.13333333333333333, '50': 0.06666666666666667, 'rute': 0.06666666666666667, 'manggarai': 0.06666666666666667, 'pengoperasian': 0.06666666666666667, 'nanti': 0.06666666666666667, 'diharapkan': 0.13333333333333333, 'menambah': 0.06666666666666667, 'pilihan': 0.13333333333333333, 'bagi': 0.2, 'mengakses': 0.06666666666666667, 'terbesar': 0.06666666666666667, 'indonesia': 0.06666666666666667, 'itu': 0.06666666666666667, 'jika': 0.06666666666666667, 'selama': 0.06666666666666667, 'tersedia': 0.06666666666666667, 'bertransportasi': 0.06666666666666667, 'berbasis': 0.06666666666666667, 'jalan': 0.2, 'raya': 0.13333333333333333, 'maka': 0.06666666666666667, 'sebentar': 0.06666666666666667, 'lagi': 0.06666666666666667, 'hadir': 0.06666666666666667, 'layanan': 0.06666666666666667, 'public': 0.06666666666666667, 'transport': 0.06666666666666667, 'berbasil': 0.06666666666666667, 'rel': 0.06666666666666667, 'mengusung': 0.06666666666666667, 'kenyamanan': 0.06666666666666667, 'pelanggan': 0.06666666666666667, 'mengapresiasi': 0.06666666666666667, 'keberadaan': 0.06666666666666667, 'proyek': 0.13333333333333333, 'didanai': 0.06666666666666667, 'investasi': 0.06666666666666667, 'bersama': 0.06666666666666667, 'kedua': 0.06666666666666667, 'induk': 0.06666666666666667, 'perusahaan': 0.06666666666666667, 'angkasa': 0.06666666666666667, 'pura': 0.06666666666666667, 'ii': 0.06666666666666667, 'tanpa': 0.06666666666666667, 'menggunakan': 0.13333333333333333, 'dana': 0.06666666666666667, 'apbn': 0.06666666666666667, 'menarik': 0.06666666666666667, 'mampu': 0.06666666666666667, 'mengalihkan': 0.06666666666666667, 'sebagian': 0.06666666666666667, 'pemerjalan': 0.06666666666666667, 'ke': 0.13333333333333333, 'semula': 0.06666666666666667, 'kendaraan': 0.06666666666666667}\n",
            "0.06666666666666667\n",
            "1.0\n"
          ],
          "name": "stdout"
        },
        {
          "output_type": "execute_result",
          "data": {
            "text/plain": [
              "{'1': 0.2,\n",
              " '10': 0.06666666666666667,\n",
              " '100': 0.06666666666666667,\n",
              " '11': 0.06666666666666667,\n",
              " '123': 0.06666666666666667,\n",
              " '2017': 0.2,\n",
              " '24': 0.06666666666666667,\n",
              " '272': 0.06666666666666667,\n",
              " '3': 0.13333333333333333,\n",
              " '30': 0.13333333333333333,\n",
              " '33.728': 0.06666666666666667,\n",
              " '50': 0.06666666666666667,\n",
              " '70': 0.06666666666666667,\n",
              " '82': 0.06666666666666667,\n",
              " 'ac': 0.06666666666666667,\n",
              " 'akan': 0.26666666666666666,\n",
              " 'allah': 0.06666666666666667,\n",
              " 'angkasa': 0.06666666666666667,\n",
              " 'antara': 0.13333333333333333,\n",
              " 'apbn': 0.06666666666666667,\n",
              " 'api': 0.13333333333333333,\n",
              " 'arahan': 0.06666666666666667,\n",
              " 'awal': 0.13333333333333333,\n",
              " 'bagi': 0.2,\n",
              " 'bagian': 0.06666666666666667,\n",
              " 'bandara': 1.0,\n",
              " 'bandung': 0.06666666666666667,\n",
              " 'baru': 0.2,\n",
              " 'batuceper': 0.06666666666666667,\n",
              " 'berbasil': 0.06666666666666667,\n",
              " 'berbasis': 0.06666666666666667,\n",
              " 'bersama': 0.06666666666666667,\n",
              " 'bertransportasi': 0.06666666666666667,\n",
              " 'bertujuan': 0.06666666666666667,\n",
              " 'bisa': 0.2,\n",
              " 'budi': 0.13333333333333333,\n",
              " 'cengkareng': 0.06666666666666667,\n",
              " 'cepat': 0.06666666666666667,\n",
              " 'coba': 0.2,\n",
              " 'cuma': 0.06666666666666667,\n",
              " 'dalam': 0.2,\n",
              " 'dan': 0.5333333333333333,\n",
              " 'dana': 0.06666666666666667,\n",
              " 'daop': 0.06666666666666667,\n",
              " 'dari': 0.4,\n",
              " 'dengan': 0.4666666666666667,\n",
              " 'desember': 0.26666666666666666,\n",
              " 'di': 0.26666666666666666,\n",
              " 'dibanderol': 0.06666666666666667,\n",
              " 'didampingi': 0.06666666666666667,\n",
              " 'didanai': 0.06666666666666667,\n",
              " 'diharapkan': 0.13333333333333333,\n",
              " 'dilakukan': 0.13333333333333333,\n",
              " 'dioperasikan': 0.06666666666666667,\n",
              " 'direktur': 0.4,\n",
              " 'dirjen': 0.06666666666666667,\n",
              " 'diskon': 0.06666666666666667,\n",
              " 'diterima': 0.06666666666666667,\n",
              " 'djka': 0.06666666666666667,\n",
              " 'duduk': 0.13333333333333333,\n",
              " 'electrical': 0.06666666666666667,\n",
              " 'emu': 0.06666666666666667,\n",
              " 'enam': 0.06666666666666667,\n",
              " 'fasilitas': 0.13333333333333333,\n",
              " 'full': 0.06666666666666667,\n",
              " 'hadir': 0.06666666666666667,\n",
              " 'hal': 0.06666666666666667,\n",
              " 'handry': 0.13333333333333333,\n",
              " 'hanya': 0.13333333333333333,\n",
              " 'hari': 0.13333333333333333,\n",
              " 'harinya': 0.06666666666666667,\n",
              " 'hatta': 0.3333333333333333,\n",
              " 'headway': 0.06666666666666667,\n",
              " 'helmy': 0.06666666666666667,\n",
              " 'hendi': 0.06666666666666667,\n",
              " 'heru': 0.13333333333333333,\n",
              " 'ii': 0.06666666666666667,\n",
              " 'indonesia': 0.06666666666666667,\n",
              " 'induk': 0.06666666666666667,\n",
              " 'ini': 0.6,\n",
              " 'insya': 0.06666666666666667,\n",
              " 'international': 0.06666666666666667,\n",
              " 'investasi': 0.06666666666666667,\n",
              " 'itu': 0.06666666666666667,\n",
              " 'jakarta': 0.06666666666666667,\n",
              " 'jalan': 0.2,\n",
              " 'jika': 0.06666666666666667,\n",
              " 'jumlah': 0.06666666666666667,\n",
              " 'ka': 0.6,\n",
              " 'kai': 0.13333333333333333,\n",
              " 'kali': 0.13333333333333333,\n",
              " 'kami': 0.06666666666666667,\n",
              " 'kamis': 0.06666666666666667,\n",
              " 'karya': 0.06666666666666667,\n",
              " 'kata': 0.13333333333333333,\n",
              " 'katanya': 0.13333333333333333,\n",
              " 'ke': 0.13333333333333333,\n",
              " 'keberadaan': 0.06666666666666667,\n",
              " 'kedua': 0.06666666666666667,\n",
              " 'kembali': 0.06666666666666667,\n",
              " 'kendaraan': 0.06666666666666667,\n",
              " 'kenyamanan': 0.06666666666666667,\n",
              " 'kepada': 0.06666666666666667,\n",
              " 'kereta': 0.2,\n",
              " 'keseluruhan': 0.06666666666666667,\n",
              " 'kesempatan': 0.06666666666666667,\n",
              " 'keterangan': 0.06666666666666667,\n",
              " 'khusus': 0.06666666666666667,\n",
              " 'km': 0.06666666666666667,\n",
              " 'krl': 0.13333333333333333,\n",
              " 'kuswanto': 0.13333333333333333,\n",
              " 'lagi': 0.06666666666666667,\n",
              " 'launching': 0.06666666666666667,\n",
              " 'layanan': 0.06666666666666667,\n",
              " 'lebih': 0.06666666666666667,\n",
              " 'logistik': 0.06666666666666667,\n",
              " 'maka': 0.06666666666666667,\n",
              " 'mampu': 0.06666666666666667,\n",
              " 'mana': 0.06666666666666667,\n",
              " 'manggarai': 0.06666666666666667,\n",
              " 'masyarakat': 0.2,\n",
              " 'melakukan': 0.06666666666666667,\n",
              " 'memiliki': 0.06666666666666667,\n",
              " 'menambah': 0.06666666666666667,\n",
              " 'menarik': 0.06666666666666667,\n",
              " 'mencoba': 0.06666666666666667,\n",
              " 'mendatang': 0.06666666666666667,\n",
              " 'mengakses': 0.06666666666666667,\n",
              " 'mengalihkan': 0.06666666666666667,\n",
              " 'mengangkut': 0.06666666666666667,\n",
              " 'mengapresiasi': 0.06666666666666667,\n",
              " 'mengatakan': 0.06666666666666667,\n",
              " 'menggunakan': 0.13333333333333333,\n",
              " 'mengusung': 0.06666666666666667,\n",
              " 'menhub': 0.06666666666666667,\n",
              " 'menit': 0.13333333333333333,\n",
              " 'menteri': 0.2,\n",
              " 'moda': 0.06666666666666667,\n",
              " 'mulai': 0.13333333333333333,\n",
              " 'multiple': 0.06666666666666667,\n",
              " 'namun': 0.06666666666666667,\n",
              " 'nanti': 0.06666666666666667,\n",
              " 'noviantoro': 0.06666666666666667,\n",
              " 'nugroho': 0.13333333333333333,\n",
              " 'nya': 0.06666666666666667,\n",
              " 'nyaman': 0.06666666666666667,\n",
              " 'oleh': 0.06666666666666667,\n",
              " 'operasi': 0.4,\n",
              " 'operasional': 0.06666666666666667,\n",
              " 'pada': 0.06666666666666667,\n",
              " 'pak': 0.06666666666666667,\n",
              " 'pelanggan': 0.06666666666666667,\n",
              " 'pemerjalan': 0.06666666666666667,\n",
              " 'pengembangan': 0.06666666666666667,\n",
              " 'penggunaan': 0.06666666666666667,\n",
              " 'pengoperasian': 0.06666666666666667,\n",
              " 'penumpang': 0.06666666666666667,\n",
              " 'per': 0.06666666666666667,\n",
              " 'perhubungan': 0.2,\n",
              " 'perjalanan': 0.06666666666666667,\n",
              " 'perkeretaapian': 0.06666666666666667,\n",
              " 'persen': 0.06666666666666667,\n",
              " 'persiapan': 0.06666666666666667,\n",
              " 'pertama': 0.06666666666666667,\n",
              " 'perusahaan': 0.06666666666666667,\n",
              " 'pilihan': 0.13333333333333333,\n",
              " 'porwanto': 0.13333333333333333,\n",
              " 'prasarana': 0.06666666666666667,\n",
              " 'premium': 0.06666666666666667,\n",
              " 'proyek': 0.13333333333333333,\n",
              " 'pt': 0.5333333333333333,\n",
              " 'public': 0.06666666666666667,\n",
              " 'publik': 0.06666666666666667,\n",
              " 'pun': 0.06666666666666667,\n",
              " 'pura': 0.06666666666666667,\n",
              " 'railink': 0.3333333333333333,\n",
              " 'rangkaan': 0.06666666666666667,\n",
              " 'rangkaian': 0.13333333333333333,\n",
              " 'raya': 0.13333333333333333,\n",
              " 'rel': 0.06666666666666667,\n",
              " 'relatif': 0.06666666666666667,\n",
              " 'rencana': 0.06666666666666667,\n",
              " 'ribu': 0.06666666666666667,\n",
              " 'rp': 0.13333333333333333,\n",
              " 'rubu': 0.06666666666666667,\n",
              " 'rute': 0.06666666666666667,\n",
              " 'sampai': 0.2,\n",
              " 'sebagai': 0.13333333333333333,\n",
              " 'sebagian': 0.06666666666666667,\n",
              " 'sebentar': 0.06666666666666667,\n",
              " 'sedangkan': 0.13333333333333333,\n",
              " 'selaku': 0.3333333333333333,\n",
              " 'selama': 0.06666666666666667,\n",
              " 'semula': 0.06666666666666667,\n",
              " 'sendiri': 0.06666666666666667,\n",
              " 'sepanjang': 0.06666666666666667,\n",
              " 'sesuai': 0.06666666666666667,\n",
              " 'setelah': 0.06666666666666667,\n",
              " 'setiap': 0.2,\n",
              " 'siap': 0.06666666666666667,\n",
              " 'siapkan': 0.06666666666666667,\n",
              " 'soekarno': 0.3333333333333333,\n",
              " 'soetta': 0.26666666666666666,\n",
              " 'soft': 0.06666666666666667,\n",
              " 'sosialisasi': 0.06666666666666667,\n",
              " 'stasiun': 0.4,\n",
              " 'suara.com': 0.06666666666666667,\n",
              " 'sudirman': 0.06666666666666667,\n",
              " 'sumadi': 0.06666666666666667,\n",
              " 'tanggal': 0.06666666666666667,\n",
              " 'tanpa': 0.06666666666666667,\n",
              " 'tarifnya': 0.06666666666666667,\n",
              " 'teknik': 0.13333333333333333,\n",
              " 'telah': 0.06666666666666667,\n",
              " 'tempat': 0.13333333333333333,\n",
              " 'tempuhnya': 0.06666666666666667,\n",
              " 'terbesar': 0.06666666666666667,\n",
              " 'tersedia': 0.06666666666666667,\n",
              " 'tertulis': 0.06666666666666667,\n",
              " 'tiap': 0.06666666666666667,\n",
              " 'toilet': 0.06666666666666667,\n",
              " 'track': 0.06666666666666667,\n",
              " 'transport': 0.06666666666666667,\n",
              " 'transportasi': 0.13333333333333333,\n",
              " 'uji': 0.2,\n",
              " 'unit': 0.06666666666666667,\n",
              " 'untuk': 0.2,\n",
              " 'upaya': 0.06666666666666667,\n",
              " 'utama': 0.13333333333333333,\n",
              " 'waktu': 0.06666666666666667,\n",
              " 'wifi': 0.06666666666666667,\n",
              " 'yang': 0.4,\n",
              " 'zamrides': 0.06666666666666667,\n",
              " 'zulfikri': 0.06666666666666667}"
            ]
          },
          "metadata": {
            "tags": []
          },
          "execution_count": 16
        }
      ]
    },
    {
      "cell_type": "code",
      "metadata": {
        "colab": {
          "base_uri": "https://localhost:8080/"
        },
        "id": "WPaCywJjpczH",
        "outputId": "33b0853f-da3f-45db-e9a8-291b48b0d11c"
      },
      "source": [
        "sentence_score = {}\n",
        "for sent in sentences:\n",
        "    for word in word_tokenize(sent):\n",
        "        if word in frequency.keys():\n",
        "            if len(sent.split(' '))<30:\n",
        "                if sent not in sentence_score.keys():\n",
        "                    sentence_score[sent] = frequency[word]\n",
        "                else:\n",
        "                    sentence_score[sent]+=frequency[word]\n",
        "\n",
        "sentence_score"
      ],
      "execution_count": null,
      "outputs": [
        {
          "output_type": "execute_result",
          "data": {
            "text/plain": [
              "{'Dengan pengoperasian KA Bandara Soetta ini nanti diharapkan bisa menambah pilihan bagi masyarakat dalam mengakses bandara terbesar di Indonesia itu.': 3.3333333333333335,\n",
              " 'Diharapkan KA Bandara ini bisa menarik bagi masyarakat dan mampu mengalihkan sebagian pemerjalan ke Bandara yang semula menggunakan kendaraan jalan raya ke KA Bandara ini.': 3.9333333333333336,\n",
              " 'Hal ini dilakukan sebagai upaya sosialisasi penggunaan transportasi publik yang baru kepada masyarakat  katanya.': 2.2666666666666666,\n",
              " 'Hari ini kami kembali melakukan uji coba KA Bandara dari Stasiun Sudirman Baru sampai dengan Stasiun Bandara Soekarno - Hatta.': 2.2666666666666666,\n",
              " 'Jika selama ini hanya tersedia pilihan bertransportasi berbasis jalan raya maka sebentar lagi akan hadir layanan public transport berbasil jalan rel yang mengusung kenyamanan bagi pelanggan.': 3.333333333333335,\n",
              " 'Kereta Api Bandara bisa mengangkut 33.728 penumpang tiap hari nya dengan fasilitas premium mulai dari tempat duduk yang nyaman full AC wifi sampai dengan fasilitas toilet.': 3.600000000000001,\n",
              " 'Namun khusus awal operasi Desember cuma Rp 30 rubu setelah diskon 70 persen.': 1.1333333333333333,\n",
              " 'Sedangkan untuk tarifnya sendiri dibanderol Rp 100 ribu.': 0.5333333333333333,\n",
              " 'Sedangkan waktu tempuhnya pun relatif cepat hanya 50 menit dengan rute Stasiun Manggarai - Stasiun Bandara Soekarno Hatta  katanya.': 1.3333333333333333,\n",
              " 'Suara.com - Moda transportasi Kereta Api Bandara International Soekarno - Hatta di Cengkareng akan dioperasikan mulai awal Desember mendatang.': 1.0666666666666667}"
            ]
          },
          "metadata": {
            "tags": []
          },
          "execution_count": 9
        }
      ]
    },
    {
      "cell_type": "code",
      "metadata": {
        "colab": {
          "base_uri": "https://localhost:8080/",
          "height": 477
        },
        "id": "0fs8ef-Zppg4",
        "outputId": "3462bf2b-08fc-4bf2-cd4d-03f6f33ac88b"
      },
      "source": [
        "\n",
        "import heapq\n",
        "summary = heapq.nlargest(2,sentence_score,key = sentence_score.get)\n",
        "summary = ' '.join(summary)\n",
        "\n",
        "final = \"SUMMARY:- \\n  \" + summary + \"TEXT:-    \"+processed\n",
        "textfinal = final.encode('ascii','ignore')\n",
        "textfinal = str(textfinal) \n",
        "final"
      ],
      "execution_count": null,
      "outputs": [
        {
          "output_type": "execute_result",
          "data": {
            "application/vnd.google.colaboratory.intrinsic+json": {
              "type": "string"
            },
            "text/plain": [
              "\"SUMMARY:- \\n  Diharapkan KA Bandara ini bisa menarik bagi masyarakat dan mampu mengalihkan sebagian pemerjalan ke Bandara yang semula menggunakan kendaraan jalan raya ke KA Bandara ini. Kereta Api Bandara bisa mengangkut 33.728 penumpang tiap hari nya dengan fasilitas premium mulai dari tempat duduk yang nyaman full AC wifi sampai dengan fasilitas toilet.TEXT:-    Suara.com - Moda transportasi Kereta Api Bandara International Soekarno - Hatta di Cengkareng akan dioperasikan mulai awal Desember mendatang.  Hari ini kami kembali melakukan uji coba KA Bandara dari Stasiun Sudirman Baru sampai dengan Stasiun Bandara Soekarno - Hatta.  Rencana operasional tanggal 1 - 3 Desember 2017 dengan 82 perjalanan setiap harinya dan' headway' setiap 30 menit kata Menteri Perhubungan Budi Karya Sumadi dalam keterangan tertulis yang diterima di Bandung Kamis (24 / 11 / 2017).  Sedangkan untuk tarifnya sendiri dibanderol Rp 100 ribu.  Namun khusus awal operasi Desember cuma Rp 30 rubu setelah diskon 70 persen.  Hal ini dilakukan sebagai upaya sosialisasi penggunaan transportasi publik yang baru kepada masyarakat  katanya.  Menteri Perhubungan dalam uji coba ini didampingi oleh Zulfikri selaku Dirjen Perkeretaapian Zamrides Direktur Prasarana DJKA Budi Noviantoro selaku Direktur Logistik dan Pengembangan PT KAI Heru Kuswanto selaku Direktur Utama PT Railink Porwanto Handry Nugroho selaku Direktur Operasi dan Teknik PT Railink dan Hendi Helmy selaku Ka Daop 1 Jakarta.  Uji coba operasi KA Bandara Soetta pada kesempatan kali ini lebih bertujuan untuk mencoba pertama kali track baru dari Stasiun Batuceper sampai Stasiun Bandara Soekarno Hatta sepanjang 123 KM sebagai bagian dari persiapan ` soft launching' operasi KA Bandara Soetta yang Insya Allah akan dilakukan antara 1 - 3 Desember 2017 sesuai arahan Pak Menhub  kata Direktur Utama PT Railink Heru Kuswanto.  Direktur Operasi dan Teknik PT Railink Porwanto Handry Nugroho mengatakan akan siapkan 10 rangkaian KRL (EMU / electrical multiple unit) untuk KA Bandara Soekarno - Hatta dan KRL telah siap operasi di mana setiap rangkaian memiliki enam kereta dengan keseluruhan jumlah tempat duduk 272 per rangkaan.  Kereta Api Bandara bisa mengangkut 33.728 penumpang tiap hari nya dengan fasilitas premium mulai dari tempat duduk yang nyaman full AC wifi sampai dengan fasilitas toilet.  Sedangkan waktu tempuhnya pun relatif cepat hanya 50 menit dengan rute Stasiun Manggarai - Stasiun Bandara Soekarno Hatta  katanya.  Dengan pengoperasian KA Bandara Soetta ini nanti diharapkan bisa menambah pilihan bagi masyarakat dalam mengakses bandara terbesar di Indonesia itu.  Jika selama ini hanya tersedia pilihan bertransportasi berbasis jalan raya maka sebentar lagi akan hadir layanan public transport berbasil jalan rel yang mengusung kenyamanan bagi pelanggan.  Menteri Perhubungan mengapresiasi keberadaan proyek KA Bandara Soetta proyek ini didanai dari investasi PT Railink bersama kedua induk perusahaan (PT KAI dan PT Angkasa Pura II) tanpa menggunakan dana dari APBN.  Diharapkan KA Bandara ini bisa menarik bagi masyarakat dan mampu mengalihkan sebagian pemerjalan ke Bandara yang semula menggunakan kendaraan jalan raya ke KA Bandara ini.  [ Antara ] \""
            ]
          },
          "metadata": {
            "tags": []
          },
          "execution_count": 49
        }
      ]
    },
    {
      "cell_type": "code",
      "metadata": {
        "id": "HcVhNf23pwuA",
        "colab": {
          "base_uri": "https://localhost:8080/"
        },
        "outputId": "883bb133-d745-49a4-dc7c-ea374deab005"
      },
      "source": [
        "# !pip install bert-extractive-summarizer\n",
        "!pip install sentencepiece\n"
      ],
      "execution_count": null,
      "outputs": [
        {
          "output_type": "stream",
          "text": [
            "Collecting sentencepiece\n",
            "\u001b[?25l  Downloading https://files.pythonhosted.org/packages/f5/99/e0808cb947ba10f575839c43e8fafc9cc44e4a7a2c8f79c60db48220a577/sentencepiece-0.1.95-cp37-cp37m-manylinux2014_x86_64.whl (1.2MB)\n",
            "\u001b[K     |████████████████████████████████| 1.2MB 5.4MB/s \n",
            "\u001b[?25hInstalling collected packages: sentencepiece\n",
            "Successfully installed sentencepiece-0.1.95\n"
          ],
          "name": "stdout"
        }
      ]
    },
    {
      "cell_type": "code",
      "metadata": {
        "id": "bb6eJ5KXVLLu"
      },
      "source": [
        "get_corona_summary=open('/content/readme.txt','r').read()"
      ],
      "execution_count": null,
      "outputs": []
    },
    {
      "cell_type": "code",
      "metadata": {
        "colab": {
          "base_uri": "https://localhost:8080/"
        },
        "id": "rrl2DvglVUCE",
        "outputId": "66f17aa4-4940-4ce8-e132-b28b81de4c61"
      },
      "source": [
        "from summarizer import Summarizer\n",
        "model = Summarizer()\n",
        "result = model(get_corona_summary, num_sentences=4)\n",
        "summary = \"\".join(result)\n",
        "print(summary)"
      ],
      "execution_count": null,
      "outputs": [
        {
          "output_type": "stream",
          "text": [
            "Suara.com - Moda transportasi Kereta Api Bandara International Soekarno - Hatta di Cengkareng akan dioperasikan mulai awal Desember mendatang. Rencana operasional tanggal 1 - 3 Desember 2017 dengan 82 perjalanan setiap harinya dan' headway' setiap 30 menit,\" kata Menteri Perhubungan Budi Karya Sumadi dalam keterangan tertulis yang diterima di Bandung, Kamis (24 / 11 / 2017). Namun khusus awal operasi Desember cuma Rp 30 rubu setelah diskon 70 persen. Dengan pengoperasian KA Bandara Soetta ini nanti diharapkan bisa menambah pilihan bagi masyarakat dalam mengakses bandara terbesar di Indonesia itu. Diharapkan KA Bandara ini bisa menarik bagi masyarakat dan mampu mengalihkan sebagian pemerjalan ke Bandara yang semula menggunakan kendaraan jalan raya ke KA Bandara ini.\n"
          ],
          "name": "stdout"
        }
      ]
    },
    {
      "cell_type": "code",
      "metadata": {
        "colab": {
          "base_uri": "https://localhost:8080/"
        },
        "id": "TDllYG5MahIf",
        "outputId": "034cf954-3322-4cda-9af6-59f09101dd07"
      },
      "source": [
        "type(model)"
      ],
      "execution_count": null,
      "outputs": [
        {
          "output_type": "execute_result",
          "data": {
            "text/plain": [
              "summarizer.model_processors.Summarizer"
            ]
          },
          "metadata": {
            "tags": []
          },
          "execution_count": 11
        }
      ]
    },
    {
      "cell_type": "markdown",
      "metadata": {
        "id": "YPPAU9jiWFSg"
      },
      "source": [
        "Real Text\n",
        "\n",
        "Suara.com - Moda transportasi Kereta Api Bandara International Soekarno - Hatta di Cengkareng akan dioperasikan mulai awal Desember mendatang.  Hari ini kami kembali melakukan uji coba KA Bandara dari Stasiun Sudirman Baru sampai dengan Stasiun Bandara Soekarno - Hatta.  Rencana operasional tanggal 1 - 3 Desember 2017 dengan 82 perjalanan setiap harinya dan' headway' setiap 30 menit kata Menteri Perhubungan Budi Karya Sumadi dalam keterangan tertulis yang diterima di Bandung Kamis (24 / 11 / 2017).  Sedangkan untuk tarifnya sendiri dibanderol Rp 100 ribu.  Namun khusus awal operasi Desember cuma Rp 30 rubu setelah diskon 70 persen.  Hal ini dilakukan sebagai upaya sosialisasi penggunaan transportasi publik yang baru kepada masyarakat  katanya.  Menteri Perhubungan dalam uji coba ini didampingi oleh Zulfikri selaku Dirjen Perkeretaapian Zamrides Direktur Prasarana DJKA Budi Noviantoro selaku Direktur Logistik dan Pengembangan PT KAI Heru Kuswanto selaku Direktur Utama PT Railink Porwanto Handry Nugroho selaku Direktur Operasi dan Teknik PT Railink dan Hendi Helmy selaku Ka Daop 1 Jakarta.  Uji coba operasi KA Bandara Soetta pada kesempatan kali ini lebih bertujuan untuk mencoba pertama kali track baru dari Stasiun Batuceper sampai Stasiun Bandara Soekarno Hatta sepanjang 123 KM sebagai bagian dari persiapan ` soft launching' operasi KA Bandara Soetta yang Insya Allah akan dilakukan antara 1 - 3 Desember 2017 sesuai arahan Pak Menhub  kata Direktur Utama PT Railink Heru Kuswanto.  Direktur Operasi dan Teknik PT Railink Porwanto Handry Nugroho mengatakan akan siapkan 10 rangkaian KRL (EMU / electrical multiple unit) untuk KA Bandara Soekarno - Hatta dan KRL telah siap operasi di mana setiap rangkaian memiliki enam kereta dengan keseluruhan jumlah tempat duduk 272 per rangkaan.  Kereta Api Bandara bisa mengangkut 33.728 penumpang tiap hari nya dengan fasilitas premium mulai dari tempat duduk yang nyaman full AC wifi sampai dengan fasilitas toilet.  Sedangkan waktu tempuhnya pun relatif cepat hanya 50 menit dengan rute Stasiun Manggarai - Stasiun Bandara Soekarno Hatta  katanya.  Dengan pengoperasian KA Bandara Soetta ini nanti diharapkan bisa menambah pilihan bagi masyarakat dalam mengakses bandara terbesar di Indonesia itu.  Jika selama ini hanya tersedia pilihan bertransportasi berbasis jalan raya maka sebentar lagi akan hadir layanan public transport berbasil jalan rel yang mengusung kenyamanan bagi pelanggan.  Menteri Perhubungan mengapresiasi keberadaan proyek KA Bandara Soetta proyek ini didanai dari investasi PT Railink bersama kedua induk perusahaan (PT KAI dan PT Angkasa Pura II) tanpa menggunakan dana dari APBN.  Diharapkan KA Bandara ini bisa menarik bagi masyarakat dan mampu mengalihkan sebagian pemerjalan ke Bandara yang semula menggunakan kendaraan jalan raya ke KA Bandara ini."
      ]
    },
    {
      "cell_type": "markdown",
      "metadata": {
        "id": "t9UnWjQrWXqN"
      },
      "source": [
        "Human\n",
        "\n",
        "Moda transportasi Kereta Api Bandara International Soekarno - Hatta di Cengkareng akan dioperasikan mulai awal Desember mendatang. \n",
        "Tarif kereta ini dibanderol Rp 100 ribu. \n",
        "Namun khusus awal operasi Desember, terdapat harga promo sebesar Rp 30 ribu, setelah diskon 70 %. \n",
        "Kereta Api Bandara bisa mengangkut 33.728 penumpang tiap hari dengan fasilitas premium, mulai dari tempat duduk yang nyaman, AC, wifi dan toilet. "
      ]
    },
    {
      "cell_type": "markdown",
      "metadata": {
        "id": "MWP4hppkWg1r"
      },
      "source": [
        "Golden Label\n",
        "\n",
        "Suara.com - Moda transportasi Kereta Api Bandara International Soekarno - Hatta di Cengkareng akan dioperasikan mulai awal Desember mendatang. Sedangkan untuk tarifnya sendiri dibanderol Rp 100 ribu. Namun khusus awal operasi Desember cuma Rp 30 rubu setelah diskon 70 persen. Kereta Api Bandara bisa mengangkut 33.728 penumpang tiap hari nya dengan fasilitas premium, mulai dari tempat duduk yang nyaman, full AC, wifi, sampai dengan fasilitas toilet."
      ]
    },
    {
      "cell_type": "markdown",
      "metadata": {
        "id": "eyD0acQVV4X-"
      },
      "source": [
        "Manual approach\n",
        "\n",
        "Diharapkan KA Bandara ini bisa menarik bagi masyarakat dan mampu mengalihkan sebagian pemerjalan ke Bandara yang semula menggunakan kendaraan jalan raya ke KA Bandara ini. Kereta Api Bandara bisa mengangkut 33.728 penumpang tiap hari nya dengan fasilitas premium mulai dari tempat duduk yang nyaman full AC wifi sampai dengan fasilitas toilet"
      ]
    },
    {
      "cell_type": "markdown",
      "metadata": {
        "id": "51fv34vUV0-W"
      },
      "source": [
        "BERT\n",
        "\n",
        "Suara.com - Moda transportasi Kereta Api Bandara International Soekarno - Hatta di Cengkareng akan dioperasikan mulai awal Desember mendatang. Rencana operasional tanggal 1 - 3 Desember 2017 dengan 82 perjalanan setiap harinya dan' headway' setiap 30 menit,\" kata Menteri Perhubungan Budi Karya Sumadi dalam keterangan tertulis yang diterima di Bandung, Kamis (24 / 11 / 2017). Namun khusus awal operasi Desember cuma Rp 30 rubu setelah diskon 70 persen. Dengan pengoperasian KA Bandara Soetta ini nanti diharapkan bisa menambah pilihan bagi masyarakat dalam mengakses bandara terbesar di Indonesia itu. Diharapkan KA Bandara ini bisa menarik bagi masyarakat dan mampu mengalihkan sebagian pemerjalan ke Bandara yang semula menggunakan kendaraan jalan raya ke KA Bandara ini."
      ]
    },
    {
      "cell_type": "markdown",
      "metadata": {
        "id": "T4iVDvujMQM-"
      },
      "source": [
        "SBERT\n",
        "\n",
        "Direktur Operasi dan Teknik PT Railink Porwanto Handry Nugroho mengatakan akan siapkan 10 rangkaian KRL (EMU / electrical multiple unit) untuk KA Bandara Soekarno - Hatta dan KRL telah siap operasi di mana setiap rangkaian memiliki enam kereta dengan keseluruhan jumlah tempat duduk 272 per rangkaan.\n",
        "Dengan pengoperasian KA Bandara Soetta ini nanti diharapkan bisa menambah pilihan bagi masyarakat dalam mengakses bandara terbesar di Indonesia itu.\n",
        "Diharapkan KA Bandara ini bisa menarik bagi masyarakat dan mampu mengalihkan sebagian pemerjalan ke Bandara yang semula menggunakan kendaraan jalan raya ke KA Bandara ini.\n",
        "Menteri Perhubungan dalam uji coba ini didampingi oleh Zulfikri selaku Dirjen Perkeretaapian Zamrides Direktur Prasarana DJKA Budi Noviantoro selaku Direktur Logistik dan Pengembangan PT KAI Heru Kuswanto selaku Direktur Utama PT Railink Porwanto Handry Nugroho selaku Direktur Operasi dan Teknik PT Railink dan Hendi Helmy selaku Ka Daop 1 Jakarta.\n",
        "Suara.com - Moda transportasi Kereta Api Bandara International Soekarno - Hatta di Cengkareng akan dioperasikan mulai awal Desember mendatang."
      ]
    },
    {
      "cell_type": "code",
      "metadata": {
        "colab": {
          "base_uri": "https://localhost:8080/"
        },
        "id": "rxJBOR2TKMIC",
        "outputId": "bf1364a2-f527-441f-9c44-4dbb8bc3599b"
      },
      "source": [
        "# !pip install -U sentence-transformers\n",
        "# !git clone https://github.com/UKPLab/sentence-transformers.git\n",
        "import nltk\n",
        "nltk.download('punkt')"
      ],
      "execution_count": null,
      "outputs": [
        {
          "output_type": "stream",
          "text": [
            "[nltk_data] Downloading package punkt to /root/nltk_data...\n",
            "[nltk_data]   Unzipping tokenizers/punkt.zip.\n"
          ],
          "name": "stdout"
        },
        {
          "output_type": "execute_result",
          "data": {
            "text/plain": [
              "True"
            ]
          },
          "metadata": {
            "tags": []
          },
          "execution_count": 4
        }
      ]
    },
    {
      "cell_type": "code",
      "metadata": {
        "colab": {
          "base_uri": "https://localhost:8080/"
        },
        "id": "iHdLST5jKqE0",
        "outputId": "d6cf70ab-731d-4875-b4cf-2c6e056d9fb2"
      },
      "source": [
        "\"\"\"\n",
        "This example uses LexRank (https://www.aaai.org/Papers/JAIR/Vol22/JAIR-2214.pdf)\n",
        "to create an extractive summarization of a long document.\n",
        "\n",
        "The document is splitted into sentences using NLTK, then the sentence embeddings are computed. We\n",
        "then compute the cosine-similarity across all possible sentence pairs.\n",
        "\n",
        "We then use LexRank to find the most central sentences in the document, which form our summary.\n",
        "\n",
        "Input document: First section from the English Wikipedia Section\n",
        "Output summary:\n",
        "Located at the southern tip of the U.S. state of New York, the city is the center of the New York metropolitan area, the largest metropolitan area in the world by urban landmass.\n",
        "New York City (NYC), often called simply New York, is the most populous city in the United States.\n",
        "Anchored by Wall Street in the Financial District of Lower Manhattan, New York City has been called both the world's leading financial center and the most financially powerful city in the world, and is home to the world's two largest stock exchanges by total market capitalization, the New York Stock Exchange and NASDAQ.\n",
        "New York City has been described as the cultural, financial, and media capital of the world, significantly influencing commerce, entertainment, research, technology, education, politics, tourism, art, fashion, and sports.\n",
        "If the New York metropolitan area were a sovereign state, it would have the eighth-largest economy in the world.\n",
        "\"\"\"\n",
        "import sys\n",
        "\n",
        "import nltk\n",
        "from sentence_transformers import SentenceTransformer, util\n",
        "import numpy as np\n",
        "sys.path.insert(1, '/content/sentence-transformers/examples/applications/text-summarization/')\n",
        "\n",
        "from LexRank import degree_centrality_scores\n",
        "\n",
        "\n",
        "\n",
        "model = SentenceTransformer('paraphrase-distilroberta-base-v1')\n",
        "\n",
        "# Our input document we want to summarize\n",
        "# As example, we take the first section from Wikipedia\n",
        "document = \"\"\"\n",
        "Suara.com - Moda transportasi Kereta Api Bandara International Soekarno - Hatta di Cengkareng akan dioperasikan mulai awal Desember mendatang. Hari ini kami kembali melakukan uji coba KA Bandara dari Stasiun Sudirman Baru sampai dengan Stasiun Bandara Soekarno - Hatta. Rencana operasional tanggal 1 - 3 Desember 2017 dengan 82 perjalanan setiap harinya dan' headway' setiap 30 menit kata Menteri Perhubungan Budi Karya Sumadi dalam keterangan tertulis yang diterima di Bandung Kamis (24 / 11 / 2017). Sedangkan untuk tarifnya sendiri dibanderol Rp 100 ribu. Namun khusus awal operasi Desember cuma Rp 30 rubu setelah diskon 70 persen. Hal ini dilakukan sebagai upaya sosialisasi penggunaan transportasi publik yang baru kepada masyarakat katanya. Menteri Perhubungan dalam uji coba ini didampingi oleh Zulfikri selaku Dirjen Perkeretaapian Zamrides Direktur Prasarana DJKA Budi Noviantoro selaku Direktur Logistik dan Pengembangan PT KAI Heru Kuswanto selaku Direktur Utama PT Railink Porwanto Handry Nugroho selaku Direktur Operasi dan Teknik PT Railink dan Hendi Helmy selaku Ka Daop 1 Jakarta. Uji coba operasi KA Bandara Soetta pada kesempatan kali ini lebih bertujuan untuk mencoba pertama kali track baru dari Stasiun Batuceper sampai Stasiun Bandara Soekarno Hatta sepanjang 123 KM sebagai bagian dari persiapan ` soft launching' operasi KA Bandara Soetta yang Insya Allah akan dilakukan antara 1 - 3 Desember 2017 sesuai arahan Pak Menhub kata Direktur Utama PT Railink Heru Kuswanto. Direktur Operasi dan Teknik PT Railink Porwanto Handry Nugroho mengatakan akan siapkan 10 rangkaian KRL (EMU / electrical multiple unit) untuk KA Bandara Soekarno - Hatta dan KRL telah siap operasi di mana setiap rangkaian memiliki enam kereta dengan keseluruhan jumlah tempat duduk 272 per rangkaan. Kereta Api Bandara bisa mengangkut 33.728 penumpang tiap hari nya dengan fasilitas premium mulai dari tempat duduk yang nyaman full AC wifi sampai dengan fasilitas toilet. Sedangkan waktu tempuhnya pun relatif cepat hanya 50 menit dengan rute Stasiun Manggarai - Stasiun Bandara Soekarno Hatta katanya. Dengan pengoperasian KA Bandara Soetta ini nanti diharapkan bisa menambah pilihan bagi masyarakat dalam mengakses bandara terbesar di Indonesia itu. Jika selama ini hanya tersedia pilihan bertransportasi berbasis jalan raya maka sebentar lagi akan hadir layanan public transport berbasil jalan rel yang mengusung kenyamanan bagi pelanggan. Menteri Perhubungan mengapresiasi keberadaan proyek KA Bandara Soetta proyek ini didanai dari investasi PT Railink bersama kedua induk perusahaan (PT KAI dan PT Angkasa Pura II) tanpa menggunakan dana dari APBN. Diharapkan KA Bandara ini bisa menarik bagi masyarakat dan mampu mengalihkan sebagian pemerjalan ke Bandara yang semula menggunakan kendaraan jalan raya ke KA Bandara ini.\n",
        "\"\"\"\n",
        "\n",
        "#Split the document into sentences\n",
        "sentences = nltk.sent_tokenize(document)\n",
        "print(\"Num sentences:\", len(sentences))\n",
        "\n",
        "#Compute the sentence embeddings\n",
        "embeddings = model.encode(sentences, convert_to_tensor=True)\n",
        "\n",
        "#Compute the pair-wise cosine similarities\n",
        "cos_scores = util.pytorch_cos_sim(embeddings, embeddings).numpy()\n",
        "\n",
        "#Compute the centrality for each sentence\n",
        "centrality_scores = degree_centrality_scores(cos_scores, threshold=None)\n",
        "\n",
        "#We argsort so that the first element is the sentence with the highest score\n",
        "most_central_sentence_indices = np.argsort(-centrality_scores)\n",
        "\n",
        "\n",
        "#Print the 5 sentences with the highest scores\n",
        "print(\"\\n\\nSummary:\")\n",
        "for idx in most_central_sentence_indices[0:5]:\n",
        "    print(sentences[idx].strip())"
      ],
      "execution_count": null,
      "outputs": [
        {
          "output_type": "stream",
          "text": [
            "Num sentences: 15\n",
            "\n",
            "\n",
            "Summary:\n",
            "Direktur Operasi dan Teknik PT Railink Porwanto Handry Nugroho mengatakan akan siapkan 10 rangkaian KRL (EMU / electrical multiple unit) untuk KA Bandara Soekarno - Hatta dan KRL telah siap operasi di mana setiap rangkaian memiliki enam kereta dengan keseluruhan jumlah tempat duduk 272 per rangkaan.\n",
            "Dengan pengoperasian KA Bandara Soetta ini nanti diharapkan bisa menambah pilihan bagi masyarakat dalam mengakses bandara terbesar di Indonesia itu.\n",
            "Diharapkan KA Bandara ini bisa menarik bagi masyarakat dan mampu mengalihkan sebagian pemerjalan ke Bandara yang semula menggunakan kendaraan jalan raya ke KA Bandara ini.\n",
            "Menteri Perhubungan dalam uji coba ini didampingi oleh Zulfikri selaku Dirjen Perkeretaapian Zamrides Direktur Prasarana DJKA Budi Noviantoro selaku Direktur Logistik dan Pengembangan PT KAI Heru Kuswanto selaku Direktur Utama PT Railink Porwanto Handry Nugroho selaku Direktur Operasi dan Teknik PT Railink dan Hendi Helmy selaku Ka Daop 1 Jakarta.\n",
            "Suara.com - Moda transportasi Kereta Api Bandara International Soekarno - Hatta di Cengkareng akan dioperasikan mulai awal Desember mendatang.\n"
          ],
          "name": "stdout"
        }
      ]
    },
    {
      "cell_type": "code",
      "metadata": {
        "colab": {
          "base_uri": "https://localhost:8080/"
        },
        "id": "8EWdY_RoaKEJ",
        "outputId": "d62c89ec-d464-4bd6-d82d-dda81d3e7fb7"
      },
      "source": [
        "!git clone https://github.com/alexvlis/extractive-document-summarization.git"
      ],
      "execution_count": null,
      "outputs": [
        {
          "output_type": "stream",
          "text": [
            "Cloning into 'extractive-document-summarization'...\n",
            "remote: Enumerating objects: 7267, done.\u001b[K\n",
            "remote: Total 7267 (delta 0), reused 0 (delta 0), pack-reused 7267\u001b[K\n",
            "Receiving objects: 100% (7267/7267), 122.43 MiB | 30.19 MiB/s, done.\n",
            "Resolving deltas: 100% (1090/1090), done.\n",
            "Checking out files: 100% (3311/3311), done.\n"
          ],
          "name": "stdout"
        }
      ]
    },
    {
      "cell_type": "code",
      "metadata": {
        "colab": {
          "base_uri": "https://localhost:8080/"
        },
        "id": "BaADeWUraTxT",
        "outputId": "299b0255-2dbe-48d5-eafd-f99e1fd61327"
      },
      "source": [
        "!cd extractive-document-summarization/\n",
        "!conda create --name <env> --file requirements.txt\n",
        "!source activate <env> \n",
        "!pyrouge_set_rouge_path /global/pathto/extractive-document-summarization/preprocessing/pyrouge/tools/ROUGE-1.5.5/\n",
        "\n",
        "!source deactivate"
      ],
      "execution_count": null,
      "outputs": [
        {
          "output_type": "stream",
          "text": [
            "/bin/bash: env: No such file or directory\n",
            "/bin/bash: -c: line 0: syntax error near unexpected token `newline'\n",
            "/bin/bash: -c: line 0: `source activate <env> '\n",
            "/bin/bash: pyrouge_set_rouge_path: command not found\n",
            "/bin/bash: deactivate: No such file or directory\n"
          ],
          "name": "stdout"
        }
      ]
    },
    {
      "cell_type": "code",
      "metadata": {
        "id": "ZoBYkaZHbnkL",
        "colab": {
          "base_uri": "https://localhost:8080/"
        },
        "outputId": "e343cc9e-d9c0-46e1-cbc5-7ae3ff0a8bef"
      },
      "source": [
        "!python /content/extractive-document-summarization/train.py"
      ],
      "execution_count": null,
      "outputs": [
        {
          "output_type": "stream",
          "text": [
            "2021-05-10 08:39:55.279584: I tensorflow/stream_executor/platform/default/dso_loader.cc:49] Successfully opened dynamic library libcudart.so.11.0\n",
            "loading pickle files...\n",
            "Traceback (most recent call last):\n",
            "  File \"/content/extractive-document-summarization/train.py\", line 132, in <module>\n",
            "    main()\n",
            "  File \"/content/extractive-document-summarization/train.py\", line 107, in main\n",
            "    x_train, y_train = load_data()\n",
            "  File \"/content/extractive-document-summarization/train.py\", line 62, in load_data\n",
            "    data1 = pickle.load(open(\"/global/scratch/alex_vlissidis/wordEmbeddingsToSaliency1.pickle\", \"rb\"))\n",
            "FileNotFoundError: [Errno 2] No such file or directory: '/global/scratch/alex_vlissidis/wordEmbeddingsToSaliency1.pickle'\n"
          ],
          "name": "stdout"
        }
      ]
    }
  ]
}