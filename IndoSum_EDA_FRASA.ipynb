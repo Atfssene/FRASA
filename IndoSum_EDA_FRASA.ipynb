{
  "nbformat": 4,
  "nbformat_minor": 0,
  "metadata": {
    "colab": {
      "name": "IndoSum EDA - FRASA.ipynb",
      "provenance": [],
      "collapsed_sections": [],
      "toc_visible": true,
      "mount_file_id": "11ejzhbKrcRL4MYwWjOgZtlkotHLR2jbI",
      "authorship_tag": "ABX9TyMJ3ngbhbNh//StjqgGGwx0",
      "include_colab_link": true
    },
    "kernelspec": {
      "name": "python3",
      "display_name": "Python 3"
    },
    "language_info": {
      "name": "python"
    }
  },
  "cells": [
    {
      "cell_type": "markdown",
      "metadata": {
        "id": "view-in-github",
        "colab_type": "text"
      },
      "source": [
        "<a href=\"https://colab.research.google.com/github/Atfssene/FRASA/blob/main/IndoSum_EDA_FRASA.ipynb\" target=\"_parent\"><img src=\"https://colab.research.google.com/assets/colab-badge.svg\" alt=\"Open In Colab\"/></a>"
      ]
    },
    {
      "cell_type": "markdown",
      "metadata": {
        "id": "2fkXZcRPoCCG"
      },
      "source": [
        "# **IndoSum Dataset EDA**\n",
        "**Potato Tech** team build an app that named **Frasa** for capstone project. So we will build machine learning model for Frasa to predict a summary from a sentences.\n",
        "\n",
        "In this lab, we will do exploratory data analysis and preprocess the dataset.\n",
        "The dataset is consists of news articles and manually constructed summaries [IndoSum dataset](https://drive.google.com/file/d/1OgYbPfXFAv3TbwP1Qcwt_CC9cVWSJaco/view) from [Kurniawan, Kemal & Louvan, Samuel (2018)](https://arxiv.org/abs/1810.05334).\n",
        "\n",
        "Let's start!"
      ]
    },
    {
      "cell_type": "markdown",
      "metadata": {
        "id": "sOh-7h5k4r5_"
      },
      "source": [
        "## Preparation"
      ]
    },
    {
      "cell_type": "code",
      "metadata": {
        "colab": {
          "base_uri": "https://localhost:8080/"
        },
        "id": "IohLr_vI4ved",
        "outputId": "b97de039-6000-468e-9e1e-a3d4a0668c89"
      },
      "source": [
        "!pip install Sastrawi"
      ],
      "execution_count": 1,
      "outputs": [
        {
          "output_type": "stream",
          "text": [
            "Collecting Sastrawi\n",
            "\u001b[?25l  Downloading https://files.pythonhosted.org/packages/6f/4b/bab676953da3103003730b8fcdfadbdd20f333d4add10af949dd5c51e6ed/Sastrawi-1.0.1-py2.py3-none-any.whl (209kB)\n",
            "\r\u001b[K     |█▋                              | 10kB 15.8MB/s eta 0:00:01\r\u001b[K     |███▏                            | 20kB 21.9MB/s eta 0:00:01\r\u001b[K     |████▊                           | 30kB 20.2MB/s eta 0:00:01\r\u001b[K     |██████▎                         | 40kB 17.7MB/s eta 0:00:01\r\u001b[K     |███████▉                        | 51kB 9.3MB/s eta 0:00:01\r\u001b[K     |█████████▍                      | 61kB 7.8MB/s eta 0:00:01\r\u001b[K     |███████████                     | 71kB 8.7MB/s eta 0:00:01\r\u001b[K     |████████████▌                   | 81kB 9.6MB/s eta 0:00:01\r\u001b[K     |██████████████                  | 92kB 10.0MB/s eta 0:00:01\r\u001b[K     |███████████████▋                | 102kB 8.0MB/s eta 0:00:01\r\u001b[K     |█████████████████▏              | 112kB 8.0MB/s eta 0:00:01\r\u001b[K     |██████████████████▊             | 122kB 8.0MB/s eta 0:00:01\r\u001b[K     |████████████████████▎           | 133kB 8.0MB/s eta 0:00:01\r\u001b[K     |█████████████████████▉          | 143kB 8.0MB/s eta 0:00:01\r\u001b[K     |███████████████████████▍        | 153kB 8.0MB/s eta 0:00:01\r\u001b[K     |█████████████████████████       | 163kB 8.0MB/s eta 0:00:01\r\u001b[K     |██████████████████████████▋     | 174kB 8.0MB/s eta 0:00:01\r\u001b[K     |████████████████████████████▏   | 184kB 8.0MB/s eta 0:00:01\r\u001b[K     |█████████████████████████████▊  | 194kB 8.0MB/s eta 0:00:01\r\u001b[K     |███████████████████████████████▎| 204kB 8.0MB/s eta 0:00:01\r\u001b[K     |████████████████████████████████| 215kB 8.0MB/s \n",
            "\u001b[?25hInstalling collected packages: Sastrawi\n",
            "Successfully installed Sastrawi-1.0.1\n"
          ],
          "name": "stdout"
        }
      ]
    },
    {
      "cell_type": "code",
      "metadata": {
        "id": "ErTcYE0XrWzd",
        "colab": {
          "base_uri": "https://localhost:8080/"
        },
        "outputId": "81f8d27d-ff03-4d59-b193-a5bf0e67edf0"
      },
      "source": [
        "# Import library\n",
        "import pandas as pd\n",
        "import json\n",
        "import matplotlib.pyplot as plt\n",
        "import nltk\n",
        "import re\n",
        "\n",
        "nltk.download('punkt')\n",
        "\n",
        "from nltk.tokenize import sent_tokenize\n",
        "from Sastrawi.StopWordRemover.StopWordRemoverFactory import StopWordRemoverFactory\n",
        "from nltk.tokenize.treebank import TreebankWordDetokenizer as untoken\n"
      ],
      "execution_count": 2,
      "outputs": [
        {
          "output_type": "stream",
          "text": [
            "[nltk_data] Downloading package punkt to /root/nltk_data...\n",
            "[nltk_data]   Unzipping tokenizers/punkt.zip.\n"
          ],
          "name": "stdout"
        }
      ]
    },
    {
      "cell_type": "markdown",
      "metadata": {
        "id": "5Tjg6Eurssxh"
      },
      "source": [
        "## Load data"
      ]
    },
    {
      "cell_type": "code",
      "metadata": {
        "colab": {
          "base_uri": "https://localhost:8080/"
        },
        "id": "vhgBDlV8nxaE",
        "outputId": "a724eb96-e50b-4eea-fdcf-f58ecc5171fc"
      },
      "source": [
        "# Download and extract the dataset\n",
        "!gdown --id 1OgYbPfXFAv3TbwP1Qcwt_CC9cVWSJaco\n",
        "!tar -xvf /content/indosum.tar.gz"
      ],
      "execution_count": 3,
      "outputs": [
        {
          "output_type": "stream",
          "text": [
            "Downloading...\n",
            "From: https://drive.google.com/uc?id=1OgYbPfXFAv3TbwP1Qcwt_CC9cVWSJaco\n",
            "To: /content/indosum.tar.gz\n",
            "96.0MB [00:03, 30.1MB/s]\n",
            "indosum/\n",
            "indosum/test.02.jsonl\n",
            "indosum/README.txt\n",
            "indosum/train.05.jsonl\n",
            "indosum/train.04.jsonl\n",
            "indosum/test.04.jsonl\n",
            "indosum/train.01.jsonl\n",
            "indosum/test.05.jsonl\n",
            "indosum/test.03.jsonl\n",
            "indosum/test.01.jsonl\n",
            "indosum/dev.04.jsonl\n",
            "indosum/dev.01.jsonl\n",
            "indosum/dev.02.jsonl\n",
            "indosum/train.02.jsonl\n",
            "indosum/dev.03.jsonl\n",
            "indosum/dev.05.jsonl\n",
            "indosum/CHANGELOG.txt\n",
            "indosum/train.03.jsonl\n"
          ],
          "name": "stdout"
        }
      ]
    },
    {
      "cell_type": "code",
      "metadata": {
        "id": "XylN9V7BsG2M"
      },
      "source": [
        "# We will use the first-fold data (train, dev, test)\n",
        "files=['/content/indosum/train.01.jsonl',\n",
        "       '/content/indosum/dev.01.jsonl',\n",
        "       '/content/indosum/test.01.jsonl']\n",
        "\n",
        "with open(files[0], 'r') as f, open(files[1], 'r') as ft, open(files[2], 'r') as ftest:\n",
        "  data_train = f.readlines()\n",
        "  data_train = list(map(json.loads, data_train))\n",
        "  data_dev = ft.readlines()\n",
        "  data_dev = list(map(json.loads, data_dev))\n",
        "  df1 = pd.DataFrame(data_train)\n",
        "  df2 = pd.DataFrame(data_dev)\n",
        "\n",
        "  data_test = ftest.readlines()\n",
        "  data_test = list(map(json.loads, data_test))\n",
        "\n",
        "test = pd.DataFrame(data_test)\n",
        "train = pd.concat([df1, df2])\n"
      ],
      "execution_count": 4,
      "outputs": []
    },
    {
      "cell_type": "markdown",
      "metadata": {
        "id": "tvq19V2dxrEE"
      },
      "source": [
        "## Exploratoratory"
      ]
    },
    {
      "cell_type": "code",
      "metadata": {
        "colab": {
          "base_uri": "https://localhost:8080/"
        },
        "id": "nJXb3WyB2lRI",
        "outputId": "a399b888-cf39-4319-887a-481ec90a5e0c"
      },
      "source": [
        "print(train.info())\n",
        "print(test.info())"
      ],
      "execution_count": 5,
      "outputs": [
        {
          "output_type": "stream",
          "text": [
            "<class 'pandas.core.frame.DataFrame'>\n",
            "Int64Index: 15012 entries, 0 to 749\n",
            "Data columns (total 7 columns):\n",
            " #   Column       Non-Null Count  Dtype \n",
            "---  ------       --------------  ----- \n",
            " 0   category     15012 non-null  object\n",
            " 1   gold_labels  15012 non-null  object\n",
            " 2   id           15012 non-null  object\n",
            " 3   paragraphs   15012 non-null  object\n",
            " 4   source       15012 non-null  object\n",
            " 5   source_url   15012 non-null  object\n",
            " 6   summary      15012 non-null  object\n",
            "dtypes: object(7)\n",
            "memory usage: 938.2+ KB\n",
            "None\n",
            "<class 'pandas.core.frame.DataFrame'>\n",
            "RangeIndex: 3762 entries, 0 to 3761\n",
            "Data columns (total 7 columns):\n",
            " #   Column       Non-Null Count  Dtype \n",
            "---  ------       --------------  ----- \n",
            " 0   category     3762 non-null   object\n",
            " 1   gold_labels  3762 non-null   object\n",
            " 2   id           3762 non-null   object\n",
            " 3   paragraphs   3762 non-null   object\n",
            " 4   source       3762 non-null   object\n",
            " 5   source_url   3762 non-null   object\n",
            " 6   summary      3762 non-null   object\n",
            "dtypes: object(7)\n",
            "memory usage: 205.9+ KB\n",
            "None\n"
          ],
          "name": "stdout"
        }
      ]
    },
    {
      "cell_type": "markdown",
      "metadata": {
        "id": "IW2n9hqxtFLC"
      },
      "source": [
        "Now we know the dataset consist of 7 columns and probably we will just take some of the column that related to this summarization work.\n",
        "\n",
        "To make we sure what columns should we choose, let's take a look at some rows."
      ]
    },
    {
      "cell_type": "code",
      "metadata": {
        "colab": {
          "base_uri": "https://localhost:8080/",
          "height": 0
        },
        "id": "0TwsdFQlsgK-",
        "outputId": "a1a15c04-8529-4d12-c7df-3298409cd15c"
      },
      "source": [
        "train.head()"
      ],
      "execution_count": 6,
      "outputs": [
        {
          "output_type": "execute_result",
          "data": {
            "text/html": [
              "<div>\n",
              "<style scoped>\n",
              "    .dataframe tbody tr th:only-of-type {\n",
              "        vertical-align: middle;\n",
              "    }\n",
              "\n",
              "    .dataframe tbody tr th {\n",
              "        vertical-align: top;\n",
              "    }\n",
              "\n",
              "    .dataframe thead th {\n",
              "        text-align: right;\n",
              "    }\n",
              "</style>\n",
              "<table border=\"1\" class=\"dataframe\">\n",
              "  <thead>\n",
              "    <tr style=\"text-align: right;\">\n",
              "      <th></th>\n",
              "      <th>category</th>\n",
              "      <th>gold_labels</th>\n",
              "      <th>id</th>\n",
              "      <th>paragraphs</th>\n",
              "      <th>source</th>\n",
              "      <th>source_url</th>\n",
              "      <th>summary</th>\n",
              "    </tr>\n",
              "  </thead>\n",
              "  <tbody>\n",
              "    <tr>\n",
              "      <th>0</th>\n",
              "      <td>tajuk utama</td>\n",
              "      <td>[[False, True], [True, True], [False, False, F...</td>\n",
              "      <td>1501893029-lula-kamal-dokter-ryan-thamrin-saki...</td>\n",
              "      <td>[[[Jakarta, ,, CNN, Indonesia, -, -, Dokter, R...</td>\n",
              "      <td>cnn indonesia</td>\n",
              "      <td>https://www.cnnindonesia.com/hiburan/201708041...</td>\n",
              "      <td>[[Dokter, Lula, Kamal, yang, merupakan, selebr...</td>\n",
              "    </tr>\n",
              "    <tr>\n",
              "      <th>1</th>\n",
              "      <td>teknologi</td>\n",
              "      <td>[[False, False, False, False], [False, True, T...</td>\n",
              "      <td>1509072914-dua-smartphone-zenfone-baru-tawarka...</td>\n",
              "      <td>[[[Selfie, ialah, salah, satu, tema, terpanas,...</td>\n",
              "      <td>dailysocial.id</td>\n",
              "      <td>https://dailysocial.id/post/dua-smartphone-zen...</td>\n",
              "      <td>[[Asus, memperkenalkan,  , ZenFone, generasi, ...</td>\n",
              "    </tr>\n",
              "    <tr>\n",
              "      <th>2</th>\n",
              "      <td>hiburan</td>\n",
              "      <td>[[True], [True], [False, False], [False], [Fal...</td>\n",
              "      <td>1510613677-songsong-visit-2020-bengkulu-perkua...</td>\n",
              "      <td>[[[Jakarta, ,, CNN, Indonesia, -, -, Dinas, Pa...</td>\n",
              "      <td>cnn indonesia</td>\n",
              "      <td>https://www.cnnindonesia.com/gaya-hidup/201711...</td>\n",
              "      <td>[[Dinas, Pariwisata, Provinsi, Bengkulu, kemba...</td>\n",
              "    </tr>\n",
              "    <tr>\n",
              "      <th>3</th>\n",
              "      <td>tajuk utama</td>\n",
              "      <td>[[True, True], [False, False, False], [True], ...</td>\n",
              "      <td>1502706803-icw-ada-kejanggalan-atas-tewasnya-s...</td>\n",
              "      <td>[[[Merdeka.com, -, Indonesia, Corruption, Watc...</td>\n",
              "      <td>merdeka</td>\n",
              "      <td>https://www.merdeka.com/peristiwa/icw-merasa-a...</td>\n",
              "      <td>[[Indonesia, Corruption, Watch, (, ICW, ), mem...</td>\n",
              "    </tr>\n",
              "    <tr>\n",
              "      <th>4</th>\n",
              "      <td>tajuk utama</td>\n",
              "      <td>[[False, True], [True, True, True], [False], [...</td>\n",
              "      <td>1503039338-pembagian-sepeda-usai-upacara-penur...</td>\n",
              "      <td>[[[Merdeka.com, -, Presiden, Joko, Widodo, (, ...</td>\n",
              "      <td>merdeka</td>\n",
              "      <td>https://www.merdeka.com/peristiwa/usai-upacara...</td>\n",
              "      <td>[[Jokowi, memimpin, upacara, penurunan, bender...</td>\n",
              "    </tr>\n",
              "  </tbody>\n",
              "</table>\n",
              "</div>"
            ],
            "text/plain": [
              "      category  ...                                            summary\n",
              "0  tajuk utama  ...  [[Dokter, Lula, Kamal, yang, merupakan, selebr...\n",
              "1    teknologi  ...  [[Asus, memperkenalkan,  , ZenFone, generasi, ...\n",
              "2      hiburan  ...  [[Dinas, Pariwisata, Provinsi, Bengkulu, kemba...\n",
              "3  tajuk utama  ...  [[Indonesia, Corruption, Watch, (, ICW, ), mem...\n",
              "4  tajuk utama  ...  [[Jokowi, memimpin, upacara, penurunan, bender...\n",
              "\n",
              "[5 rows x 7 columns]"
            ]
          },
          "metadata": {
            "tags": []
          },
          "execution_count": 6
        }
      ]
    },
    {
      "cell_type": "markdown",
      "metadata": {
        "id": "yk4LR5qnuJRy"
      },
      "source": [
        "From here, we can see our raw data have:\n",
        "\n",
        "1. Tokenized text in paragraphs and summary.\n",
        "2. Punctuation wasn't cleaned.\n",
        "3. Lowercase and uppercase letters.\n",
        "3. Column gold_labels is a boolean list of main idea sentences in paragraphs (for extractive summarization)\n",
        "4. This dataset had 7 columns and 15012 rows.\n",
        "\n",
        "For next, the columns will be used are **gold_labels, paragraphs**, and **summary**.\n"
      ]
    },
    {
      "cell_type": "markdown",
      "metadata": {
        "id": "tZCX26ZoHFBa"
      },
      "source": [
        "## Preprocessing #1"
      ]
    },
    {
      "cell_type": "markdown",
      "metadata": {
        "id": "Mz14lL5Me1iu"
      },
      "source": [
        "We will flatten that three columns as instead tokenized string/listed because our predict input later could be raw string."
      ]
    },
    {
      "cell_type": "code",
      "metadata": {
        "id": "Fg1ARmKIDuVk"
      },
      "source": [
        "def untokenizer(dataframe_row, axis):\n",
        "  text_list = []\n",
        "  for data in dataframe_row:\n",
        "    string = \"\"\n",
        "    if axis == 0:\n",
        "      for t in data:\n",
        "        for text in t:\n",
        "          string = string + untoken().detokenize(text) + \" \"\n",
        "    elif axis == 1:\n",
        "      for text in data:\n",
        "          string = string + untoken().detokenize(text) + \" \"\n",
        "    else:\n",
        "      string =  [y for x in data for y in x]\n",
        "\n",
        "    text_list.append(string)\n",
        "  return text_list"
      ],
      "execution_count": 7,
      "outputs": []
    },
    {
      "cell_type": "code",
      "metadata": {
        "id": "QJXWxIJvEGJ5"
      },
      "source": [
        "train['clean_paragraphs'] = untokenizer(train['paragraphs'], 0)\n",
        "train['clean_summary'] = untokenizer(train['summary'], 1)\n",
        "train['labels'] = untokenizer(train['gold_labels'], 2)\n",
        "\n",
        "test['clean_paragraphs'] = untokenizer(test['paragraphs'], 0)\n",
        "test['clean_summary'] = untokenizer(test['summary'], 1)\n",
        "test['labels'] = untokenizer(test['gold_labels'], 2)"
      ],
      "execution_count": 8,
      "outputs": []
    },
    {
      "cell_type": "code",
      "metadata": {
        "colab": {
          "base_uri": "https://localhost:8080/"
        },
        "id": "e4bZTTYkFgBL",
        "outputId": "3abc12ae-d6b0-46dd-ef7e-1eba2e90dcd1"
      },
      "source": [
        "pd.set_option('display.max_columns', None)\n",
        "pd.set_option(\"display.max_colwidth\", None)\n",
        "\n",
        "train.info()\n",
        "test.info()"
      ],
      "execution_count": 9,
      "outputs": [
        {
          "output_type": "stream",
          "text": [
            "<class 'pandas.core.frame.DataFrame'>\n",
            "Int64Index: 15012 entries, 0 to 749\n",
            "Data columns (total 10 columns):\n",
            " #   Column            Non-Null Count  Dtype \n",
            "---  ------            --------------  ----- \n",
            " 0   category          15012 non-null  object\n",
            " 1   gold_labels       15012 non-null  object\n",
            " 2   id                15012 non-null  object\n",
            " 3   paragraphs        15012 non-null  object\n",
            " 4   source            15012 non-null  object\n",
            " 5   source_url        15012 non-null  object\n",
            " 6   summary           15012 non-null  object\n",
            " 7   clean_paragraphs  15012 non-null  object\n",
            " 8   clean_summary     15012 non-null  object\n",
            " 9   labels            15012 non-null  object\n",
            "dtypes: object(10)\n",
            "memory usage: 1.3+ MB\n",
            "<class 'pandas.core.frame.DataFrame'>\n",
            "RangeIndex: 3762 entries, 0 to 3761\n",
            "Data columns (total 10 columns):\n",
            " #   Column            Non-Null Count  Dtype \n",
            "---  ------            --------------  ----- \n",
            " 0   category          3762 non-null   object\n",
            " 1   gold_labels       3762 non-null   object\n",
            " 2   id                3762 non-null   object\n",
            " 3   paragraphs        3762 non-null   object\n",
            " 4   source            3762 non-null   object\n",
            " 5   source_url        3762 non-null   object\n",
            " 6   summary           3762 non-null   object\n",
            " 7   clean_paragraphs  3762 non-null   object\n",
            " 8   clean_summary     3762 non-null   object\n",
            " 9   labels            3762 non-null   object\n",
            "dtypes: object(10)\n",
            "memory usage: 294.0+ KB\n"
          ],
          "name": "stdout"
        }
      ]
    },
    {
      "cell_type": "code",
      "metadata": {
        "colab": {
          "base_uri": "https://localhost:8080/",
          "height": 1000
        },
        "id": "RPlt1jkHeWGj",
        "outputId": "d2880be6-97ab-4c82-d109-72e3ea04ce2c"
      },
      "source": [
        "columns = ['labels','clean_paragraphs', 'clean_summary']\n",
        "train[columns].head(2)"
      ],
      "execution_count": 10,
      "outputs": [
        {
          "output_type": "execute_result",
          "data": {
            "text/html": [
              "<div>\n",
              "<style scoped>\n",
              "    .dataframe tbody tr th:only-of-type {\n",
              "        vertical-align: middle;\n",
              "    }\n",
              "\n",
              "    .dataframe tbody tr th {\n",
              "        vertical-align: top;\n",
              "    }\n",
              "\n",
              "    .dataframe thead th {\n",
              "        text-align: right;\n",
              "    }\n",
              "</style>\n",
              "<table border=\"1\" class=\"dataframe\">\n",
              "  <thead>\n",
              "    <tr style=\"text-align: right;\">\n",
              "      <th></th>\n",
              "      <th>labels</th>\n",
              "      <th>clean_paragraphs</th>\n",
              "      <th>clean_summary</th>\n",
              "    </tr>\n",
              "  </thead>\n",
              "  <tbody>\n",
              "    <tr>\n",
              "      <th>0</th>\n",
              "      <td>[False, True, True, True, False, False, False, False, False, False, False, False, False, False, False, False, False, False]</td>\n",
              "      <td>Jakarta, CNN Indonesia - - Dokter Ryan Thamrin, yang terkenal lewat acara Dokter Oz Indonesia, meninggal dunia pada Jumat (4 / 8) dini hari. Dokter Lula Kamal yang merupakan selebriti sekaligus rekan kerja Ryan menyebut kawannya itu sudah sakit sejak setahun yang lalu. Lula menuturkan, sakit itu membuat Ryan mesti vakum dari semua kegiatannya, termasuk menjadi pembawa acara Dokter Oz Indonesia. Kondisi itu membuat Ryan harus kembali ke kampung halamannya di Pekanbaru, Riau untuk menjalani istirahat. \" Setahu saya dia orangnya sehat, tapi tahun lalu saya dengar dia sakit. ( Karena) sakitnya, ia langsung pulang ke Pekanbaru, jadi kami yang mau jenguk juga susah. Barangkali mau istirahat, ya betul juga, kalau di Jakarta susah isirahatnya, \" kata Lula kepada CNNIndonesia.com, Jumat (4 / 8). Lula yang mengenal Ryan sejak sebelum aktif berkarier di televisi mengaku belum sempat membesuk Ryan lantaran lokasi yang jauh. Dia juga tak tahu penyakit apa yang diderita Ryan. \" Itu saya enggak tahu, belum sempat jenguk dan enggak selamanya bisa dijenguk juga. Enggak tahu berat sekali apa bagaimana, \" tutur Ryan. Walau sudah setahun menderita sakit, Lula tak mengetahui apa penyebab pasti kematian Dr Oz Indonesia itu. Meski demikian, ia mendengar beberapa kabar yang menyebut bahwa penyebab Ryan meninggal adalah karena jatuh di kamar mandi. “ Saya tidak tahu, barangkali penyakit yang dulu sama yang sekarang berbeda, atau penyebab kematiannya beda dari penyakit sebelumnya. Kita kan enggak bisa mengambil kesimpulan, \" kata Lula. Ryan Thamrin terkenal sebagai dokter yang rutin membagikan tips dan informasi kesehatan lewat tayangan Dokter Oz Indonesia. Ryan menempuh Pendidikan Dokter pada tahun 2002 di Fakultas Kedokteran Universitas Gadjah Mada. Dia kemudian melanjutkan pendidikan Klinis Kesehatan Reproduksi dan Penyakit Menular Seksual di Mahachulalongkornrajavidyalaya University, Bangkok, Thailand pada 2004.</td>\n",
              "      <td>Dokter Lula Kamal yang merupakan selebriti sekaligus rekan kerja Ryan Thamrin menyebut kawannya itu sudah sakit sejak setahun yang lalu. Lula menuturkan, sakit itu membuat Ryan mesti vakum dari semua kegiatannya, termasuk menjadi pembawa acara Dokter Oz Indonesia. Kondisi itu membuat Ryan harus kembali ke kampung halamannya di Pekanbaru, Riau untuk menjalani istirahat.</td>\n",
              "    </tr>\n",
              "    <tr>\n",
              "      <th>1</th>\n",
              "      <td>[False, False, False, False, False, True, True, False, False, True, False, False, False, False, False, False, False, False, False, False, False, False, False, False, False, False, False, False, False, False, False, False, False, False, False, False, False, False, False, False]</td>\n",
              "      <td>Selfie ialah salah satu tema terpanas di kalangan produsen smartphone, bahkan menjadi senjata andalan beberapa brand terkenal. Anda mungkin berpikir bahwa saat ini, pasar handset spesialis selfie sudah sangat sesak. Tapi Asus masih melihat adanya peluang besar menanti di sana. Dari data mereka, sebanyak 71 persen orang Indonesia setidaknya mengambil selfie atau wefie setiap minggu. Setelah mulai menyelami ranah swafoto dua tahun silam lewat ZanFone Selfie, sang produsen hardware asal Taiwan itu akhirnya membawa sepasang pewarisnya ke tanah air. Handset - handset ini merupakan anggota keluarga ZenFone generasi keempat dan keduanya sama-sama dibekali setup kamera ganda di depan. Mereka adalah Asus ZenFone 4 Selfie Pro ZD552KL dan ZenFone 4 Selfie ZD553KL. CEO Asus Jerry Shen menjelaskan bahwa sudah waktunya bagi Asus untuk memberikan penawaran baru buat penggemar self - portrait demi menunjukkan keseriusan mereka di segmen itu. Walaupun   telah tersedia banyak pilihan,   Asus berpendapat bahwa konsumen di Indonesia membutuhkan solusi yang ‘ lebih profesional’. Dua ZenFone Selfie anyar ini kabarnya diracik sedemikian rupa sebagai jawaban atas kekurangan yang ada di perangkat - perangkat kompetitor, khususnya pada aspek jangkauan lensa dan performa di kondisi low-light. ZenFone 4 Selfie Pro   merupakan produk swafoto pamungkas Asus. Tubuh berbahan aluminiumnya dibuat melalui teknik nano molding dan tiap lekukannya dibentuk secara presisi. Dipadu layar berlapis Corning Gorilla Glass 5 2.5D, saya akui penampilan handset ini sangat menawan, terutama   untuk varian berwarna merahnya. Sebagai jendela akses konten, smartphone    menghidangkan layar AMOLED 1080p berkepadatan 401 ppi seluas 5,5 - inci. Atraksi utama dari ZenFone 4 Selfie Pro tentu saja adalah kamera depannya. Di sana, Asus mencantumkan sistem DuoPixel 24Mp, berisi kombinasi sepasang sensor Sony Exmor RS IMX362 1,4 µm 12 - megapixel dengan aperture f/1.8, ditambah sensor Omnivision 5670 1,12 µm f/2.2 yang memiliki lensa wide-angle 120 derajat, sehingga kamera bisa merangkul objek dua kali lebih banyak – memungkinkan Anda ber-selfie bersama kawan ataupun keluarga tanpa bantuan monopod. Selain itu, Asus melengkapi ZenFone 4 Selfie Pro dengan bundel perkakas khusus swafoto bernama SelfieMaster. Tool ini berisi fitur-fitur krusial semisal beautify (buat foto maupun video), serta kolase dan BeautyLive. Produsen juga tak lupa menyiapkan flash LED softlight   untuk membantu pengambilan foto di kondisi temaram. Kamera belakangnya sendiri mengandalkan sensor Sony Exmor IMX351 1 µm 16 - megapixel berlensa 26 mm f/2.2. Ia dibantu sistem electronic image stabilization, phase detection autofocus, serta LED dual - tone flash. Di dalam, Asus mempersenjatai ZD552KL dengan chip Qualcomm Snapdragon 625 (ada prosesor octa-core Cortex - A53 2 GHz dan GPU Adreno 506), RAM sebesar 4 GB, ROM 64 GB, dan baterai 3.000 mAh. Smartphone berjalan di sistem operasi Android 7.1.1 Nougat plus interface ZenUI 4.0. ZD553KL ialah alternatif lebih terjangkau dari saudarinya di atas. Handset mengusung arahan desain serupa ZenFone 4 Selfie Pro, namun konstruksi tubuhnya terbuat dari plastik, dan layar IPS 5,5 - incinya menyajikan resolusi 720p. Tapi jangan cemas soal penampilannya, smartphone tetap memanfaatkan kaca 2.5D sehingga memberi kesan menyambung pada lekukan di sisi samping. Kapabilitas swafoto ZenFone 4 Selfie bersandar pada sensor Omnivision 20880 1 µm 20 - megapixel f/2.0 dan sensor Omnivision 8856 1,12 µm f/2.4 dengan lensa wide-angle 120 derajat. Sudut jangkauan jepretan dan sejumlah kelengkapannya tak berbeda dari Selfie 4 Pro. Anda kembali dihindangkan SelfieMaster, flash LED softlight, mode panorama, serta HDR. Ukuran megapixel kamera belakangnya setara ZenFone 4 Selfie Pro, namun jenis sensornya berbeda. Smartphone tersebut menggunakan Omnivision 16880 1 µm 16Mp dengan aperture lensa f/2.2. Meski demikian, fitur-fitur penunjang fotografi seperti PDAF, EIS, dan flash LED juga tetap ada di sana. ZenFone 4 Selfie diotaki system-on-chip Qualcomm Snapdragon 430, berisi CPU octa-core Cortex - A53 1,4 GHz dan GPU Adreno 505. Handset menyimpan RAM 4 GB, memori internal 64 GB, lalu tenaganya dipasok oleh baterai 3.000 mAh non - removable di dalam. Satu keunikan yang membuat ZD553KL lebih ‘ unggul’ dari ZenFone 4 Selfie Pro adalah dukungan tiga slot kartu: dua untuk SIM, dan satu lagi buat microSD (storage dapat diekspansi   sampai   2 TB). Smartphone juga beroperasi di platform Android 7.1.1 Nougat dengan ZenUI 4.0. ZenFone 4 Selfie Pro ZD552KL dibanderol seharga Rp 5 juta, sedangkan ZenFone 4 Selfie ZD553KL dipatok di harga Rp 3,5 juta. Kedua perangkat sudah mulai dipasarkan mulai tanggal 25 November, dan sampai   tanggal 10 November nanti, paket penjualan turut dibundel bersama ‘ Gong Yoo Special Gift Box’ serta speaker Bluetooth khusus ZenFone 4 Selfie Pro – selama persediaan masih ada. DailySocial.id adalah portal berita startup dan inovasi teknologi. Kamu bisa menjadi member komunitas startup dan inovasi DailySocial.id, mengunduh laporan riset dan statistik seputar teknologi secara cuma-cuma, dan mengikuti berita startup Indonesia dan gadget terbaru.</td>\n",
              "      <td>Asus memperkenalkan   ZenFone generasi keempat dan keduanya sama-sama dibekali setup kamera ganda di depan. Mereka adalah Asus ZenFone 4 Selfie Pro ZD552KL dan ZenFone 4 Selfie ZD553KL. Dua ZenFone Selfie anyar ini kabarnya diracik sedemikian rupa sebagai jawaban atas kekurangan yang ada di perangkat - perangkat kompetitor, khususnya pada aspek jangkauan lensa dan performa di kondisi low-light.</td>\n",
              "    </tr>\n",
              "  </tbody>\n",
              "</table>\n",
              "</div>"
            ],
            "text/plain": [
              "                                                                                                                                                                                                                                                                                  labels  \\\n",
              "0                                                                                                                                                            [False, True, True, True, False, False, False, False, False, False, False, False, False, False, False, False, False, False]   \n",
              "1  [False, False, False, False, False, True, True, False, False, True, False, False, False, False, False, False, False, False, False, False, False, False, False, False, False, False, False, False, False, False, False, False, False, False, False, False, False, False, False, False]   \n",
              "\n",
              "                                                                                                                                                                                                                                                                                                                                                                                                                                                                                                                                                                                                                                                                                                                                                                                                                                                                                                                                                                                                                                                                                                                                                                                                                                                                                                                                                                                                                                                                                                                                                                                                                                                                                                                                                                                                                                                                                                                                                                                                                                                                                                                                                                                                                                                                                                                                                                                                                                                                                                                                                                                                                                                                                                                                                                                                                                                                                                                                                                                                                                                                                                                                                                                                                                                                                                                                                                                                                                                                                                                                                                                                                                                                                                                                                                                                                                                                                                                                                                                                                                                                                                                                                                                                                                                                                                                                                                                                                                                                                                                                                                                                                                                                                                                                                                                                                                                                                                                                                                                                                                                                                                                                                                                                                                                                                                                                                                             clean_paragraphs  \\\n",
              "0                                                                                                                                                                                                                                                                                                                                                                                                                                                                                                                                                                                                                                                                                                                                                                                                                                                                                                                                                                                                                                                                                                                                                                                                                                                                                                                                                                                                                                                                                                                                                                                                                                                                                                                                                                                                                                                                                                                                                                                                                                                                                                                                                                                                                                                                                                                                                                                                                                                                                                                                                                                                                                                                                                                                                                                                                                                                                                                                                                                                                                                                                                                                                                                                                                                                                                                                                                                        Jakarta, CNN Indonesia - - Dokter Ryan Thamrin, yang terkenal lewat acara Dokter Oz Indonesia, meninggal dunia pada Jumat (4 / 8) dini hari. Dokter Lula Kamal yang merupakan selebriti sekaligus rekan kerja Ryan menyebut kawannya itu sudah sakit sejak setahun yang lalu. Lula menuturkan, sakit itu membuat Ryan mesti vakum dari semua kegiatannya, termasuk menjadi pembawa acara Dokter Oz Indonesia. Kondisi itu membuat Ryan harus kembali ke kampung halamannya di Pekanbaru, Riau untuk menjalani istirahat. \" Setahu saya dia orangnya sehat, tapi tahun lalu saya dengar dia sakit. ( Karena) sakitnya, ia langsung pulang ke Pekanbaru, jadi kami yang mau jenguk juga susah. Barangkali mau istirahat, ya betul juga, kalau di Jakarta susah isirahatnya, \" kata Lula kepada CNNIndonesia.com, Jumat (4 / 8). Lula yang mengenal Ryan sejak sebelum aktif berkarier di televisi mengaku belum sempat membesuk Ryan lantaran lokasi yang jauh. Dia juga tak tahu penyakit apa yang diderita Ryan. \" Itu saya enggak tahu, belum sempat jenguk dan enggak selamanya bisa dijenguk juga. Enggak tahu berat sekali apa bagaimana, \" tutur Ryan. Walau sudah setahun menderita sakit, Lula tak mengetahui apa penyebab pasti kematian Dr Oz Indonesia itu. Meski demikian, ia mendengar beberapa kabar yang menyebut bahwa penyebab Ryan meninggal adalah karena jatuh di kamar mandi. “ Saya tidak tahu, barangkali penyakit yang dulu sama yang sekarang berbeda, atau penyebab kematiannya beda dari penyakit sebelumnya. Kita kan enggak bisa mengambil kesimpulan, \" kata Lula. Ryan Thamrin terkenal sebagai dokter yang rutin membagikan tips dan informasi kesehatan lewat tayangan Dokter Oz Indonesia. Ryan menempuh Pendidikan Dokter pada tahun 2002 di Fakultas Kedokteran Universitas Gadjah Mada. Dia kemudian melanjutkan pendidikan Klinis Kesehatan Reproduksi dan Penyakit Menular Seksual di Mahachulalongkornrajavidyalaya University, Bangkok, Thailand pada 2004.    \n",
              "1  Selfie ialah salah satu tema terpanas di kalangan produsen smartphone, bahkan menjadi senjata andalan beberapa brand terkenal. Anda mungkin berpikir bahwa saat ini, pasar handset spesialis selfie sudah sangat sesak. Tapi Asus masih melihat adanya peluang besar menanti di sana. Dari data mereka, sebanyak 71 persen orang Indonesia setidaknya mengambil selfie atau wefie setiap minggu. Setelah mulai menyelami ranah swafoto dua tahun silam lewat ZanFone Selfie, sang produsen hardware asal Taiwan itu akhirnya membawa sepasang pewarisnya ke tanah air. Handset - handset ini merupakan anggota keluarga ZenFone generasi keempat dan keduanya sama-sama dibekali setup kamera ganda di depan. Mereka adalah Asus ZenFone 4 Selfie Pro ZD552KL dan ZenFone 4 Selfie ZD553KL. CEO Asus Jerry Shen menjelaskan bahwa sudah waktunya bagi Asus untuk memberikan penawaran baru buat penggemar self - portrait demi menunjukkan keseriusan mereka di segmen itu. Walaupun   telah tersedia banyak pilihan,   Asus berpendapat bahwa konsumen di Indonesia membutuhkan solusi yang ‘ lebih profesional’. Dua ZenFone Selfie anyar ini kabarnya diracik sedemikian rupa sebagai jawaban atas kekurangan yang ada di perangkat - perangkat kompetitor, khususnya pada aspek jangkauan lensa dan performa di kondisi low-light. ZenFone 4 Selfie Pro   merupakan produk swafoto pamungkas Asus. Tubuh berbahan aluminiumnya dibuat melalui teknik nano molding dan tiap lekukannya dibentuk secara presisi. Dipadu layar berlapis Corning Gorilla Glass 5 2.5D, saya akui penampilan handset ini sangat menawan, terutama   untuk varian berwarna merahnya. Sebagai jendela akses konten, smartphone    menghidangkan layar AMOLED 1080p berkepadatan 401 ppi seluas 5,5 - inci. Atraksi utama dari ZenFone 4 Selfie Pro tentu saja adalah kamera depannya. Di sana, Asus mencantumkan sistem DuoPixel 24Mp, berisi kombinasi sepasang sensor Sony Exmor RS IMX362 1,4 µm 12 - megapixel dengan aperture f/1.8, ditambah sensor Omnivision 5670 1,12 µm f/2.2 yang memiliki lensa wide-angle 120 derajat, sehingga kamera bisa merangkul objek dua kali lebih banyak – memungkinkan Anda ber-selfie bersama kawan ataupun keluarga tanpa bantuan monopod. Selain itu, Asus melengkapi ZenFone 4 Selfie Pro dengan bundel perkakas khusus swafoto bernama SelfieMaster. Tool ini berisi fitur-fitur krusial semisal beautify (buat foto maupun video), serta kolase dan BeautyLive. Produsen juga tak lupa menyiapkan flash LED softlight   untuk membantu pengambilan foto di kondisi temaram. Kamera belakangnya sendiri mengandalkan sensor Sony Exmor IMX351 1 µm 16 - megapixel berlensa 26 mm f/2.2. Ia dibantu sistem electronic image stabilization, phase detection autofocus, serta LED dual - tone flash. Di dalam, Asus mempersenjatai ZD552KL dengan chip Qualcomm Snapdragon 625 (ada prosesor octa-core Cortex - A53 2 GHz dan GPU Adreno 506), RAM sebesar 4 GB, ROM 64 GB, dan baterai 3.000 mAh. Smartphone berjalan di sistem operasi Android 7.1.1 Nougat plus interface ZenUI 4.0. ZD553KL ialah alternatif lebih terjangkau dari saudarinya di atas. Handset mengusung arahan desain serupa ZenFone 4 Selfie Pro, namun konstruksi tubuhnya terbuat dari plastik, dan layar IPS 5,5 - incinya menyajikan resolusi 720p. Tapi jangan cemas soal penampilannya, smartphone tetap memanfaatkan kaca 2.5D sehingga memberi kesan menyambung pada lekukan di sisi samping. Kapabilitas swafoto ZenFone 4 Selfie bersandar pada sensor Omnivision 20880 1 µm 20 - megapixel f/2.0 dan sensor Omnivision 8856 1,12 µm f/2.4 dengan lensa wide-angle 120 derajat. Sudut jangkauan jepretan dan sejumlah kelengkapannya tak berbeda dari Selfie 4 Pro. Anda kembali dihindangkan SelfieMaster, flash LED softlight, mode panorama, serta HDR. Ukuran megapixel kamera belakangnya setara ZenFone 4 Selfie Pro, namun jenis sensornya berbeda. Smartphone tersebut menggunakan Omnivision 16880 1 µm 16Mp dengan aperture lensa f/2.2. Meski demikian, fitur-fitur penunjang fotografi seperti PDAF, EIS, dan flash LED juga tetap ada di sana. ZenFone 4 Selfie diotaki system-on-chip Qualcomm Snapdragon 430, berisi CPU octa-core Cortex - A53 1,4 GHz dan GPU Adreno 505. Handset menyimpan RAM 4 GB, memori internal 64 GB, lalu tenaganya dipasok oleh baterai 3.000 mAh non - removable di dalam. Satu keunikan yang membuat ZD553KL lebih ‘ unggul’ dari ZenFone 4 Selfie Pro adalah dukungan tiga slot kartu: dua untuk SIM, dan satu lagi buat microSD (storage dapat diekspansi   sampai   2 TB). Smartphone juga beroperasi di platform Android 7.1.1 Nougat dengan ZenUI 4.0. ZenFone 4 Selfie Pro ZD552KL dibanderol seharga Rp 5 juta, sedangkan ZenFone 4 Selfie ZD553KL dipatok di harga Rp 3,5 juta. Kedua perangkat sudah mulai dipasarkan mulai tanggal 25 November, dan sampai   tanggal 10 November nanti, paket penjualan turut dibundel bersama ‘ Gong Yoo Special Gift Box’ serta speaker Bluetooth khusus ZenFone 4 Selfie Pro – selama persediaan masih ada. DailySocial.id adalah portal berita startup dan inovasi teknologi. Kamu bisa menjadi member komunitas startup dan inovasi DailySocial.id, mengunduh laporan riset dan statistik seputar teknologi secara cuma-cuma, dan mengikuti berita startup Indonesia dan gadget terbaru.    \n",
              "\n",
              "                                                                                                                                                                                                                                                                                                                                                                                                    clean_summary  \n",
              "0                            Dokter Lula Kamal yang merupakan selebriti sekaligus rekan kerja Ryan Thamrin menyebut kawannya itu sudah sakit sejak setahun yang lalu. Lula menuturkan, sakit itu membuat Ryan mesti vakum dari semua kegiatannya, termasuk menjadi pembawa acara Dokter Oz Indonesia. Kondisi itu membuat Ryan harus kembali ke kampung halamannya di Pekanbaru, Riau untuk menjalani istirahat.   \n",
              "1  Asus memperkenalkan   ZenFone generasi keempat dan keduanya sama-sama dibekali setup kamera ganda di depan. Mereka adalah Asus ZenFone 4 Selfie Pro ZD552KL dan ZenFone 4 Selfie ZD553KL. Dua ZenFone Selfie anyar ini kabarnya diracik sedemikian rupa sebagai jawaban atas kekurangan yang ada di perangkat - perangkat kompetitor, khususnya pada aspek jangkauan lensa dan performa di kondisi low-light.   "
            ]
          },
          "metadata": {
            "tags": []
          },
          "execution_count": 10
        }
      ]
    },
    {
      "cell_type": "markdown",
      "metadata": {
        "id": "1mJMevl20oin"
      },
      "source": [
        "That's better! Before continue to saving preprocessed data, let's check if it have empty value or duplicate value."
      ]
    },
    {
      "cell_type": "code",
      "metadata": {
        "colab": {
          "base_uri": "https://localhost:8080/"
        },
        "id": "iuOPsii1zqFZ",
        "outputId": "50bd7fbf-c85b-47d5-fd34-79ea94b60e08"
      },
      "source": [
        "train.isnull().any()\n"
      ],
      "execution_count": 11,
      "outputs": [
        {
          "output_type": "execute_result",
          "data": {
            "text/plain": [
              "category            False\n",
              "gold_labels         False\n",
              "id                  False\n",
              "paragraphs          False\n",
              "source              False\n",
              "source_url          False\n",
              "summary             False\n",
              "clean_paragraphs    False\n",
              "clean_summary       False\n",
              "labels              False\n",
              "dtype: bool"
            ]
          },
          "metadata": {
            "tags": []
          },
          "execution_count": 11
        }
      ]
    },
    {
      "cell_type": "code",
      "metadata": {
        "colab": {
          "base_uri": "https://localhost:8080/"
        },
        "id": "bjEG7KUfcxAk",
        "outputId": "bc3a1c0f-8be3-401a-869f-5e72121759db"
      },
      "source": [
        "test.isnull().any()"
      ],
      "execution_count": 12,
      "outputs": [
        {
          "output_type": "execute_result",
          "data": {
            "text/plain": [
              "category            False\n",
              "gold_labels         False\n",
              "id                  False\n",
              "paragraphs          False\n",
              "source              False\n",
              "source_url          False\n",
              "summary             False\n",
              "clean_paragraphs    False\n",
              "clean_summary       False\n",
              "labels              False\n",
              "dtype: bool"
            ]
          },
          "metadata": {
            "tags": []
          },
          "execution_count": 12
        }
      ]
    },
    {
      "cell_type": "code",
      "metadata": {
        "colab": {
          "base_uri": "https://localhost:8080/",
          "height": 49
        },
        "id": "jn-QIOsuCDyR",
        "outputId": "573198f1-d8f9-43b4-8b56-ceaa8c0c6b2c"
      },
      "source": [
        "train[train['clean_paragraphs'].duplicated()]"
      ],
      "execution_count": 13,
      "outputs": [
        {
          "output_type": "execute_result",
          "data": {
            "text/html": [
              "<div>\n",
              "<style scoped>\n",
              "    .dataframe tbody tr th:only-of-type {\n",
              "        vertical-align: middle;\n",
              "    }\n",
              "\n",
              "    .dataframe tbody tr th {\n",
              "        vertical-align: top;\n",
              "    }\n",
              "\n",
              "    .dataframe thead th {\n",
              "        text-align: right;\n",
              "    }\n",
              "</style>\n",
              "<table border=\"1\" class=\"dataframe\">\n",
              "  <thead>\n",
              "    <tr style=\"text-align: right;\">\n",
              "      <th></th>\n",
              "      <th>category</th>\n",
              "      <th>gold_labels</th>\n",
              "      <th>id</th>\n",
              "      <th>paragraphs</th>\n",
              "      <th>source</th>\n",
              "      <th>source_url</th>\n",
              "      <th>summary</th>\n",
              "      <th>clean_paragraphs</th>\n",
              "      <th>clean_summary</th>\n",
              "      <th>labels</th>\n",
              "    </tr>\n",
              "  </thead>\n",
              "  <tbody>\n",
              "  </tbody>\n",
              "</table>\n",
              "</div>"
            ],
            "text/plain": [
              "Empty DataFrame\n",
              "Columns: [category, gold_labels, id, paragraphs, source, source_url, summary, clean_paragraphs, clean_summary, labels]\n",
              "Index: []"
            ]
          },
          "metadata": {
            "tags": []
          },
          "execution_count": 13
        }
      ]
    },
    {
      "cell_type": "code",
      "metadata": {
        "colab": {
          "base_uri": "https://localhost:8080/",
          "height": 0
        },
        "id": "7X1i_K1cco2C",
        "outputId": "38a53df6-6df1-440f-936b-c7dda6f141f1"
      },
      "source": [
        "test[test['clean_paragraphs'].duplicated()]"
      ],
      "execution_count": 14,
      "outputs": [
        {
          "output_type": "execute_result",
          "data": {
            "text/html": [
              "<div>\n",
              "<style scoped>\n",
              "    .dataframe tbody tr th:only-of-type {\n",
              "        vertical-align: middle;\n",
              "    }\n",
              "\n",
              "    .dataframe tbody tr th {\n",
              "        vertical-align: top;\n",
              "    }\n",
              "\n",
              "    .dataframe thead th {\n",
              "        text-align: right;\n",
              "    }\n",
              "</style>\n",
              "<table border=\"1\" class=\"dataframe\">\n",
              "  <thead>\n",
              "    <tr style=\"text-align: right;\">\n",
              "      <th></th>\n",
              "      <th>category</th>\n",
              "      <th>gold_labels</th>\n",
              "      <th>id</th>\n",
              "      <th>paragraphs</th>\n",
              "      <th>source</th>\n",
              "      <th>source_url</th>\n",
              "      <th>summary</th>\n",
              "      <th>clean_paragraphs</th>\n",
              "      <th>clean_summary</th>\n",
              "      <th>labels</th>\n",
              "    </tr>\n",
              "  </thead>\n",
              "  <tbody>\n",
              "  </tbody>\n",
              "</table>\n",
              "</div>"
            ],
            "text/plain": [
              "Empty DataFrame\n",
              "Columns: [category, gold_labels, id, paragraphs, source, source_url, summary, clean_paragraphs, clean_summary, labels]\n",
              "Index: []"
            ]
          },
          "metadata": {
            "tags": []
          },
          "execution_count": 14
        }
      ]
    },
    {
      "cell_type": "markdown",
      "metadata": {
        "id": "snA4fJLH0utb"
      },
      "source": [
        "Great!\n",
        "\n",
        "No empty value and no duplicate value from **15012 rows** train data and **3762 rows** test data.\n",
        "Let's explore again our data and create preprocessing."
      ]
    },
    {
      "cell_type": "markdown",
      "metadata": {
        "id": "SGr7CfKmAwO3"
      },
      "source": [
        "### Sentences & Words"
      ]
    },
    {
      "cell_type": "code",
      "metadata": {
        "colab": {
          "base_uri": "https://localhost:8080/",
          "height": 281
        },
        "id": "wuIp5vD4AZTL",
        "outputId": "aa127c94-6fb4-47f0-8a87-54d8e0bb60a8"
      },
      "source": [
        "paragraphs_sentences = []\n",
        "summary_sentences = []\n",
        "\n",
        "# populate the lists with sentence lengths\n",
        "for t in train['clean_paragraphs']:\n",
        "      paragraphs_sentences.append(len(sent_tokenize(t)))\n",
        "\n",
        "# populate the lists with sentence lengths\n",
        "for t in train['clean_summary']:\n",
        "      summary_sentences.append(len(sent_tokenize(t)))\n",
        "\n",
        "sentences_hist = pd.DataFrame({'Paragraphs':paragraphs_sentences, 'Summary':summary_sentences})\n",
        "\n",
        "sentences_hist.hist()\n",
        "plt.show()"
      ],
      "execution_count": 15,
      "outputs": [
        {
          "output_type": "display_data",
          "data": {
            "image/png": "[encoded data removed]",
            "text/plain": [
              "<Figure size 432x288 with 2 Axes>"
            ]
          },
          "metadata": {
            "tags": [],
            "needs_background": "light"
          }
        }
      ]
    },
    {
      "cell_type": "code",
      "metadata": {
        "colab": {
          "base_uri": "https://localhost:8080/",
          "height": 281
        },
        "id": "flWSez25E1VR",
        "outputId": "b2664a29-da20-4456-8cb2-d18e54633844"
      },
      "source": [
        "paragraphs_words = []\n",
        "summary_words = []\n",
        "\n",
        "# populate the lists with sentence lengths\n",
        "for t in train['clean_paragraphs']:\n",
        "      paragraphs_words.append(len(t.split()))\n",
        "\n",
        "# populate the lists with sentence lengths\n",
        "for t in train['clean_summary']:\n",
        "      summary_words.append(len(t.split()))\n",
        "\n",
        "words_hist = pd.DataFrame({'Paragraphs':paragraphs_words, 'Summary':summary_words})\n",
        "\n",
        "words_hist.hist(bins=30)\n",
        "plt.show()"
      ],
      "execution_count": 16,
      "outputs": [
        {
          "output_type": "display_data",
          "data": {
            "image/png": "[encoded data removed]",
            "text/plain": [
              "<Figure size 432x288 with 2 Axes>"
            ]
          },
          "metadata": {
            "tags": [],
            "needs_background": "light"
          }
        }
      ]
    },
    {
      "cell_type": "markdown",
      "metadata": {
        "id": "BnFoaYxRKny-"
      },
      "source": [
        "So the number of sentences in the paragraph is around 15-20 sentences while the summary mostly have less than 5 sentences.\n",
        "\n",
        "For words, paragraphs have about 250 words and summaries have 60 words."
      ]
    },
    {
      "cell_type": "markdown",
      "metadata": {
        "id": "7emUrQTNKOzd"
      },
      "source": [
        "## Preprocessing #2\n",
        "\n",
        "Before saving the dataset, we will create one more column from clean_paragraphs. We'll call it preprocess_text and processing it again for later feature extraction with rules:\n",
        "1. Splits paragraphs into sentences.\n",
        "2. Lowercasing letter.\n",
        "3. Remove punctuation.\n",
        "4. Remove stopword.\n",
        "5. Remove non alphanumerical letter.\n",
        "6. Join sentences to one paragraph again"
      ]
    },
    {
      "cell_type": "code",
      "metadata": {
        "id": "jFOYhez7LISq"
      },
      "source": [
        "factory = StopWordRemoverFactory()\n",
        "stop_words = factory.get_stop_words()\n",
        "\n",
        "def preprocess_text(row):\n",
        "  sentences = []\n",
        "  processed = \"\"\n",
        "  for row in sent_tokenize(row['clean_paragraphs']):\n",
        "    sentences.append(sent_tokenize(row.lower()))\n",
        "  sentences = [y for x in sentences for y in x]\n",
        "  for i, text in enumerate(sentences):\n",
        "    text = re.sub(r\"[^a-zA-Z]\", \" \", text)\n",
        "    text = re.sub(r\"\\b\\w{1,3}\\b\",\" \",text)\n",
        "    text = \" \".join([word for word in text.split() if not word in stop_words])\n",
        "    processed = processed + text +\". \"\n",
        "  return processed"
      ],
      "execution_count": 65,
      "outputs": []
    },
    {
      "cell_type": "code",
      "metadata": {
        "id": "whdRwJzpLZs1"
      },
      "source": [
        "train['preprocess_text'] = train.apply(lambda row: preprocess_text(row), axis=1)"
      ],
      "execution_count": 66,
      "outputs": []
    },
    {
      "cell_type": "code",
      "metadata": {
        "colab": {
          "base_uri": "https://localhost:8080/",
          "height": 757
        },
        "id": "kWlJsvgBL4C9",
        "outputId": "b86dd541-4d58-4e03-f550-4e95c50e2f41"
      },
      "source": [
        "train[['preprocess_text']].head(2)"
      ],
      "execution_count": 67,
      "outputs": [
        {
          "output_type": "execute_result",
          "data": {
            "text/html": [
              "<div>\n",
              "<style scoped>\n",
              "    .dataframe tbody tr th:only-of-type {\n",
              "        vertical-align: middle;\n",
              "    }\n",
              "\n",
              "    .dataframe tbody tr th {\n",
              "        vertical-align: top;\n",
              "    }\n",
              "\n",
              "    .dataframe thead th {\n",
              "        text-align: right;\n",
              "    }\n",
              "</style>\n",
              "<table border=\"1\" class=\"dataframe\">\n",
              "  <thead>\n",
              "    <tr style=\"text-align: right;\">\n",
              "      <th></th>\n",
              "      <th>preprocess_text</th>\n",
              "    </tr>\n",
              "  </thead>\n",
              "  <tbody>\n",
              "    <tr>\n",
              "      <th>0</th>\n",
              "      <td>jakarta indonesia dokter ryan thamrin terkenal lewat acara dokter indonesia meninggal dunia jumat dini hari. dokter lula kamal merupakan selebriti sekaligus rekan kerja ryan menyebut kawannya sakit sejak setahun lalu. lula menuturkan sakit membuat ryan mesti vakum semua kegiatannya termasuk menjadi pembawa acara dokter indonesia. kondisi membuat ryan kampung halamannya pekanbaru riau menjalani istirahat. setahu orangnya sehat tahun lalu dengar sakit. sakitnya langsung pulang pekanbaru jadi jenguk susah. barangkali istirahat betul kalau jakarta susah isirahatnya kata lula cnnindonesia jumat. lula mengenal ryan sejak aktif berkarier televisi mengaku sempat membesuk ryan lantaran lokasi jauh. tahu penyakit diderita ryan. enggak tahu sempat jenguk enggak selamanya dijenguk. enggak tahu berat sekali bagaimana tutur ryan. setahun menderita sakit lula mengetahui penyebab kematian indonesia. meski mendengar beberapa kabar menyebut penyebab ryan meninggal jatuh kamar mandi. tahu barangkali penyakit dulu sama sekarang berbeda penyebab kematiannya beda penyakit sebelumnya. enggak mengambil kesimpulan kata lula. ryan thamrin terkenal dokter rutin membagikan tips informasi kesehatan lewat tayangan dokter indonesia. ryan menempuh pendidikan dokter tahun fakultas kedokteran universitas gadjah mada. kemudian melanjutkan pendidikan klinis kesehatan reproduksi penyakit menular seksual mahachulalongkornrajavidyalaya university bangkok thailand.</td>\n",
              "    </tr>\n",
              "    <tr>\n",
              "      <th>1</th>\n",
              "      <td>selfie ialah salah satu tema terpanas kalangan produsen smartphone bahkan menjadi senjata andalan beberapa brand terkenal. mungkin berpikir pasar handset spesialis selfie sangat sesak. asus melihat adanya peluang besar menanti sana. data sebanyak persen orang indonesia mengambil selfie wefie minggu. mulai menyelami ranah swafoto tahun silam lewat zanfone selfie sang produsen hardware asal taiwan akhirnya membawa sepasang pewarisnya tanah. handset handset merupakan anggota keluarga zenfone generasi keempat keduanya sama sama dibekali setup kamera ganda depan. asus zenfone selfie zenfone selfie. asus jerry shen menjelaskan waktunya asus memberikan penawaran baru buat penggemar self portrait menunjukkan keseriusan segmen. walaupun tersedia banyak pilihan asus berpendapat konsumen indonesia membutuhkan solusi lebih profesional. zenfone selfie anyar kabarnya diracik sedemikian rupa jawaban atas kekurangan perangkat perangkat kompetitor khususnya aspek jangkauan lensa performa kondisi light. zenfone selfie merupakan produk swafoto pamungkas asus. tubuh berbahan aluminiumnya dibuat melalui teknik nano molding tiap lekukannya dibentuk presisi. dipadu layar berlapis corning gorilla glass akui penampilan handset sangat menawan terutama varian berwarna merahnya. jendela akses konten smartphone menghidangkan layar amoled berkepadatan seluas inci. atraksi utama zenfone selfie kamera depannya. sana asus mencantumkan sistem duopixel berisi kombinasi sepasang sensor sony exmor megapixel aperture ditambah sensor omnivision memiliki lensa wide angle derajat kamera merangkul objek kali lebih banyak memungkinkan selfie bersama kawan ataupun keluarga bantuan monopod. asus melengkapi zenfone selfie bundel perkakas khusus swafoto bernama selfiemaster. tool berisi fitur fitur krusial semisal beautify buat foto maupun video kolase beautylive. produsen lupa menyiapkan flash softlight membantu pengambilan foto kondisi temaram. kamera belakangnya sendiri mengandalkan sensor sony exmor megapixel berlensa. dibantu sistem electronic image stabilization phase detection autofocus dual tone flash. asus mempersenjatai chip qualcomm snapdragon prosesor octa core cortex adreno sebesar baterai. smartphone berjalan sistem operasi android nougat plus interface zenui. ialah alternatif lebih terjangkau saudarinya atas. handset mengusung arahan desain serupa zenfone selfie konstruksi tubuhnya terbuat plastik layar incinya menyajikan resolusi. jangan cemas soal penampilannya smartphone tetap memanfaatkan kaca memberi kesan menyambung lekukan sisi samping. kapabilitas swafoto zenfone selfie bersandar sensor omnivision megapixel sensor omnivision lensa wide angle derajat. sudut jangkauan jepretan sejumlah kelengkapannya berbeda selfie. dihindangkan selfiemaster flash softlight mode panorama. ukuran megapixel kamera belakangnya setara zenfone selfie jenis sensornya berbeda. smartphone tersebut menggunakan omnivision aperture lensa. meski fitur fitur penunjang fotografi pdaf flash tetap sana. zenfone selfie diotaki system chip qualcomm snapdragon berisi octa core cortex adreno. handset menyimpan memori internal lalu tenaganya dipasok baterai removable. satu keunikan membuat lebih unggul zenfone selfie dukungan tiga slot kartu satu buat microsd storage diekspansi. smartphone beroperasi platform android nougat zenui. zenfone selfie dibanderol seharga juta zenfone selfie dipatok harga juta. kedua perangkat mulai dipasarkan mulai tanggal november tanggal november paket penjualan turut dibundel bersama gong special gift speaker bluetooth khusus zenfone selfie selama persediaan. dailysocial portal berita startup inovasi teknologi. kamu menjadi member komunitas startup inovasi dailysocial mengunduh laporan riset statistik seputar teknologi cuma cuma mengikuti berita startup indonesia gadget terbaru.</td>\n",
              "    </tr>\n",
              "  </tbody>\n",
              "</table>\n",
              "</div>"
            ],
            "text/plain": [
              "                                                                                                                                                                                                                                                                                                                                                                                                                                                                                                                                                                                                                                                                                                                                                                                                                                                                                                                                                                                                                                                                                                                                                                                                                                                                                                                                                                                                                                                                                                                                                                                                                                                                                                                                                                                                                                                                                                                                                                                                                                                                                                                                                                                                                                                                                                                                                                                                                                                                                                                                                                                                                                                                                                                                                                                                                                                                                                                                                                                                                                                                                                                                                                                                                                                                                                                                                                                                                                                                                                                                                                                                                                                                                                                                                                                                                                                                                                                                                            preprocess_text\n",
              "0                                                                                                                                                                                                                                                                                                                                                                                                                                                                                                                                                                                                                                                                                                                                                                                                                                                                                                                                                                                                                                                                                                                                                                                                                                                                                                                                                                                                                                                                                                                                                                                                                                                                                                                                                                                                                                                                                                                                                                                                                                                                                                                                                                                                                                                                                                                                                                                                                                                                jakarta indonesia dokter ryan thamrin terkenal lewat acara dokter indonesia meninggal dunia jumat dini hari. dokter lula kamal merupakan selebriti sekaligus rekan kerja ryan menyebut kawannya sakit sejak setahun lalu. lula menuturkan sakit membuat ryan mesti vakum semua kegiatannya termasuk menjadi pembawa acara dokter indonesia. kondisi membuat ryan kampung halamannya pekanbaru riau menjalani istirahat. setahu orangnya sehat tahun lalu dengar sakit. sakitnya langsung pulang pekanbaru jadi jenguk susah. barangkali istirahat betul kalau jakarta susah isirahatnya kata lula cnnindonesia jumat. lula mengenal ryan sejak aktif berkarier televisi mengaku sempat membesuk ryan lantaran lokasi jauh. tahu penyakit diderita ryan. enggak tahu sempat jenguk enggak selamanya dijenguk. enggak tahu berat sekali bagaimana tutur ryan. setahun menderita sakit lula mengetahui penyebab kematian indonesia. meski mendengar beberapa kabar menyebut penyebab ryan meninggal jatuh kamar mandi. tahu barangkali penyakit dulu sama sekarang berbeda penyebab kematiannya beda penyakit sebelumnya. enggak mengambil kesimpulan kata lula. ryan thamrin terkenal dokter rutin membagikan tips informasi kesehatan lewat tayangan dokter indonesia. ryan menempuh pendidikan dokter tahun fakultas kedokteran universitas gadjah mada. kemudian melanjutkan pendidikan klinis kesehatan reproduksi penyakit menular seksual mahachulalongkornrajavidyalaya university bangkok thailand. \n",
              "1  selfie ialah salah satu tema terpanas kalangan produsen smartphone bahkan menjadi senjata andalan beberapa brand terkenal. mungkin berpikir pasar handset spesialis selfie sangat sesak. asus melihat adanya peluang besar menanti sana. data sebanyak persen orang indonesia mengambil selfie wefie minggu. mulai menyelami ranah swafoto tahun silam lewat zanfone selfie sang produsen hardware asal taiwan akhirnya membawa sepasang pewarisnya tanah. handset handset merupakan anggota keluarga zenfone generasi keempat keduanya sama sama dibekali setup kamera ganda depan. asus zenfone selfie zenfone selfie. asus jerry shen menjelaskan waktunya asus memberikan penawaran baru buat penggemar self portrait menunjukkan keseriusan segmen. walaupun tersedia banyak pilihan asus berpendapat konsumen indonesia membutuhkan solusi lebih profesional. zenfone selfie anyar kabarnya diracik sedemikian rupa jawaban atas kekurangan perangkat perangkat kompetitor khususnya aspek jangkauan lensa performa kondisi light. zenfone selfie merupakan produk swafoto pamungkas asus. tubuh berbahan aluminiumnya dibuat melalui teknik nano molding tiap lekukannya dibentuk presisi. dipadu layar berlapis corning gorilla glass akui penampilan handset sangat menawan terutama varian berwarna merahnya. jendela akses konten smartphone menghidangkan layar amoled berkepadatan seluas inci. atraksi utama zenfone selfie kamera depannya. sana asus mencantumkan sistem duopixel berisi kombinasi sepasang sensor sony exmor megapixel aperture ditambah sensor omnivision memiliki lensa wide angle derajat kamera merangkul objek kali lebih banyak memungkinkan selfie bersama kawan ataupun keluarga bantuan monopod. asus melengkapi zenfone selfie bundel perkakas khusus swafoto bernama selfiemaster. tool berisi fitur fitur krusial semisal beautify buat foto maupun video kolase beautylive. produsen lupa menyiapkan flash softlight membantu pengambilan foto kondisi temaram. kamera belakangnya sendiri mengandalkan sensor sony exmor megapixel berlensa. dibantu sistem electronic image stabilization phase detection autofocus dual tone flash. asus mempersenjatai chip qualcomm snapdragon prosesor octa core cortex adreno sebesar baterai. smartphone berjalan sistem operasi android nougat plus interface zenui. ialah alternatif lebih terjangkau saudarinya atas. handset mengusung arahan desain serupa zenfone selfie konstruksi tubuhnya terbuat plastik layar incinya menyajikan resolusi. jangan cemas soal penampilannya smartphone tetap memanfaatkan kaca memberi kesan menyambung lekukan sisi samping. kapabilitas swafoto zenfone selfie bersandar sensor omnivision megapixel sensor omnivision lensa wide angle derajat. sudut jangkauan jepretan sejumlah kelengkapannya berbeda selfie. dihindangkan selfiemaster flash softlight mode panorama. ukuran megapixel kamera belakangnya setara zenfone selfie jenis sensornya berbeda. smartphone tersebut menggunakan omnivision aperture lensa. meski fitur fitur penunjang fotografi pdaf flash tetap sana. zenfone selfie diotaki system chip qualcomm snapdragon berisi octa core cortex adreno. handset menyimpan memori internal lalu tenaganya dipasok baterai removable. satu keunikan membuat lebih unggul zenfone selfie dukungan tiga slot kartu satu buat microsd storage diekspansi. smartphone beroperasi platform android nougat zenui. zenfone selfie dibanderol seharga juta zenfone selfie dipatok harga juta. kedua perangkat mulai dipasarkan mulai tanggal november tanggal november paket penjualan turut dibundel bersama gong special gift speaker bluetooth khusus zenfone selfie selama persediaan. dailysocial portal berita startup inovasi teknologi. kamu menjadi member komunitas startup inovasi dailysocial mengunduh laporan riset statistik seputar teknologi cuma cuma mengikuti berita startup indonesia gadget terbaru. "
            ]
          },
          "metadata": {
            "tags": []
          },
          "execution_count": 67
        }
      ]
    },
    {
      "cell_type": "markdown",
      "metadata": {
        "id": "fxwnYD8xFFpI"
      },
      "source": [
        "## Save Dataset to CSV"
      ]
    },
    {
      "cell_type": "code",
      "metadata": {
        "colab": {
          "base_uri": "https://localhost:8080/"
        },
        "id": "kr8-Gg4aFQ3A",
        "outputId": "36f90687-fee5-49a9-eaa8-d0f25dead7d2"
      },
      "source": [
        "test.info()"
      ],
      "execution_count": 68,
      "outputs": [
        {
          "output_type": "stream",
          "text": [
            "<class 'pandas.core.frame.DataFrame'>\n",
            "RangeIndex: 3762 entries, 0 to 3761\n",
            "Data columns (total 10 columns):\n",
            " #   Column            Non-Null Count  Dtype \n",
            "---  ------            --------------  ----- \n",
            " 0   category          3762 non-null   object\n",
            " 1   gold_labels       3762 non-null   object\n",
            " 2   id                3762 non-null   object\n",
            " 3   paragraphs        3762 non-null   object\n",
            " 4   source            3762 non-null   object\n",
            " 5   source_url        3762 non-null   object\n",
            " 6   summary           3762 non-null   object\n",
            " 7   clean_paragraphs  3762 non-null   object\n",
            " 8   clean_summary     3762 non-null   object\n",
            " 9   labels            3762 non-null   object\n",
            "dtypes: object(10)\n",
            "memory usage: 294.0+ KB\n"
          ],
          "name": "stdout"
        }
      ]
    },
    {
      "cell_type": "code",
      "metadata": {
        "id": "6lJjZ3k5fUtL"
      },
      "source": [
        "columns = ['labels','clean_paragraphs', 'clean_summary', 'preprocess_text']\n",
        "header = ['labels','paragraphs', 'summary', 'clean_text']\n",
        "train.to_csv('train.csv',\n",
        "             columns=columns,\n",
        "             header=header,\n",
        "             index=False)\n",
        "test.to_csv('test.csv',\n",
        "            columns=columns[:3],\n",
        "            header=header[:3],\n",
        "            index=False)"
      ],
      "execution_count": 69,
      "outputs": []
    },
    {
      "cell_type": "code",
      "metadata": {
        "colab": {
          "base_uri": "https://localhost:8080/",
          "height": 17
        },
        "id": "2XyvfSqtSM3_",
        "outputId": "8b196f4d-3bf3-4384-c0d7-d2e8a7d16bb5"
      },
      "source": [
        "from google.colab import files\n",
        "files.download('test.csv') \n",
        "files.download('train.csv') "
      ],
      "execution_count": 70,
      "outputs": [
        {
          "output_type": "display_data",
          "data": {
            "application/javascript": [
              "\n",
              "    async function download(id, filename, size) {\n",
              "      if (!google.colab.kernel.accessAllowed) {\n",
              "        return;\n",
              "      }\n",
              "      const div = document.createElement('div');\n",
              "      const label = document.createElement('label');\n",
              "      label.textContent = `Downloading \"${filename}\": `;\n",
              "      div.appendChild(label);\n",
              "      const progress = document.createElement('progress');\n",
              "      progress.max = size;\n",
              "      div.appendChild(progress);\n",
              "      document.body.appendChild(div);\n",
              "\n",
              "      const buffers = [];\n",
              "      let downloaded = 0;\n",
              "\n",
              "      const channel = await google.colab.kernel.comms.open(id);\n",
              "      // Send a message to notify the kernel that we're ready.\n",
              "      channel.send({})\n",
              "\n",
              "      for await (const message of channel.messages) {\n",
              "        // Send a message to notify the kernel that we're ready.\n",
              "        channel.send({})\n",
              "        if (message.buffers) {\n",
              "          for (const buffer of message.buffers) {\n",
              "            buffers.push(buffer);\n",
              "            downloaded += buffer.byteLength;\n",
              "            progress.value = downloaded;\n",
              "          }\n",
              "        }\n",
              "      }\n",
              "      const blob = new Blob(buffers, {type: 'application/binary'});\n",
              "      const a = document.createElement('a');\n",
              "      a.href = window.URL.createObjectURL(blob);\n",
              "      a.download = filename;\n",
              "      div.appendChild(a);\n",
              "      a.click();\n",
              "      div.remove();\n",
              "    }\n",
              "  "
            ],
            "text/plain": [
              "<IPython.core.display.Javascript object>"
            ]
          },
          "metadata": {
            "tags": []
          }
        },
        {
          "output_type": "display_data",
          "data": {
            "application/javascript": [
              "download(\"download_2da56cfa-375f-47d5-a41d-943736d73922\", \"test.csv\", 9872497)"
            ],
            "text/plain": [
              "<IPython.core.display.Javascript object>"
            ]
          },
          "metadata": {
            "tags": []
          }
        },
        {
          "output_type": "display_data",
          "data": {
            "application/javascript": [
              "\n",
              "    async function download(id, filename, size) {\n",
              "      if (!google.colab.kernel.accessAllowed) {\n",
              "        return;\n",
              "      }\n",
              "      const div = document.createElement('div');\n",
              "      const label = document.createElement('label');\n",
              "      label.textContent = `Downloading \"${filename}\": `;\n",
              "      div.appendChild(label);\n",
              "      const progress = document.createElement('progress');\n",
              "      progress.max = size;\n",
              "      div.appendChild(progress);\n",
              "      document.body.appendChild(div);\n",
              "\n",
              "      const buffers = [];\n",
              "      let downloaded = 0;\n",
              "\n",
              "      const channel = await google.colab.kernel.comms.open(id);\n",
              "      // Send a message to notify the kernel that we're ready.\n",
              "      channel.send({})\n",
              "\n",
              "      for await (const message of channel.messages) {\n",
              "        // Send a message to notify the kernel that we're ready.\n",
              "        channel.send({})\n",
              "        if (message.buffers) {\n",
              "          for (const buffer of message.buffers) {\n",
              "            buffers.push(buffer);\n",
              "            downloaded += buffer.byteLength;\n",
              "            progress.value = downloaded;\n",
              "          }\n",
              "        }\n",
              "      }\n",
              "      const blob = new Blob(buffers, {type: 'application/binary'});\n",
              "      const a = document.createElement('a');\n",
              "      a.href = window.URL.createObjectURL(blob);\n",
              "      a.download = filename;\n",
              "      div.appendChild(a);\n",
              "      a.click();\n",
              "      div.remove();\n",
              "    }\n",
              "  "
            ],
            "text/plain": [
              "<IPython.core.display.Javascript object>"
            ]
          },
          "metadata": {
            "tags": []
          }
        },
        {
          "output_type": "display_data",
          "data": {
            "application/javascript": [
              "download(\"download_b7eec985-987b-476d-9471-b89f33dcd079\", \"train.csv\", 63169138)"
            ],
            "text/plain": [
              "<IPython.core.display.Javascript object>"
            ]
          },
          "metadata": {
            "tags": []
          }
        }
      ]
    },
    {
      "cell_type": "markdown",
      "metadata": {
        "id": "n0HsFi1lmOp8"
      },
      "source": [
        "Let's import the exported csv to make sure we had export it nicely."
      ]
    },
    {
      "cell_type": "code",
      "metadata": {
        "colab": {
          "base_uri": "https://localhost:8080/",
          "height": 1000
        },
        "id": "mRAjN0Icn2FT",
        "outputId": "43314f1c-1850-403f-cba8-c6ec7340520d"
      },
      "source": [
        "df_train = pd.read_csv('/content/train.csv')\n",
        "df_test = pd.read_csv('/content/test.csv')\n",
        "df_train.info()\n",
        "df_train.sample(1)"
      ],
      "execution_count": 73,
      "outputs": [
        {
          "output_type": "stream",
          "text": [
            "<class 'pandas.core.frame.DataFrame'>\n",
            "RangeIndex: 15012 entries, 0 to 15011\n",
            "Data columns (total 4 columns):\n",
            " #   Column      Non-Null Count  Dtype \n",
            "---  ------      --------------  ----- \n",
            " 0   labels      15012 non-null  object\n",
            " 1   paragraphs  15012 non-null  object\n",
            " 2   summary     15012 non-null  object\n",
            " 3   clean_text  15012 non-null  object\n",
            "dtypes: object(4)\n",
            "memory usage: 469.2+ KB\n"
          ],
          "name": "stdout"
        },
        {
          "output_type": "execute_result",
          "data": {
            "text/html": [
              "<div>\n",
              "<style scoped>\n",
              "    .dataframe tbody tr th:only-of-type {\n",
              "        vertical-align: middle;\n",
              "    }\n",
              "\n",
              "    .dataframe tbody tr th {\n",
              "        vertical-align: top;\n",
              "    }\n",
              "\n",
              "    .dataframe thead th {\n",
              "        text-align: right;\n",
              "    }\n",
              "</style>\n",
              "<table border=\"1\" class=\"dataframe\">\n",
              "  <thead>\n",
              "    <tr style=\"text-align: right;\">\n",
              "      <th></th>\n",
              "      <th>labels</th>\n",
              "      <th>paragraphs</th>\n",
              "      <th>summary</th>\n",
              "      <th>clean_text</th>\n",
              "    </tr>\n",
              "  </thead>\n",
              "  <tbody>\n",
              "    <tr>\n",
              "      <th>11570</th>\n",
              "      <td>[True, True, True, False, False, False, False, False, False, False, False, False, False, False, False, False, False, False, False, False, False, False, False, False, False]</td>\n",
              "      <td>Jakarta, CNN Indonesia - - PT Adhi Karya (Persero) Tbk resmi menandatangani kontrak proyek pembangunan kereta api jenis Light Rapid Transit (LRT) Jakarta - Bogor - Depok - Bekasi (Jabodebek) sepanjang 43 kilometer dengan nilai proyek mencapai Rp 23,3 triliun termasuk Pajak Pertambahan Nilai (PPN) sebesar 10 persen. Direktur Utama Adhi Karya Budi Harto mengungkapkan, penandatangan kontrak proyek terbagi atas dua tahap. Untuk saat ini, perusahaan baru menandatangani kontrak tahap satu dan kontrak tahap dua akan disepakati dalam waktu satu hingga dua tahun ke depan. \" Untuk tahap satu, dengan lintas layanan; Cawang - Cibubur, Cawang - Bekasi Timur, dan Cawang - Dukuh Atas, \" ujar Budi usai penandatangan secara tertutup di Kementerian Perhubungan (Kemenhub), Jumat (10 / 2). Sementara untuk tahap dua, Adhi Karya akan merampungkan jalur lintasan; Cibubur - Bogor, Dukuh Atas - Palmerah - Senayan, dan Palmerah - Grogol. Secara keseluruhan, Budi memastikan, pembangunan LRT Jabodebek tahap satu dan dua, akan tetap rampung pada 31 Mei 2019 sesuai dengan Peraturan Presiden (Perpres) Nomor 98 Tahun 2015. Tidak Berubah Namun begitu, ada beberapa hal yang menarik dari penandatangan kontrak proyek LRT Jabodebek yang dilakukan Adhi Karya dengan Direktur Jenderal Perkeretaapian Kemenhub Prasetyo Boeditjahjono siang tadi. Pertama, tanda tangan kontrak belum memposisikan Adhi Karya sebagai investor melainkan masih seperti perencanaan awal sebagai kontraktor. \" Di perjanjian ini masih kontraktor, belum diubah. Nanti, tunggu arahan lebih lanjut dari pemerintah karena pengalaman kita kan sebagai kontraktor, \" kata Budi. Padahal, Menteri Koordinator Bidang Perekonomian Luhut Binsar Panjaitan telah terang-terangan meminta perusahaan konstruksi pelat merah itu untuk ambil bagian menjadi investor dan Adhi Karya juga telah menyatakan kesediaan dan komitmennya menjadi investor sekaligus kontraktor dalam proyek. Kedua, kontrak tersebut belum memasukan skema pembiayaan, baik mekanisme maupun tata cara pembayaran untuk memastikan kebutuhan pendanaan proyek LRT Jabodebek telah memilih sumber-sumber pendanaan. \" Ini baru akan ditentukan dalam beberapa hari ini. Dalam satu bulan akan ditentukan. Model pembayaran lagi digodok pemerintah, \" jelas Budi. Sebelumnya Direktur Keuangan Adhi Karya Harris Gunawan telah menjelaskan bahwa perusahaan telah memasang kuda-kuda untuk mendapatkan pembiayaan. Yakni, dari pengajuan Penanaman Modal Negara (PMN), perilisan obligasi, dan pinjaman perbankan dalam negeri, baik Badan Usaha Milik Negara (BUMN) maupun swasta. Ketiga, rekanan Adhi Karya dalam membangun LRT Jabodebek belum pula ditentukan. Padahal, dalam wacana awal, proyek LRT Jabodebek akan memasang duet Adhi Karya dan PT Kereta Api Indonesia (Persero) atau KAI. \" Nanti menunggu arahan lebih lanjut dari pemerintah. Jadi, ini masih dalam proses tender, tender pengadaan sinyal, pengadaan rel, \" imbuh Budi. Seperti diketahui, pendanaan Anggaran Pendapatan dan Belanja Negara (APBN) hanya mampu menopang pembangunan LRT Palembang dengan nilai Rp 12 triliun dengan panjang 24,5 kilometer. Sehingga, pemerintah bermaksud mencari sumber dana lain untuk menopang pembangunan LRT Jabodebek, yakni dengan menunjuk Adhi Karya sebagai investor sekaligus kontraktor. Sementara Menteri BUMN Rini Soemarno memberi sinyal akan menunjuk perusahaan BUMN lain untuk ikut menopang beban pendanaan LRT Jabodebek.</td>\n",
              "      <td>PT Adhi Karya (Persero) Tbk resmi menandatangani kontrak proyek pembangunan Light Rapid Transit (LRT) Jabodebek sepanjang 43 kilometer dengan nilai proyek mencapai Rp 23,3 triliun termasuk PPN sebesar 10 %. Dirut   Adhi Karya Budi Harto mengungkapkan, penandatangan kontrak proyek terbagi atas dua tahap. Perusahaan baru menandatangani kontrak tahap satu dan kontrak tahap dua akan disepakati dalam waktu satu hingga dua tahun ke depan.</td>\n",
              "      <td>jakarta indonesia adhi karya persero resmi menandatangani kontrak proyek pembangunan kereta jenis light rapid transit jakarta bogor depok bekasi jabodebek sepanjang kilometer nilai proyek mencapai triliun termasuk pajak pertambahan nilai sebesar persen. direktur utama adhi karya budi harto mengungkapkan penandatangan kontrak proyek terbagi atas tahap. perusahaan baru menandatangani kontrak tahap satu kontrak tahap disepakati waktu satu hingga tahun depan. tahap satu lintas layanan cawang cibubur cawang bekasi timur cawang dukuh atas ujar budi usai penandatangan tertutup kementerian perhubungan kemenhub jumat. tahap adhi karya merampungkan jalur lintasan cibubur bogor dukuh atas palmerah senayan palmerah grogol. keseluruhan budi memastikan pembangunan jabodebek tahap satu tetap rampung sesuai peraturan presiden perpres nomor tahun. berubah beberapa menarik penandatangan kontrak proyek jabodebek dilakukan adhi karya direktur jenderal perkeretaapian kemenhub prasetyo boeditjahjono siang tadi. pertama tanda tangan kontrak memposisikan adhi karya investor perencanaan awal kontraktor. perjanjian kontraktor diubah. tunggu arahan lebih lanjut pemerintah pengalaman kontraktor kata budi. padahal menteri koordinator bidang perekonomian luhut binsar panjaitan terang terangan meminta perusahaan konstruksi pelat merah ambil bagian menjadi investor adhi karya menyatakan kesediaan komitmennya menjadi investor sekaligus kontraktor proyek. kedua kontrak tersebut memasukan skema pembiayaan baik mekanisme maupun tata cara pembayaran memastikan kebutuhan pendanaan proyek jabodebek memilih sumber sumber pendanaan. baru ditentukan beberapa hari. satu bulan ditentukan. model pembayaran digodok pemerintah jelas budi. sebelumnya direktur keuangan adhi karya harris gunawan menjelaskan perusahaan memasang kuda kuda mendapatkan pembiayaan. pengajuan penanaman modal negara perilisan obligasi pinjaman perbankan negeri baik badan usaha milik negara bumn maupun swasta. ketiga rekanan adhi karya membangun jabodebek ditentukan. padahal wacana awal proyek jabodebek memasang duet adhi karya kereta indonesia persero. menunggu arahan lebih lanjut pemerintah. jadi proses tender tender pengadaan sinyal pengadaan imbuh budi. diketahui pendanaan anggaran pendapatan belanja negara apbn mampu menopang pembangunan palembang nilai triliun panjang kilometer. pemerintah bermaksud mencari sumber dana menopang pembangunan jabodebek menunjuk adhi karya investor sekaligus kontraktor. menteri bumn rini soemarno memberi sinyal menunjuk perusahaan bumn ikut menopang beban pendanaan jabodebek.</td>\n",
              "    </tr>\n",
              "  </tbody>\n",
              "</table>\n",
              "</div>"
            ],
            "text/plain": [
              "                                                                                                                                                                             labels  \\\n",
              "11570  [True, True, True, False, False, False, False, False, False, False, False, False, False, False, False, False, False, False, False, False, False, False, False, False, False]   \n",
              "\n",
              "                                                                                                                                                                                                                                                                                                                                                                                                                                                                                                                                                                                                                                                                                                                                                                                                                                                                                                                                                                                                                                                                                                                                                                                                                                                                                                                                                                                                                                                                                                                                                                                                                                                                                                                                                                                                                                                                                                                                                                                                                                                                                                                                                                                                                                                                                                                                                                                                                                                                                                                                                                                                                                                                                                                                                                                                                                                                                                                                                                                                                                                                                                                                                                                                                                                                                                                                                                                                                                                                                                                                       paragraphs  \\\n",
              "11570  Jakarta, CNN Indonesia - - PT Adhi Karya (Persero) Tbk resmi menandatangani kontrak proyek pembangunan kereta api jenis Light Rapid Transit (LRT) Jakarta - Bogor - Depok - Bekasi (Jabodebek) sepanjang 43 kilometer dengan nilai proyek mencapai Rp 23,3 triliun termasuk Pajak Pertambahan Nilai (PPN) sebesar 10 persen. Direktur Utama Adhi Karya Budi Harto mengungkapkan, penandatangan kontrak proyek terbagi atas dua tahap. Untuk saat ini, perusahaan baru menandatangani kontrak tahap satu dan kontrak tahap dua akan disepakati dalam waktu satu hingga dua tahun ke depan. \" Untuk tahap satu, dengan lintas layanan; Cawang - Cibubur, Cawang - Bekasi Timur, dan Cawang - Dukuh Atas, \" ujar Budi usai penandatangan secara tertutup di Kementerian Perhubungan (Kemenhub), Jumat (10 / 2). Sementara untuk tahap dua, Adhi Karya akan merampungkan jalur lintasan; Cibubur - Bogor, Dukuh Atas - Palmerah - Senayan, dan Palmerah - Grogol. Secara keseluruhan, Budi memastikan, pembangunan LRT Jabodebek tahap satu dan dua, akan tetap rampung pada 31 Mei 2019 sesuai dengan Peraturan Presiden (Perpres) Nomor 98 Tahun 2015. Tidak Berubah Namun begitu, ada beberapa hal yang menarik dari penandatangan kontrak proyek LRT Jabodebek yang dilakukan Adhi Karya dengan Direktur Jenderal Perkeretaapian Kemenhub Prasetyo Boeditjahjono siang tadi. Pertama, tanda tangan kontrak belum memposisikan Adhi Karya sebagai investor melainkan masih seperti perencanaan awal sebagai kontraktor. \" Di perjanjian ini masih kontraktor, belum diubah. Nanti, tunggu arahan lebih lanjut dari pemerintah karena pengalaman kita kan sebagai kontraktor, \" kata Budi. Padahal, Menteri Koordinator Bidang Perekonomian Luhut Binsar Panjaitan telah terang-terangan meminta perusahaan konstruksi pelat merah itu untuk ambil bagian menjadi investor dan Adhi Karya juga telah menyatakan kesediaan dan komitmennya menjadi investor sekaligus kontraktor dalam proyek. Kedua, kontrak tersebut belum memasukan skema pembiayaan, baik mekanisme maupun tata cara pembayaran untuk memastikan kebutuhan pendanaan proyek LRT Jabodebek telah memilih sumber-sumber pendanaan. \" Ini baru akan ditentukan dalam beberapa hari ini. Dalam satu bulan akan ditentukan. Model pembayaran lagi digodok pemerintah, \" jelas Budi. Sebelumnya Direktur Keuangan Adhi Karya Harris Gunawan telah menjelaskan bahwa perusahaan telah memasang kuda-kuda untuk mendapatkan pembiayaan. Yakni, dari pengajuan Penanaman Modal Negara (PMN), perilisan obligasi, dan pinjaman perbankan dalam negeri, baik Badan Usaha Milik Negara (BUMN) maupun swasta. Ketiga, rekanan Adhi Karya dalam membangun LRT Jabodebek belum pula ditentukan. Padahal, dalam wacana awal, proyek LRT Jabodebek akan memasang duet Adhi Karya dan PT Kereta Api Indonesia (Persero) atau KAI. \" Nanti menunggu arahan lebih lanjut dari pemerintah. Jadi, ini masih dalam proses tender, tender pengadaan sinyal, pengadaan rel, \" imbuh Budi. Seperti diketahui, pendanaan Anggaran Pendapatan dan Belanja Negara (APBN) hanya mampu menopang pembangunan LRT Palembang dengan nilai Rp 12 triliun dengan panjang 24,5 kilometer. Sehingga, pemerintah bermaksud mencari sumber dana lain untuk menopang pembangunan LRT Jabodebek, yakni dengan menunjuk Adhi Karya sebagai investor sekaligus kontraktor. Sementara Menteri BUMN Rini Soemarno memberi sinyal akan menunjuk perusahaan BUMN lain untuk ikut menopang beban pendanaan LRT Jabodebek.    \n",
              "\n",
              "                                                                                                                                                                                                                                                                                                                                                                                                                                                     summary  \\\n",
              "11570  PT Adhi Karya (Persero) Tbk resmi menandatangani kontrak proyek pembangunan Light Rapid Transit (LRT) Jabodebek sepanjang 43 kilometer dengan nilai proyek mencapai Rp 23,3 triliun termasuk PPN sebesar 10 %. Dirut   Adhi Karya Budi Harto mengungkapkan, penandatangan kontrak proyek terbagi atas dua tahap. Perusahaan baru menandatangani kontrak tahap satu dan kontrak tahap dua akan disepakati dalam waktu satu hingga dua tahun ke depan.    \n",
              "\n",
              "                                                                                                                                                                                                                                                                                                                                                                                                                                                                                                                                                                                                                                                                                                                                                                                                                                                                                                                                                                                                                                                                                                                                                                                                                                                                                                                                                                                                                                                                                                                                                                                                                                                                                                                                                                                                                                                                                                                                                                                                                                                                                                                                                                                                                                                                                                                                                                                                                                                                                                                                                                                                                                                                                     clean_text  \n",
              "11570  jakarta indonesia adhi karya persero resmi menandatangani kontrak proyek pembangunan kereta jenis light rapid transit jakarta bogor depok bekasi jabodebek sepanjang kilometer nilai proyek mencapai triliun termasuk pajak pertambahan nilai sebesar persen. direktur utama adhi karya budi harto mengungkapkan penandatangan kontrak proyek terbagi atas tahap. perusahaan baru menandatangani kontrak tahap satu kontrak tahap disepakati waktu satu hingga tahun depan. tahap satu lintas layanan cawang cibubur cawang bekasi timur cawang dukuh atas ujar budi usai penandatangan tertutup kementerian perhubungan kemenhub jumat. tahap adhi karya merampungkan jalur lintasan cibubur bogor dukuh atas palmerah senayan palmerah grogol. keseluruhan budi memastikan pembangunan jabodebek tahap satu tetap rampung sesuai peraturan presiden perpres nomor tahun. berubah beberapa menarik penandatangan kontrak proyek jabodebek dilakukan adhi karya direktur jenderal perkeretaapian kemenhub prasetyo boeditjahjono siang tadi. pertama tanda tangan kontrak memposisikan adhi karya investor perencanaan awal kontraktor. perjanjian kontraktor diubah. tunggu arahan lebih lanjut pemerintah pengalaman kontraktor kata budi. padahal menteri koordinator bidang perekonomian luhut binsar panjaitan terang terangan meminta perusahaan konstruksi pelat merah ambil bagian menjadi investor adhi karya menyatakan kesediaan komitmennya menjadi investor sekaligus kontraktor proyek. kedua kontrak tersebut memasukan skema pembiayaan baik mekanisme maupun tata cara pembayaran memastikan kebutuhan pendanaan proyek jabodebek memilih sumber sumber pendanaan. baru ditentukan beberapa hari. satu bulan ditentukan. model pembayaran digodok pemerintah jelas budi. sebelumnya direktur keuangan adhi karya harris gunawan menjelaskan perusahaan memasang kuda kuda mendapatkan pembiayaan. pengajuan penanaman modal negara perilisan obligasi pinjaman perbankan negeri baik badan usaha milik negara bumn maupun swasta. ketiga rekanan adhi karya membangun jabodebek ditentukan. padahal wacana awal proyek jabodebek memasang duet adhi karya kereta indonesia persero. menunggu arahan lebih lanjut pemerintah. jadi proses tender tender pengadaan sinyal pengadaan imbuh budi. diketahui pendanaan anggaran pendapatan belanja negara apbn mampu menopang pembangunan palembang nilai triliun panjang kilometer. pemerintah bermaksud mencari sumber dana menopang pembangunan jabodebek menunjuk adhi karya investor sekaligus kontraktor. menteri bumn rini soemarno memberi sinyal menunjuk perusahaan bumn ikut menopang beban pendanaan jabodebek.   "
            ]
          },
          "metadata": {
            "tags": []
          },
          "execution_count": 73
        }
      ]
    },
    {
      "cell_type": "code",
      "metadata": {
        "colab": {
          "base_uri": "https://localhost:8080/",
          "height": 726
        },
        "id": "iUFewCInojqn",
        "outputId": "ee62e268-885e-41c4-d339-0db935acfb5f"
      },
      "source": [
        "df_test.info()\n",
        "df_test.tail(1)"
      ],
      "execution_count": 72,
      "outputs": [
        {
          "output_type": "stream",
          "text": [
            "<class 'pandas.core.frame.DataFrame'>\n",
            "RangeIndex: 3762 entries, 0 to 3761\n",
            "Data columns (total 3 columns):\n",
            " #   Column      Non-Null Count  Dtype \n",
            "---  ------      --------------  ----- \n",
            " 0   labels      3762 non-null   object\n",
            " 1   paragraphs  3762 non-null   object\n",
            " 2   summary     3762 non-null   object\n",
            "dtypes: object(3)\n",
            "memory usage: 88.3+ KB\n"
          ],
          "name": "stdout"
        },
        {
          "output_type": "execute_result",
          "data": {
            "text/html": [
              "<div>\n",
              "<style scoped>\n",
              "    .dataframe tbody tr th:only-of-type {\n",
              "        vertical-align: middle;\n",
              "    }\n",
              "\n",
              "    .dataframe tbody tr th {\n",
              "        vertical-align: top;\n",
              "    }\n",
              "\n",
              "    .dataframe thead th {\n",
              "        text-align: right;\n",
              "    }\n",
              "</style>\n",
              "<table border=\"1\" class=\"dataframe\">\n",
              "  <thead>\n",
              "    <tr style=\"text-align: right;\">\n",
              "      <th></th>\n",
              "      <th>labels</th>\n",
              "      <th>paragraphs</th>\n",
              "      <th>summary</th>\n",
              "    </tr>\n",
              "  </thead>\n",
              "  <tbody>\n",
              "    <tr>\n",
              "      <th>3761</th>\n",
              "      <td>[True, False, False, False, False, False, False, False, False, False, True, True, False, False, False, False, False, False, False, False, False, False, False, False, False, False, False, False, False]</td>\n",
              "      <td>Merdeka.com - Artis senior Venna Melinda merayakan hari lahirnya yang ke - 45 pada hari Sabtu (29 / 7) kemarin. Alih - alih mengadakan pesta mewah, wanita yang kini tengah fokus di dunia politik itu memilih untuk menggelar acara syukuran bersama anak penyandang kanker di Yayasan Kanker Anak Indonesia (YKAKI) di kawasan Percetakan Negara,   Jakarta Pusat, Sabtu (29 / 7). Pada hari spesialnya itu, pihak keluarga Venna ikutan hadir meramaikan, termasuk juga para buah hatinya, Athalla Naufal, Verrell Bramasta dan Vania. Yang mengejutkan lagi adalah kehadiran Natasha Wilona, yang notabene tengah santer dikabarkan dekat dengan Verrell. \" Alhamdulilah semua   berjalan lancar. Keluarga aku juga kompak datang, ada Wilona juga, senang lah. Yang pasti ini bukan usia kecil lagi, aku sekarang udah punya tiga anak. Sekarang harus lebih tenang menjalani hidup. Kenapa sekarang harus lebih tenang, dulu kan lebih emosional, masih suka panikan. Sekarang berusaha lebih wise, \" ujar Venna seusai acara. Seperti diketahui, saat ini Venna tengah menyandang status janda setelah bercerai dari Ivan Fadilla tahun 2014 silam. Bintang sinetron Tersanjung 5 itu ternyata masih membuka hatinya untuk pria lain, meski saat ini lebih memilih untuk menikmati kebersamaannya bersama para buah hati lebih dulu. \" Kalau soal jodoh nggak kok. Karena aku nggak merasa sendirian. Ada Verrell, Athalla, Vania juga. Sekarang hidup aku rame jadi nggak sepi - sepi banget. Oh masih membuka (hati) kok. Cuma kan kalau di usia sekarang nggak bisa kayak orang di usia 20 ya yang harus cari-cari jodoh. Nunggu saja. Nanti kalau Tuhan sudah kasih nanti pasti tiba-tiba akan ada, \" sambungnya santai. Venna tak muluk-muluk dalam mencari pasangan hidup. Syaratnya cuma satu, siapapun calonnya nanti harus mau menerima status janda anak tiga yang saat ini disandang Venna. Lalu kira-kira sudah ada sosok yang cocok di hati? \" Nggak ada (kriteria) sih, cuma yang jelas harus bisa nerima aku dengan anak - anakku. Cari orang yang model begitu zaman sekarang ya nggak mudah. Apalagi dengan kedudukan aku, orang kadang ada yang ciut. Padahal biasa saja. Aduh, belum, belum ada yang sesuai, \" pungkasnya. ( kpl / abs / gtr )</td>\n",
              "      <td>Artis senior   Venna Melinda   merayakan hari lahirnya yang ke - 45, sabtu kemarin. Vena memilih untuk menggelar acara syukuran bersama anak penyandang kanker di YKAKI. Seperti diketahui, saat ini Venna tengah menyandang status janda setelah bercerai dari Ivan Fadilla tahun 2014 silam. Bintang sinetron ini ternyata masih membuka hatinya untuk pria lain.</td>\n",
              "    </tr>\n",
              "  </tbody>\n",
              "</table>\n",
              "</div>"
            ],
            "text/plain": [
              "                                                                                                                                                                                                        labels  \\\n",
              "3761  [True, False, False, False, False, False, False, False, False, False, True, True, False, False, False, False, False, False, False, False, False, False, False, False, False, False, False, False, False]   \n",
              "\n",
              "                                                                                                                                                                                                                                                                                                                                                                                                                                                                                                                                                                                                                                                                                                                                                                                                                                                                                                                                                                                                                                                                                                                                                                                                                                                                                                                                                                                                                                                                                                                                                                                                                                                                                                                                                                                                                                                                                                                                                                                                                                                                                                                                                                                                                                                                     paragraphs  \\\n",
              "3761  Merdeka.com - Artis senior Venna Melinda merayakan hari lahirnya yang ke - 45 pada hari Sabtu (29 / 7) kemarin. Alih - alih mengadakan pesta mewah, wanita yang kini tengah fokus di dunia politik itu memilih untuk menggelar acara syukuran bersama anak penyandang kanker di Yayasan Kanker Anak Indonesia (YKAKI) di kawasan Percetakan Negara,   Jakarta Pusat, Sabtu (29 / 7). Pada hari spesialnya itu, pihak keluarga Venna ikutan hadir meramaikan, termasuk juga para buah hatinya, Athalla Naufal, Verrell Bramasta dan Vania. Yang mengejutkan lagi adalah kehadiran Natasha Wilona, yang notabene tengah santer dikabarkan dekat dengan Verrell. \" Alhamdulilah semua   berjalan lancar. Keluarga aku juga kompak datang, ada Wilona juga, senang lah. Yang pasti ini bukan usia kecil lagi, aku sekarang udah punya tiga anak. Sekarang harus lebih tenang menjalani hidup. Kenapa sekarang harus lebih tenang, dulu kan lebih emosional, masih suka panikan. Sekarang berusaha lebih wise, \" ujar Venna seusai acara. Seperti diketahui, saat ini Venna tengah menyandang status janda setelah bercerai dari Ivan Fadilla tahun 2014 silam. Bintang sinetron Tersanjung 5 itu ternyata masih membuka hatinya untuk pria lain, meski saat ini lebih memilih untuk menikmati kebersamaannya bersama para buah hati lebih dulu. \" Kalau soal jodoh nggak kok. Karena aku nggak merasa sendirian. Ada Verrell, Athalla, Vania juga. Sekarang hidup aku rame jadi nggak sepi - sepi banget. Oh masih membuka (hati) kok. Cuma kan kalau di usia sekarang nggak bisa kayak orang di usia 20 ya yang harus cari-cari jodoh. Nunggu saja. Nanti kalau Tuhan sudah kasih nanti pasti tiba-tiba akan ada, \" sambungnya santai. Venna tak muluk-muluk dalam mencari pasangan hidup. Syaratnya cuma satu, siapapun calonnya nanti harus mau menerima status janda anak tiga yang saat ini disandang Venna. Lalu kira-kira sudah ada sosok yang cocok di hati? \" Nggak ada (kriteria) sih, cuma yang jelas harus bisa nerima aku dengan anak - anakku. Cari orang yang model begitu zaman sekarang ya nggak mudah. Apalagi dengan kedudukan aku, orang kadang ada yang ciut. Padahal biasa saja. Aduh, belum, belum ada yang sesuai, \" pungkasnya. ( kpl / abs / gtr )    \n",
              "\n",
              "                                                                                                                                                                                                                                                                                                                                                                   summary  \n",
              "3761  Artis senior   Venna Melinda   merayakan hari lahirnya yang ke - 45, sabtu kemarin. Vena memilih untuk menggelar acara syukuran bersama anak penyandang kanker di YKAKI. Seperti diketahui, saat ini Venna tengah menyandang status janda setelah bercerai dari Ivan Fadilla tahun 2014 silam. Bintang sinetron ini ternyata masih membuka hatinya untuk pria lain.   "
            ]
          },
          "metadata": {
            "tags": []
          },
          "execution_count": 72
        }
      ]
    },
    {
      "cell_type": "markdown",
      "metadata": {
        "id": "2q-ThZ10orR6"
      },
      "source": [
        "Wonderful! Now we can build our text summarization model.\n",
        "\n",
        "For next, we will tackle with TextRank and SumBasic to feed a neural network model.  "
      ]
    }
  ]
}